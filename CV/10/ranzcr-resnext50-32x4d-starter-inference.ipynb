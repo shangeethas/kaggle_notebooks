{
 "cells": [
  {
   "cell_type": "markdown",
   "metadata": {
    "papermill": {
     "duration": 0.014155,
     "end_time": "2020-12-20T14:29:57.818275",
     "exception": false,
     "start_time": "2020-12-20T14:29:57.804120",
     "status": "completed"
    },
    "tags": []
   },
   "source": [
    "# About this notebook\n",
    "- PyTorch resnext50_32x4d starter code\n",
    "- GroupKFold 4 folds\n",
    "- training code is [here](https://www.kaggle.com/yasufuminakama/ranzcr-resnext50-32x4d-starter-training)\n",
    "\n",
    "If this notebook is helpful, feel free to upvote :)"
   ]
  },
  {
   "cell_type": "markdown",
   "metadata": {
    "papermill": {
     "duration": 0.012601,
     "end_time": "2020-12-20T14:29:57.844019",
     "exception": false,
     "start_time": "2020-12-20T14:29:57.831418",
     "status": "completed"
    },
    "tags": []
   },
   "source": [
    "# Directory settings"
   ]
  },
  {
   "cell_type": "code",
   "execution_count": 1,
   "metadata": {
    "execution": {
     "iopub.execute_input": "2020-12-20T14:29:57.876760Z",
     "iopub.status.busy": "2020-12-20T14:29:57.875874Z",
     "iopub.status.idle": "2020-12-20T14:29:57.878914Z",
     "shell.execute_reply": "2020-12-20T14:29:57.878440Z"
    },
    "papermill": {
     "duration": 0.021981,
     "end_time": "2020-12-20T14:29:57.879002",
     "exception": false,
     "start_time": "2020-12-20T14:29:57.857021",
     "status": "completed"
    },
    "tags": []
   },
   "outputs": [],
   "source": [
    "# ====================================================\n",
    "# Directory settings\n",
    "# ====================================================\n",
    "import os\n",
    "\n",
    "MODEL_DIR = '../input/ranzcr-resnext50-starter-models/'\n",
    "OUTPUT_DIR = './'\n",
    "if not os.path.exists(OUTPUT_DIR):\n",
    "    os.makedirs(OUTPUT_DIR)\n",
    "\n",
    "TEST_PATH = '../input/ranzcr-clip-catheter-line-classification/test'"
   ]
  },
  {
   "cell_type": "markdown",
   "metadata": {
    "papermill": {
     "duration": 0.01261,
     "end_time": "2020-12-20T14:29:57.904997",
     "exception": false,
     "start_time": "2020-12-20T14:29:57.892387",
     "status": "completed"
    },
    "tags": []
   },
   "source": [
    "# CFG"
   ]
  },
  {
   "cell_type": "code",
   "execution_count": 2,
   "metadata": {
    "execution": {
     "iopub.execute_input": "2020-12-20T14:29:57.936933Z",
     "iopub.status.busy": "2020-12-20T14:29:57.936073Z",
     "iopub.status.idle": "2020-12-20T14:29:57.939085Z",
     "shell.execute_reply": "2020-12-20T14:29:57.938651Z"
    },
    "papermill": {
     "duration": 0.02134,
     "end_time": "2020-12-20T14:29:57.939169",
     "exception": false,
     "start_time": "2020-12-20T14:29:57.917829",
     "status": "completed"
    },
    "tags": []
   },
   "outputs": [],
   "source": [
    "# ====================================================\n",
    "# CFG\n",
    "# ====================================================\n",
    "class CFG:\n",
    "    debug=False\n",
    "    num_workers=4\n",
    "    model_name='resnext50_32x4d'\n",
    "    size=600\n",
    "    batch_size=64\n",
    "    seed=42\n",
    "    target_size=11\n",
    "    target_cols=['ETT - Abnormal', 'ETT - Borderline', 'ETT - Normal',\n",
    "                 'NGT - Abnormal', 'NGT - Borderline', 'NGT - Incompletely Imaged', 'NGT - Normal', \n",
    "                 'CVC - Abnormal', 'CVC - Borderline', 'CVC - Normal',\n",
    "                 'Swan Ganz Catheter Present']\n",
    "    n_fold=4\n",
    "    trn_fold=[0, 1, 2, 3]"
   ]
  },
  {
   "cell_type": "markdown",
   "metadata": {
    "papermill": {
     "duration": 0.013218,
     "end_time": "2020-12-20T14:29:57.965805",
     "exception": false,
     "start_time": "2020-12-20T14:29:57.952587",
     "status": "completed"
    },
    "tags": []
   },
   "source": [
    "# Library"
   ]
  },
  {
   "cell_type": "code",
   "execution_count": 3,
   "metadata": {
    "execution": {
     "iopub.execute_input": "2020-12-20T14:29:58.003471Z",
     "iopub.status.busy": "2020-12-20T14:29:58.002902Z",
     "iopub.status.idle": "2020-12-20T14:30:01.631919Z",
     "shell.execute_reply": "2020-12-20T14:30:01.631462Z"
    },
    "papermill": {
     "duration": 3.652572,
     "end_time": "2020-12-20T14:30:01.632018",
     "exception": false,
     "start_time": "2020-12-20T14:29:57.979446",
     "status": "completed"
    },
    "tags": []
   },
   "outputs": [],
   "source": [
    "# ====================================================\n",
    "# Library\n",
    "# ====================================================\n",
    "import sys\n",
    "sys.path.append('../input/pytorch-image-models/pytorch-image-models-master')\n",
    "\n",
    "import os\n",
    "import math\n",
    "import time\n",
    "import random\n",
    "import shutil\n",
    "from pathlib import Path\n",
    "from contextlib import contextmanager\n",
    "from collections import defaultdict, Counter\n",
    "\n",
    "import scipy as sp\n",
    "import numpy as np\n",
    "import pandas as pd\n",
    "\n",
    "from sklearn import preprocessing\n",
    "from sklearn.metrics import roc_auc_score\n",
    "from sklearn.model_selection import StratifiedKFold, GroupKFold, KFold\n",
    "\n",
    "from tqdm.auto import tqdm\n",
    "from functools import partial\n",
    "\n",
    "import cv2\n",
    "from PIL import Image\n",
    "\n",
    "from matplotlib import pyplot as plt\n",
    "\n",
    "import torch\n",
    "import torch.nn as nn\n",
    "import torch.nn.functional as F\n",
    "from torch.optim import Adam, SGD\n",
    "import torchvision.models as models\n",
    "from torch.nn.parameter import Parameter\n",
    "from torch.utils.data import DataLoader, Dataset\n",
    "from torch.optim.lr_scheduler import CosineAnnealingWarmRestarts, CosineAnnealingLR, ReduceLROnPlateau\n",
    "\n",
    "from albumentations import (\n",
    "    Compose, OneOf, Normalize, Resize, RandomResizedCrop, RandomCrop, HorizontalFlip, VerticalFlip, \n",
    "    RandomBrightness, RandomContrast, RandomBrightnessContrast, Rotate, ShiftScaleRotate, Cutout, \n",
    "    IAAAdditiveGaussianNoise, Transpose\n",
    "    )\n",
    "from albumentations.pytorch import ToTensorV2\n",
    "from albumentations import ImageOnlyTransform\n",
    "\n",
    "import timm\n",
    "\n",
    "from torch.cuda.amp import autocast, GradScaler\n",
    "\n",
    "import warnings \n",
    "warnings.filterwarnings('ignore')\n",
    "\n",
    "device = torch.device('cuda' if torch.cuda.is_available() else 'cpu')"
   ]
  },
  {
   "cell_type": "markdown",
   "metadata": {
    "papermill": {
     "duration": 0.012484,
     "end_time": "2020-12-20T14:30:01.657310",
     "exception": false,
     "start_time": "2020-12-20T14:30:01.644826",
     "status": "completed"
    },
    "tags": []
   },
   "source": [
    "# Utils"
   ]
  },
  {
   "cell_type": "code",
   "execution_count": 4,
   "metadata": {
    "execution": {
     "iopub.execute_input": "2020-12-20T14:30:01.696365Z",
     "iopub.status.busy": "2020-12-20T14:30:01.695740Z",
     "iopub.status.idle": "2020-12-20T14:30:01.701542Z",
     "shell.execute_reply": "2020-12-20T14:30:01.701083Z"
    },
    "papermill": {
     "duration": 0.031723,
     "end_time": "2020-12-20T14:30:01.701633",
     "exception": false,
     "start_time": "2020-12-20T14:30:01.669910",
     "status": "completed"
    },
    "tags": []
   },
   "outputs": [],
   "source": [
    "# ====================================================\n",
    "# Utils\n",
    "# ====================================================\n",
    "def get_score(y_true, y_pred):\n",
    "    scores = []\n",
    "    for i in range(y_true.shape[1]):\n",
    "        score = roc_auc_score(y_true[:,i], y_pred[:,i])\n",
    "        scores.append(score)\n",
    "    avg_score = np.mean(scores)\n",
    "    return avg_score, scores\n",
    "\n",
    "\n",
    "def get_result(result_df):\n",
    "    preds = result_df[[f'pred_{c}' for c in CFG.target_cols]].values\n",
    "    labels = result_df[CFG.target_cols].values\n",
    "    score, scores = get_score(labels, preds)\n",
    "    LOGGER.info(f'Score: {score:<.4f}  Scores: {np.round(scores, decimals=4)}')\n",
    "\n",
    "\n",
    "@contextmanager\n",
    "def timer(name):\n",
    "    t0 = time.time()\n",
    "    LOGGER.info(f'[{name}] start')\n",
    "    yield\n",
    "    LOGGER.info(f'[{name}] done in {time.time() - t0:.0f} s.')\n",
    "\n",
    "\n",
    "def init_logger(log_file=OUTPUT_DIR+'inference.log'):\n",
    "    from logging import getLogger, INFO, FileHandler,  Formatter,  StreamHandler\n",
    "    logger = getLogger(__name__)\n",
    "    logger.setLevel(INFO)\n",
    "    handler1 = StreamHandler()\n",
    "    handler1.setFormatter(Formatter(\"%(message)s\"))\n",
    "    handler2 = FileHandler(filename=log_file)\n",
    "    handler2.setFormatter(Formatter(\"%(message)s\"))\n",
    "    logger.addHandler(handler1)\n",
    "    logger.addHandler(handler2)\n",
    "    return logger\n",
    "\n",
    "LOGGER = init_logger()\n",
    "\n",
    "\n",
    "def seed_torch(seed=42):\n",
    "    random.seed(seed)\n",
    "    os.environ['PYTHONHASHSEED'] = str(seed)\n",
    "    np.random.seed(seed)\n",
    "    torch.manual_seed(seed)\n",
    "    torch.cuda.manual_seed(seed)\n",
    "    torch.backends.cudnn.deterministic = True\n",
    "\n",
    "seed_torch(seed=CFG.seed)"
   ]
  },
  {
   "cell_type": "markdown",
   "metadata": {
    "papermill": {
     "duration": 0.012277,
     "end_time": "2020-12-20T14:30:01.726276",
     "exception": false,
     "start_time": "2020-12-20T14:30:01.713999",
     "status": "completed"
    },
    "tags": []
   },
   "source": [
    "# Data Loading"
   ]
  },
  {
   "cell_type": "code",
   "execution_count": 5,
   "metadata": {
    "execution": {
     "iopub.execute_input": "2020-12-20T14:30:01.758467Z",
     "iopub.status.busy": "2020-12-20T14:30:01.757934Z",
     "iopub.status.idle": "2020-12-20T14:30:01.931127Z",
     "shell.execute_reply": "2020-12-20T14:30:01.931928Z"
    },
    "papermill": {
     "duration": 0.193329,
     "end_time": "2020-12-20T14:30:01.932065",
     "exception": false,
     "start_time": "2020-12-20T14:30:01.738736",
     "status": "completed"
    },
    "tags": []
   },
   "outputs": [
    {
     "data": {
      "text/plain": [
       "fold\n",
       "0    7521\n",
       "1    7521\n",
       "2    7521\n",
       "3    7520\n",
       "dtype: int64"
      ]
     },
     "metadata": {},
     "output_type": "display_data"
    }
   ],
   "source": [
    "train = pd.read_csv('../input/ranzcr-clip-catheter-line-classification/train.csv')\n",
    "folds = train.copy()\n",
    "Fold = GroupKFold(n_splits=CFG.n_fold)\n",
    "groups = folds['PatientID'].values\n",
    "for n, (train_index, val_index) in enumerate(Fold.split(folds, folds[CFG.target_cols], groups)):\n",
    "    folds.loc[val_index, 'fold'] = int(n)\n",
    "folds['fold'] = folds['fold'].astype(int)\n",
    "display(folds.groupby('fold').size())"
   ]
  },
  {
   "cell_type": "code",
   "execution_count": 6,
   "metadata": {
    "execution": {
     "iopub.execute_input": "2020-12-20T14:30:01.970269Z",
     "iopub.status.busy": "2020-12-20T14:30:01.969572Z",
     "iopub.status.idle": "2020-12-20T14:30:10.997405Z",
     "shell.execute_reply": "2020-12-20T14:30:10.996819Z"
    },
    "papermill": {
     "duration": 9.049941,
     "end_time": "2020-12-20T14:30:10.997521",
     "exception": false,
     "start_time": "2020-12-20T14:30:01.947580",
     "status": "completed"
    },
    "tags": []
   },
   "outputs": [
    {
     "name": "stderr",
     "output_type": "stream",
     "text": [
      "========== fold: 0 result ==========\n",
      "Score: 0.9358  Scores: [0.9385 0.9434 0.9893 0.9466 0.9448 0.9786 0.98   0.8888 0.8125 0.8764\n",
      " 0.9946]\n",
      "========== fold: 1 result ==========\n",
      "Score: 0.9356  Scores: [0.9311 0.9604 0.9892 0.931  0.9323 0.9723 0.9827 0.8872 0.8166 0.8897\n",
      " 0.9996]\n",
      "========== fold: 2 result ==========\n",
      "Score: 0.9390  Scores: [0.9777 0.95   0.9879 0.9383 0.9229 0.978  0.9822 0.886  0.8233 0.8828\n",
      " 0.9998]\n",
      "========== fold: 3 result ==========\n",
      "Score: 0.9351  Scores: [0.9697 0.9432 0.9904 0.9286 0.9303 0.9803 0.9812 0.8768 0.8045 0.8835\n",
      " 0.9973]\n",
      "========== CV ==========\n",
      "Score: 0.9353  Scores: [0.9468 0.9496 0.989  0.9367 0.9313 0.9774 0.981  0.8842 0.8136 0.882\n",
      " 0.9972]\n"
     ]
    }
   ],
   "source": [
    "oof_df = pd.DataFrame()\n",
    "for fold in CFG.trn_fold:\n",
    "    valid_folds = folds[folds['fold']==fold].reset_index(drop=True)\n",
    "    check_point = torch.load(MODEL_DIR+f'{CFG.model_name}_fold{fold}_best.pth', map_location=device)\n",
    "    for c in [f'pred_{c}' for c in CFG.target_cols]:\n",
    "        valid_folds[c] = np.nan\n",
    "    valid_folds[[f'pred_{c}' for c in CFG.target_cols]] = check_point['preds']\n",
    "    LOGGER.info(f\"========== fold: {fold} result ==========\")\n",
    "    get_result(valid_folds)\n",
    "    oof_df = pd.concat([oof_df, valid_folds])\n",
    "oof_df = oof_df.reset_index(drop=True)\n",
    "LOGGER.info(f\"========== CV ==========\")\n",
    "get_result(oof_df)"
   ]
  },
  {
   "cell_type": "code",
   "execution_count": 7,
   "metadata": {
    "execution": {
     "iopub.execute_input": "2020-12-20T14:30:11.038360Z",
     "iopub.status.busy": "2020-12-20T14:30:11.037838Z",
     "iopub.status.idle": "2020-12-20T14:30:11.068551Z",
     "shell.execute_reply": "2020-12-20T14:30:11.068111Z"
    },
    "papermill": {
     "duration": 0.054904,
     "end_time": "2020-12-20T14:30:11.068647",
     "exception": false,
     "start_time": "2020-12-20T14:30:11.013743",
     "status": "completed"
    },
    "tags": []
   },
   "outputs": [
    {
     "name": "stdout",
     "output_type": "stream",
     "text": [
      "(3582, 12)\n"
     ]
    },
    {
     "data": {
      "text/html": [
       "<div>\n",
       "<style scoped>\n",
       "    .dataframe tbody tr th:only-of-type {\n",
       "        vertical-align: middle;\n",
       "    }\n",
       "\n",
       "    .dataframe tbody tr th {\n",
       "        vertical-align: top;\n",
       "    }\n",
       "\n",
       "    .dataframe thead th {\n",
       "        text-align: right;\n",
       "    }\n",
       "</style>\n",
       "<table border=\"1\" class=\"dataframe\">\n",
       "  <thead>\n",
       "    <tr style=\"text-align: right;\">\n",
       "      <th></th>\n",
       "      <th>StudyInstanceUID</th>\n",
       "      <th>ETT - Abnormal</th>\n",
       "      <th>ETT - Borderline</th>\n",
       "      <th>ETT - Normal</th>\n",
       "      <th>NGT - Abnormal</th>\n",
       "      <th>NGT - Borderline</th>\n",
       "      <th>NGT - Incompletely Imaged</th>\n",
       "      <th>NGT - Normal</th>\n",
       "      <th>CVC - Abnormal</th>\n",
       "      <th>CVC - Borderline</th>\n",
       "      <th>CVC - Normal</th>\n",
       "      <th>Swan Ganz Catheter Present</th>\n",
       "    </tr>\n",
       "  </thead>\n",
       "  <tbody>\n",
       "    <tr>\n",
       "      <th>0</th>\n",
       "      <td>1.2.826.0.1.3680043.8.498.46923145579096002617...</td>\n",
       "      <td>0</td>\n",
       "      <td>0</td>\n",
       "      <td>0</td>\n",
       "      <td>0</td>\n",
       "      <td>0</td>\n",
       "      <td>0</td>\n",
       "      <td>0</td>\n",
       "      <td>0</td>\n",
       "      <td>0</td>\n",
       "      <td>0</td>\n",
       "      <td>0</td>\n",
       "    </tr>\n",
       "    <tr>\n",
       "      <th>1</th>\n",
       "      <td>1.2.826.0.1.3680043.8.498.84006870182611080091...</td>\n",
       "      <td>0</td>\n",
       "      <td>0</td>\n",
       "      <td>0</td>\n",
       "      <td>0</td>\n",
       "      <td>0</td>\n",
       "      <td>0</td>\n",
       "      <td>0</td>\n",
       "      <td>0</td>\n",
       "      <td>0</td>\n",
       "      <td>0</td>\n",
       "      <td>0</td>\n",
       "    </tr>\n",
       "    <tr>\n",
       "      <th>2</th>\n",
       "      <td>1.2.826.0.1.3680043.8.498.12219033294413119947...</td>\n",
       "      <td>0</td>\n",
       "      <td>0</td>\n",
       "      <td>0</td>\n",
       "      <td>0</td>\n",
       "      <td>0</td>\n",
       "      <td>0</td>\n",
       "      <td>0</td>\n",
       "      <td>0</td>\n",
       "      <td>0</td>\n",
       "      <td>0</td>\n",
       "      <td>0</td>\n",
       "    </tr>\n",
       "    <tr>\n",
       "      <th>3</th>\n",
       "      <td>1.2.826.0.1.3680043.8.498.84994474380235968109...</td>\n",
       "      <td>0</td>\n",
       "      <td>0</td>\n",
       "      <td>0</td>\n",
       "      <td>0</td>\n",
       "      <td>0</td>\n",
       "      <td>0</td>\n",
       "      <td>0</td>\n",
       "      <td>0</td>\n",
       "      <td>0</td>\n",
       "      <td>0</td>\n",
       "      <td>0</td>\n",
       "    </tr>\n",
       "    <tr>\n",
       "      <th>4</th>\n",
       "      <td>1.2.826.0.1.3680043.8.498.35798987793805669662...</td>\n",
       "      <td>0</td>\n",
       "      <td>0</td>\n",
       "      <td>0</td>\n",
       "      <td>0</td>\n",
       "      <td>0</td>\n",
       "      <td>0</td>\n",
       "      <td>0</td>\n",
       "      <td>0</td>\n",
       "      <td>0</td>\n",
       "      <td>0</td>\n",
       "      <td>0</td>\n",
       "    </tr>\n",
       "  </tbody>\n",
       "</table>\n",
       "</div>"
      ],
      "text/plain": [
       "                                    StudyInstanceUID  ETT - Abnormal  \\\n",
       "0  1.2.826.0.1.3680043.8.498.46923145579096002617...               0   \n",
       "1  1.2.826.0.1.3680043.8.498.84006870182611080091...               0   \n",
       "2  1.2.826.0.1.3680043.8.498.12219033294413119947...               0   \n",
       "3  1.2.826.0.1.3680043.8.498.84994474380235968109...               0   \n",
       "4  1.2.826.0.1.3680043.8.498.35798987793805669662...               0   \n",
       "\n",
       "   ETT - Borderline  ETT - Normal  NGT - Abnormal  NGT - Borderline  \\\n",
       "0                 0             0               0                 0   \n",
       "1                 0             0               0                 0   \n",
       "2                 0             0               0                 0   \n",
       "3                 0             0               0                 0   \n",
       "4                 0             0               0                 0   \n",
       "\n",
       "   NGT - Incompletely Imaged  NGT - Normal  CVC - Abnormal  CVC - Borderline  \\\n",
       "0                          0             0               0                 0   \n",
       "1                          0             0               0                 0   \n",
       "2                          0             0               0                 0   \n",
       "3                          0             0               0                 0   \n",
       "4                          0             0               0                 0   \n",
       "\n",
       "   CVC - Normal  Swan Ganz Catheter Present  \n",
       "0             0                           0  \n",
       "1             0                           0  \n",
       "2             0                           0  \n",
       "3             0                           0  \n",
       "4             0                           0  "
      ]
     },
     "execution_count": 7,
     "metadata": {},
     "output_type": "execute_result"
    }
   ],
   "source": [
    "test = pd.read_csv('../input/ranzcr-clip-catheter-line-classification/sample_submission.csv')\n",
    "print(test.shape)\n",
    "test.head()"
   ]
  },
  {
   "cell_type": "code",
   "execution_count": 8,
   "metadata": {
    "execution": {
     "iopub.execute_input": "2020-12-20T14:30:11.106924Z",
     "iopub.status.busy": "2020-12-20T14:30:11.106426Z",
     "iopub.status.idle": "2020-12-20T14:30:11.110108Z",
     "shell.execute_reply": "2020-12-20T14:30:11.109714Z"
    },
    "papermill": {
     "duration": 0.024445,
     "end_time": "2020-12-20T14:30:11.110218",
     "exception": false,
     "start_time": "2020-12-20T14:30:11.085773",
     "status": "completed"
    },
    "tags": []
   },
   "outputs": [],
   "source": [
    "if CFG.debug:\n",
    "    test = test.head()"
   ]
  },
  {
   "cell_type": "markdown",
   "metadata": {
    "papermill": {
     "duration": 0.016835,
     "end_time": "2020-12-20T14:30:11.144280",
     "exception": false,
     "start_time": "2020-12-20T14:30:11.127445",
     "status": "completed"
    },
    "tags": []
   },
   "source": [
    "# Dataset"
   ]
  },
  {
   "cell_type": "code",
   "execution_count": 9,
   "metadata": {
    "execution": {
     "iopub.execute_input": "2020-12-20T14:30:11.186001Z",
     "iopub.status.busy": "2020-12-20T14:30:11.185474Z",
     "iopub.status.idle": "2020-12-20T14:30:11.188767Z",
     "shell.execute_reply": "2020-12-20T14:30:11.189625Z"
    },
    "papermill": {
     "duration": 0.028526,
     "end_time": "2020-12-20T14:30:11.189736",
     "exception": false,
     "start_time": "2020-12-20T14:30:11.161210",
     "status": "completed"
    },
    "tags": []
   },
   "outputs": [],
   "source": [
    "# ====================================================\n",
    "# Dataset\n",
    "# ====================================================\n",
    "class TestDataset(Dataset):\n",
    "    def __init__(self, df, transform=None):\n",
    "        self.df = df\n",
    "        self.file_names = df['StudyInstanceUID'].values\n",
    "        self.transform = transform\n",
    "        \n",
    "    def __len__(self):\n",
    "        return len(self.df)\n",
    "\n",
    "    def __getitem__(self, idx):\n",
    "        file_name = self.file_names[idx]\n",
    "        file_path = f'{TEST_PATH}/{file_name}.jpg'\n",
    "        image = cv2.imread(file_path)\n",
    "        image = cv2.cvtColor(image, cv2.COLOR_BGR2RGB)\n",
    "        if self.transform:\n",
    "            augmented = self.transform(image=image)\n",
    "            image = augmented['image']\n",
    "        return image"
   ]
  },
  {
   "cell_type": "markdown",
   "metadata": {
    "papermill": {
     "duration": 0.017635,
     "end_time": "2020-12-20T14:30:11.225590",
     "exception": false,
     "start_time": "2020-12-20T14:30:11.207955",
     "status": "completed"
    },
    "tags": []
   },
   "source": [
    "# Transforms"
   ]
  },
  {
   "cell_type": "code",
   "execution_count": 10,
   "metadata": {
    "execution": {
     "iopub.execute_input": "2020-12-20T14:30:11.267983Z",
     "iopub.status.busy": "2020-12-20T14:30:11.266856Z",
     "iopub.status.idle": "2020-12-20T14:30:11.269686Z",
     "shell.execute_reply": "2020-12-20T14:30:11.269279Z"
    },
    "papermill": {
     "duration": 0.027008,
     "end_time": "2020-12-20T14:30:11.269768",
     "exception": false,
     "start_time": "2020-12-20T14:30:11.242760",
     "status": "completed"
    },
    "tags": []
   },
   "outputs": [],
   "source": [
    "# ====================================================\n",
    "# Transforms\n",
    "# ====================================================\n",
    "def get_transforms(*, data):\n",
    "    \n",
    "    if data == 'train':\n",
    "        return Compose([\n",
    "            Resize(CFG.size, CFG.size),\n",
    "            Normalize(\n",
    "                mean=[0.485, 0.456, 0.406],\n",
    "                std=[0.229, 0.224, 0.225],\n",
    "            ),\n",
    "            ToTensorV2(),\n",
    "        ])\n",
    "\n",
    "    elif data == 'valid':\n",
    "        return Compose([\n",
    "            Resize(CFG.size, CFG.size),\n",
    "            Normalize(\n",
    "                mean=[0.485, 0.456, 0.406],\n",
    "                std=[0.229, 0.224, 0.225],\n",
    "            ),\n",
    "            ToTensorV2(),\n",
    "        ])"
   ]
  },
  {
   "cell_type": "markdown",
   "metadata": {
    "papermill": {
     "duration": 0.017023,
     "end_time": "2020-12-20T14:30:11.303644",
     "exception": false,
     "start_time": "2020-12-20T14:30:11.286621",
     "status": "completed"
    },
    "tags": []
   },
   "source": [
    "# MODEL"
   ]
  },
  {
   "cell_type": "code",
   "execution_count": 11,
   "metadata": {
    "execution": {
     "iopub.execute_input": "2020-12-20T14:30:11.345253Z",
     "iopub.status.busy": "2020-12-20T14:30:11.343918Z",
     "iopub.status.idle": "2020-12-20T14:30:11.346375Z",
     "shell.execute_reply": "2020-12-20T14:30:11.346787Z"
    },
    "papermill": {
     "duration": 0.026001,
     "end_time": "2020-12-20T14:30:11.346883",
     "exception": false,
     "start_time": "2020-12-20T14:30:11.320882",
     "status": "completed"
    },
    "tags": []
   },
   "outputs": [],
   "source": [
    "# ====================================================\n",
    "# MODEL\n",
    "# ====================================================\n",
    "class CustomResNext(nn.Module):\n",
    "    def __init__(self, model_name='resnext50_32x4d', pretrained=False):\n",
    "        super().__init__()\n",
    "        self.model = timm.create_model(model_name, pretrained=pretrained)\n",
    "        n_features = self.model.fc.in_features\n",
    "        self.model.fc = nn.Linear(n_features, CFG.target_size)\n",
    "\n",
    "    def forward(self, x):\n",
    "        x = self.model(x)\n",
    "        return x"
   ]
  },
  {
   "cell_type": "markdown",
   "metadata": {
    "papermill": {
     "duration": 0.016795,
     "end_time": "2020-12-20T14:30:11.380685",
     "exception": false,
     "start_time": "2020-12-20T14:30:11.363890",
     "status": "completed"
    },
    "tags": []
   },
   "source": [
    "# Helper functions"
   ]
  },
  {
   "cell_type": "code",
   "execution_count": 12,
   "metadata": {
    "execution": {
     "iopub.execute_input": "2020-12-20T14:30:11.423314Z",
     "iopub.status.busy": "2020-12-20T14:30:11.422754Z",
     "iopub.status.idle": "2020-12-20T14:30:11.426112Z",
     "shell.execute_reply": "2020-12-20T14:30:11.426497Z"
    },
    "papermill": {
     "duration": 0.028732,
     "end_time": "2020-12-20T14:30:11.426598",
     "exception": false,
     "start_time": "2020-12-20T14:30:11.397866",
     "status": "completed"
    },
    "tags": []
   },
   "outputs": [],
   "source": [
    "# ====================================================\n",
    "# Helper functions\n",
    "# ====================================================\n",
    "def inference(model, states, test_loader, device):\n",
    "    model.to(device)\n",
    "    tk0 = tqdm(enumerate(test_loader), total=len(test_loader))\n",
    "    probs = []\n",
    "    for i, (images) in tk0:\n",
    "        images = images.to(device)\n",
    "        avg_preds = []\n",
    "        for state in states:\n",
    "            model.load_state_dict(state['model'])\n",
    "            model.eval()\n",
    "            with torch.no_grad():\n",
    "                y_preds = model(images)\n",
    "            avg_preds.append(y_preds.sigmoid().to('cpu').numpy())\n",
    "        avg_preds = np.mean(avg_preds, axis=0)\n",
    "        probs.append(avg_preds)\n",
    "    probs = np.concatenate(probs)\n",
    "    return probs"
   ]
  },
  {
   "cell_type": "markdown",
   "metadata": {
    "papermill": {
     "duration": 0.01687,
     "end_time": "2020-12-20T14:30:11.460548",
     "exception": false,
     "start_time": "2020-12-20T14:30:11.443678",
     "status": "completed"
    },
    "tags": []
   },
   "source": [
    "# inference"
   ]
  },
  {
   "cell_type": "code",
   "execution_count": 13,
   "metadata": {
    "_cell_guid": "79c7e3d0-c299-4dcb-8224-4455121ee9b0",
    "_uuid": "d629ff2d2480ee46fbb7e2d37f6b5fab8052498a",
    "execution": {
     "iopub.execute_input": "2020-12-20T14:30:11.511291Z",
     "iopub.status.busy": "2020-12-20T14:30:11.510693Z",
     "iopub.status.idle": "2020-12-20T14:34:11.305429Z",
     "shell.execute_reply": "2020-12-20T14:34:11.304442Z"
    },
    "papermill": {
     "duration": 239.82791,
     "end_time": "2020-12-20T14:34:11.305603",
     "exception": false,
     "start_time": "2020-12-20T14:30:11.477693",
     "status": "completed"
    },
    "tags": []
   },
   "outputs": [
    {
     "data": {
      "application/vnd.jupyter.widget-view+json": {
       "model_id": "7248f4842cf94563812d6f5dffac486f",
       "version_major": 2,
       "version_minor": 0
      },
      "text/plain": [
       "HBox(children=(FloatProgress(value=0.0, max=56.0), HTML(value='')))"
      ]
     },
     "metadata": {},
     "output_type": "display_data"
    },
    {
     "name": "stdout",
     "output_type": "stream",
     "text": [
      "\n"
     ]
    },
    {
     "data": {
      "text/html": [
       "<div>\n",
       "<style scoped>\n",
       "    .dataframe tbody tr th:only-of-type {\n",
       "        vertical-align: middle;\n",
       "    }\n",
       "\n",
       "    .dataframe tbody tr th {\n",
       "        vertical-align: top;\n",
       "    }\n",
       "\n",
       "    .dataframe thead th {\n",
       "        text-align: right;\n",
       "    }\n",
       "</style>\n",
       "<table border=\"1\" class=\"dataframe\">\n",
       "  <thead>\n",
       "    <tr style=\"text-align: right;\">\n",
       "      <th></th>\n",
       "      <th>StudyInstanceUID</th>\n",
       "      <th>ETT - Abnormal</th>\n",
       "      <th>ETT - Borderline</th>\n",
       "      <th>ETT - Normal</th>\n",
       "      <th>NGT - Abnormal</th>\n",
       "      <th>NGT - Borderline</th>\n",
       "      <th>NGT - Incompletely Imaged</th>\n",
       "      <th>NGT - Normal</th>\n",
       "      <th>CVC - Abnormal</th>\n",
       "      <th>CVC - Borderline</th>\n",
       "      <th>CVC - Normal</th>\n",
       "      <th>Swan Ganz Catheter Present</th>\n",
       "    </tr>\n",
       "  </thead>\n",
       "  <tbody>\n",
       "    <tr>\n",
       "      <th>0</th>\n",
       "      <td>1.2.826.0.1.3680043.8.498.46923145579096002617...</td>\n",
       "      <td>0.022955</td>\n",
       "      <td>0.320129</td>\n",
       "      <td>0.446900</td>\n",
       "      <td>0.003614</td>\n",
       "      <td>0.008296</td>\n",
       "      <td>0.012233</td>\n",
       "      <td>0.969640</td>\n",
       "      <td>0.026637</td>\n",
       "      <td>0.163978</td>\n",
       "      <td>0.920162</td>\n",
       "      <td>0.995663</td>\n",
       "    </tr>\n",
       "    <tr>\n",
       "      <th>1</th>\n",
       "      <td>1.2.826.0.1.3680043.8.498.84006870182611080091...</td>\n",
       "      <td>0.000093</td>\n",
       "      <td>0.000134</td>\n",
       "      <td>0.000266</td>\n",
       "      <td>0.000209</td>\n",
       "      <td>0.000217</td>\n",
       "      <td>0.000174</td>\n",
       "      <td>0.000036</td>\n",
       "      <td>0.008468</td>\n",
       "      <td>0.008703</td>\n",
       "      <td>0.992876</td>\n",
       "      <td>0.000026</td>\n",
       "    </tr>\n",
       "    <tr>\n",
       "      <th>2</th>\n",
       "      <td>1.2.826.0.1.3680043.8.498.12219033294413119947...</td>\n",
       "      <td>0.000221</td>\n",
       "      <td>0.000134</td>\n",
       "      <td>0.000230</td>\n",
       "      <td>0.000864</td>\n",
       "      <td>0.000494</td>\n",
       "      <td>0.000177</td>\n",
       "      <td>0.000070</td>\n",
       "      <td>0.006304</td>\n",
       "      <td>0.242417</td>\n",
       "      <td>0.855929</td>\n",
       "      <td>0.000078</td>\n",
       "    </tr>\n",
       "    <tr>\n",
       "      <th>3</th>\n",
       "      <td>1.2.826.0.1.3680043.8.498.84994474380235968109...</td>\n",
       "      <td>0.005454</td>\n",
       "      <td>0.023865</td>\n",
       "      <td>0.031240</td>\n",
       "      <td>0.075304</td>\n",
       "      <td>0.026674</td>\n",
       "      <td>0.932984</td>\n",
       "      <td>0.036249</td>\n",
       "      <td>0.166078</td>\n",
       "      <td>0.217388</td>\n",
       "      <td>0.783399</td>\n",
       "      <td>0.013359</td>\n",
       "    </tr>\n",
       "    <tr>\n",
       "      <th>4</th>\n",
       "      <td>1.2.826.0.1.3680043.8.498.35798987793805669662...</td>\n",
       "      <td>0.000440</td>\n",
       "      <td>0.000646</td>\n",
       "      <td>0.000951</td>\n",
       "      <td>0.000985</td>\n",
       "      <td>0.003028</td>\n",
       "      <td>0.000067</td>\n",
       "      <td>0.001673</td>\n",
       "      <td>0.007896</td>\n",
       "      <td>0.104416</td>\n",
       "      <td>0.965150</td>\n",
       "      <td>0.000086</td>\n",
       "    </tr>\n",
       "  </tbody>\n",
       "</table>\n",
       "</div>"
      ],
      "text/plain": [
       "                                    StudyInstanceUID  ETT - Abnormal  \\\n",
       "0  1.2.826.0.1.3680043.8.498.46923145579096002617...        0.022955   \n",
       "1  1.2.826.0.1.3680043.8.498.84006870182611080091...        0.000093   \n",
       "2  1.2.826.0.1.3680043.8.498.12219033294413119947...        0.000221   \n",
       "3  1.2.826.0.1.3680043.8.498.84994474380235968109...        0.005454   \n",
       "4  1.2.826.0.1.3680043.8.498.35798987793805669662...        0.000440   \n",
       "\n",
       "   ETT - Borderline  ETT - Normal  NGT - Abnormal  NGT - Borderline  \\\n",
       "0          0.320129      0.446900        0.003614          0.008296   \n",
       "1          0.000134      0.000266        0.000209          0.000217   \n",
       "2          0.000134      0.000230        0.000864          0.000494   \n",
       "3          0.023865      0.031240        0.075304          0.026674   \n",
       "4          0.000646      0.000951        0.000985          0.003028   \n",
       "\n",
       "   NGT - Incompletely Imaged  NGT - Normal  CVC - Abnormal  CVC - Borderline  \\\n",
       "0                   0.012233      0.969640        0.026637          0.163978   \n",
       "1                   0.000174      0.000036        0.008468          0.008703   \n",
       "2                   0.000177      0.000070        0.006304          0.242417   \n",
       "3                   0.932984      0.036249        0.166078          0.217388   \n",
       "4                   0.000067      0.001673        0.007896          0.104416   \n",
       "\n",
       "   CVC - Normal  Swan Ganz Catheter Present  \n",
       "0      0.920162                    0.995663  \n",
       "1      0.992876                    0.000026  \n",
       "2      0.855929                    0.000078  \n",
       "3      0.783399                    0.013359  \n",
       "4      0.965150                    0.000086  "
      ]
     },
     "execution_count": 13,
     "metadata": {},
     "output_type": "execute_result"
    }
   ],
   "source": [
    "# ====================================================\n",
    "# inference\n",
    "# ====================================================\n",
    "model = CustomResNext(CFG.model_name, pretrained=False)\n",
    "states = [torch.load(MODEL_DIR+f'{CFG.model_name}_fold{fold}_best.pth') for fold in CFG.trn_fold]\n",
    "test_dataset = TestDataset(test, transform=get_transforms(data='valid'))\n",
    "test_loader = DataLoader(test_dataset, batch_size=CFG.batch_size, shuffle=False, \n",
    "                         num_workers=CFG.num_workers, pin_memory=True)\n",
    "predictions = inference(model, states, test_loader, device)\n",
    "# submission\n",
    "test[CFG.target_cols] = predictions\n",
    "test[['StudyInstanceUID'] + CFG.target_cols].to_csv(OUTPUT_DIR+'submission.csv', index=False)\n",
    "test.head()"
   ]
  }
 ],
 "metadata": {
  "kernelspec": {
   "display_name": "Python 3",
   "language": "python",
   "name": "python3"
  },
  "language_info": {
   "codemirror_mode": {
    "name": "ipython",
    "version": 3
   },
   "file_extension": ".py",
   "mimetype": "text/x-python",
   "name": "python",
   "nbconvert_exporter": "python",
   "pygments_lexer": "ipython3",
   "version": "3.7.6"
  },
  "papermill": {
   "duration": 259.005814,
   "end_time": "2020-12-20T14:34:12.370868",
   "environment_variables": {},
   "exception": null,
   "input_path": "__notebook__.ipynb",
   "output_path": "__notebook__.ipynb",
   "parameters": {},
   "start_time": "2020-12-20T14:29:53.365054",
   "version": "2.1.0"
  },
  "widgets": {
   "application/vnd.jupyter.widget-state+json": {
    "state": {
     "18896a5a05934f3c9921139f4b6bc1ce": {
      "model_module": "@jupyter-widgets/controls",
      "model_module_version": "1.5.0",
      "model_name": "DescriptionStyleModel",
      "state": {
       "_model_module": "@jupyter-widgets/controls",
       "_model_module_version": "1.5.0",
       "_model_name": "DescriptionStyleModel",
       "_view_count": null,
       "_view_module": "@jupyter-widgets/base",
       "_view_module_version": "1.2.0",
       "_view_name": "StyleView",
       "description_width": ""
      }
     },
     "22d9a5b6884642d9bc143c47ca3e7de2": {
      "model_module": "@jupyter-widgets/controls",
      "model_module_version": "1.5.0",
      "model_name": "ProgressStyleModel",
      "state": {
       "_model_module": "@jupyter-widgets/controls",
       "_model_module_version": "1.5.0",
       "_model_name": "ProgressStyleModel",
       "_view_count": null,
       "_view_module": "@jupyter-widgets/base",
       "_view_module_version": "1.2.0",
       "_view_name": "StyleView",
       "bar_color": null,
       "description_width": "initial"
      }
     },
     "2ef06e384bcf40a6922b134c7497bb4b": {
      "model_module": "@jupyter-widgets/controls",
      "model_module_version": "1.5.0",
      "model_name": "FloatProgressModel",
      "state": {
       "_dom_classes": [],
       "_model_module": "@jupyter-widgets/controls",
       "_model_module_version": "1.5.0",
       "_model_name": "FloatProgressModel",
       "_view_count": null,
       "_view_module": "@jupyter-widgets/controls",
       "_view_module_version": "1.5.0",
       "_view_name": "ProgressView",
       "bar_style": "success",
       "description": "100%",
       "description_tooltip": null,
       "layout": "IPY_MODEL_8cc31bb1ab7340c7945b4ee6e386d1e8",
       "max": 56.0,
       "min": 0.0,
       "orientation": "horizontal",
       "style": "IPY_MODEL_22d9a5b6884642d9bc143c47ca3e7de2",
       "value": 56.0
      }
     },
     "607ae9fe7f2343d3b77b7ab7b8ef939f": {
      "model_module": "@jupyter-widgets/controls",
      "model_module_version": "1.5.0",
      "model_name": "HTMLModel",
      "state": {
       "_dom_classes": [],
       "_model_module": "@jupyter-widgets/controls",
       "_model_module_version": "1.5.0",
       "_model_name": "HTMLModel",
       "_view_count": null,
       "_view_module": "@jupyter-widgets/controls",
       "_view_module_version": "1.5.0",
       "_view_name": "HTMLView",
       "description": "",
       "description_tooltip": null,
       "layout": "IPY_MODEL_82c9a59ce0ee42a98aef500add7f39ed",
       "placeholder": "​",
       "style": "IPY_MODEL_18896a5a05934f3c9921139f4b6bc1ce",
       "value": " 56/56 [03:58&lt;00:00,  4.26s/it]"
      }
     },
     "7248f4842cf94563812d6f5dffac486f": {
      "model_module": "@jupyter-widgets/controls",
      "model_module_version": "1.5.0",
      "model_name": "HBoxModel",
      "state": {
       "_dom_classes": [],
       "_model_module": "@jupyter-widgets/controls",
       "_model_module_version": "1.5.0",
       "_model_name": "HBoxModel",
       "_view_count": null,
       "_view_module": "@jupyter-widgets/controls",
       "_view_module_version": "1.5.0",
       "_view_name": "HBoxView",
       "box_style": "",
       "children": [
        "IPY_MODEL_2ef06e384bcf40a6922b134c7497bb4b",
        "IPY_MODEL_607ae9fe7f2343d3b77b7ab7b8ef939f"
       ],
       "layout": "IPY_MODEL_e9500cc542724fd0ab89eb7a0a616cfb"
      }
     },
     "82c9a59ce0ee42a98aef500add7f39ed": {
      "model_module": "@jupyter-widgets/base",
      "model_module_version": "1.2.0",
      "model_name": "LayoutModel",
      "state": {
       "_model_module": "@jupyter-widgets/base",
       "_model_module_version": "1.2.0",
       "_model_name": "LayoutModel",
       "_view_count": null,
       "_view_module": "@jupyter-widgets/base",
       "_view_module_version": "1.2.0",
       "_view_name": "LayoutView",
       "align_content": null,
       "align_items": null,
       "align_self": null,
       "border": null,
       "bottom": null,
       "display": null,
       "flex": null,
       "flex_flow": null,
       "grid_area": null,
       "grid_auto_columns": null,
       "grid_auto_flow": null,
       "grid_auto_rows": null,
       "grid_column": null,
       "grid_gap": null,
       "grid_row": null,
       "grid_template_areas": null,
       "grid_template_columns": null,
       "grid_template_rows": null,
       "height": null,
       "justify_content": null,
       "justify_items": null,
       "left": null,
       "margin": null,
       "max_height": null,
       "max_width": null,
       "min_height": null,
       "min_width": null,
       "object_fit": null,
       "object_position": null,
       "order": null,
       "overflow": null,
       "overflow_x": null,
       "overflow_y": null,
       "padding": null,
       "right": null,
       "top": null,
       "visibility": null,
       "width": null
      }
     },
     "8cc31bb1ab7340c7945b4ee6e386d1e8": {
      "model_module": "@jupyter-widgets/base",
      "model_module_version": "1.2.0",
      "model_name": "LayoutModel",
      "state": {
       "_model_module": "@jupyter-widgets/base",
       "_model_module_version": "1.2.0",
       "_model_name": "LayoutModel",
       "_view_count": null,
       "_view_module": "@jupyter-widgets/base",
       "_view_module_version": "1.2.0",
       "_view_name": "LayoutView",
       "align_content": null,
       "align_items": null,
       "align_self": null,
       "border": null,
       "bottom": null,
       "display": null,
       "flex": null,
       "flex_flow": null,
       "grid_area": null,
       "grid_auto_columns": null,
       "grid_auto_flow": null,
       "grid_auto_rows": null,
       "grid_column": null,
       "grid_gap": null,
       "grid_row": null,
       "grid_template_areas": null,
       "grid_template_columns": null,
       "grid_template_rows": null,
       "height": null,
       "justify_content": null,
       "justify_items": null,
       "left": null,
       "margin": null,
       "max_height": null,
       "max_width": null,
       "min_height": null,
       "min_width": null,
       "object_fit": null,
       "object_position": null,
       "order": null,
       "overflow": null,
       "overflow_x": null,
       "overflow_y": null,
       "padding": null,
       "right": null,
       "top": null,
       "visibility": null,
       "width": null
      }
     },
     "e9500cc542724fd0ab89eb7a0a616cfb": {
      "model_module": "@jupyter-widgets/base",
      "model_module_version": "1.2.0",
      "model_name": "LayoutModel",
      "state": {
       "_model_module": "@jupyter-widgets/base",
       "_model_module_version": "1.2.0",
       "_model_name": "LayoutModel",
       "_view_count": null,
       "_view_module": "@jupyter-widgets/base",
       "_view_module_version": "1.2.0",
       "_view_name": "LayoutView",
       "align_content": null,
       "align_items": null,
       "align_self": null,
       "border": null,
       "bottom": null,
       "display": null,
       "flex": null,
       "flex_flow": null,
       "grid_area": null,
       "grid_auto_columns": null,
       "grid_auto_flow": null,
       "grid_auto_rows": null,
       "grid_column": null,
       "grid_gap": null,
       "grid_row": null,
       "grid_template_areas": null,
       "grid_template_columns": null,
       "grid_template_rows": null,
       "height": null,
       "justify_content": null,
       "justify_items": null,
       "left": null,
       "margin": null,
       "max_height": null,
       "max_width": null,
       "min_height": null,
       "min_width": null,
       "object_fit": null,
       "object_position": null,
       "order": null,
       "overflow": null,
       "overflow_x": null,
       "overflow_y": null,
       "padding": null,
       "right": null,
       "top": null,
       "visibility": null,
       "width": null
      }
     }
    },
    "version_major": 2,
    "version_minor": 0
   }
  }
 },
 "nbformat": 4,
 "nbformat_minor": 4
}
