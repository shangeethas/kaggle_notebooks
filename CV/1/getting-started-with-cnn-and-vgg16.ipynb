{
 "cells": [
  {
   "cell_type": "markdown",
   "metadata": {},
   "source": [
    "# **Introduction**"
   ]
  },
  {
   "cell_type": "markdown",
   "metadata": {},
   "source": [
    "**In this kernel,we will be learning about Convolution neural networks.We will learn**\n",
    "- [how to prepare your data to feed to a neural network](#1)\n",
    "- [how convolution neural network works](#2)\n",
    "- [how to implement cnn in keras](#3)\n",
    "- [how to evaluvate your results](#4)\n",
    "- [how to use keras pretrained network to improve your model](#5)\n",
    "- [how to predict and  create a submission](#6)\n",
    "   "
   ]
  },
  {
   "cell_type": "markdown",
   "metadata": {},
   "source": [
    "**if you like my kernel,please consider upvoting**"
   ]
  },
  {
   "cell_type": "markdown",
   "metadata": {},
   "source": [
    "![](https://media.giphy.com/media/BmmfETghGOPrW/giphy.gif)"
   ]
  },
  {
   "cell_type": "markdown",
   "metadata": {},
   "source": [
    "and it's no rocket science,its fun."
   ]
  },
  {
   "cell_type": "markdown",
   "metadata": {},
   "source": [
    "### Loading required libraries"
   ]
  },
  {
   "cell_type": "code",
   "execution_count": 1,
   "metadata": {
    "_cell_guid": "b1076dfc-b9ad-4769-8c92-a6c4dae69d19",
    "_uuid": "8f2839f25d086af736a60e9eeb907d3b93b6e0e5"
   },
   "outputs": [
    {
     "name": "stderr",
     "output_type": "stream",
     "text": [
      "Using TensorFlow backend.\n"
     ]
    },
    {
     "name": "stdout",
     "output_type": "stream",
     "text": [
      "['test', 'train', 'train.csv', 'sample_submission.csv']\n"
     ]
    }
   ],
   "source": [
    "\n",
    "import pandas as pd # data processing, CSV file I/O (e.g. pd.read_csv)\n",
    "import os,cv2\n",
    "from IPython.display import Image\n",
    "from keras.preprocessing import image\n",
    "from keras import optimizers\n",
    "from keras import layers,models\n",
    "from keras.applications.imagenet_utils import preprocess_input\n",
    "import matplotlib.pyplot as plt\n",
    "import seaborn as sns\n",
    "from keras import regularizers\n",
    "from keras.preprocessing.image import ImageDataGenerator\n",
    "from keras.applications.vgg16 import VGG16\n",
    "print(os.listdir(\"../input\"))\n",
    "\n",
    "import numpy as np\n",
    "\n"
   ]
  },
  {
   "cell_type": "markdown",
   "metadata": {},
   "source": [
    "### Setting our directories"
   ]
  },
  {
   "cell_type": "code",
   "execution_count": 2,
   "metadata": {
    "_cell_guid": "79c7e3d0-c299-4dcb-8224-4455121ee9b0",
    "_uuid": "d629ff2d2480ee46fbb7e2d37f6b5fab8052498a"
   },
   "outputs": [],
   "source": [
    "train_dir=\"../input/train/train\"\n",
    "test_dir=\"../input/test/test\"\n",
    "train=pd.read_csv('../input/train.csv')\n",
    "\n",
    "df_test=pd.read_csv('../input/sample_submission.csv')"
   ]
  },
  {
   "cell_type": "markdown",
   "metadata": {},
   "source": [
    "## Getting a basic idea"
   ]
  },
  {
   "cell_type": "code",
   "execution_count": 3,
   "metadata": {},
   "outputs": [],
   "source": [
    "train.head(5)\n",
    "train.has_cactus=train.has_cactus.astype(str)"
   ]
  },
  {
   "cell_type": "code",
   "execution_count": 4,
   "metadata": {},
   "outputs": [
    {
     "name": "stdout",
     "output_type": "stream",
     "text": [
      "out dataset has 17500 rows and 2 columns\n"
     ]
    }
   ],
   "source": [
    "print('out dataset has {} rows and {} columns'.format(train.shape[0],train.shape[1]))"
   ]
  },
  {
   "cell_type": "code",
   "execution_count": 5,
   "metadata": {},
   "outputs": [
    {
     "data": {
      "text/plain": [
       "1    13136\n",
       "0     4364\n",
       "Name: has_cactus, dtype: int64"
      ]
     },
     "execution_count": 5,
     "metadata": {},
     "output_type": "execute_result"
    }
   ],
   "source": [
    "train['has_cactus'].value_counts()"
   ]
  },
  {
   "cell_type": "code",
   "execution_count": 6,
   "metadata": {},
   "outputs": [
    {
     "name": "stdout",
     "output_type": "stream",
     "text": [
      "The number of rows in test set is 4000\n"
     ]
    }
   ],
   "source": [
    "print(\"The number of rows in test set is %d\"%(len(os.listdir('../input/test/test'))))"
   ]
  },
  {
   "cell_type": "markdown",
   "metadata": {},
   "source": [
    "### Displaying an image"
   ]
  },
  {
   "cell_type": "code",
   "execution_count": 7,
   "metadata": {},
   "outputs": [
    {
     "data": {
      "image/jpeg": "[encoded data removed]",
      "text/plain": [
       "<IPython.core.display.Image object>"
      ]
     },
     "execution_count": 7,
     "metadata": {
      "image/jpeg": {
       "height": 250,
       "width": 250
      }
     },
     "output_type": "execute_result"
    }
   ],
   "source": [
    "Image(os.path.join(\"../input/train/train\",train.iloc[0,0]),width=250,height=250)"
   ]
  },
  {
   "cell_type": "markdown",
   "metadata": {},
   "source": [
    "## Data preparation [](#1)  <a id=\"1\"></a> <br>"
   ]
  },
  {
   "cell_type": "markdown",
   "metadata": {},
   "source": [
    "As you know,data should be processed into appropriatly pre-processed floating point \n",
    "tensors before being fed to our network.So the steps for getting it into our network are roughly "
   ]
  },
  {
   "cell_type": "markdown",
   "metadata": {},
   "source": [
    "- Read the picture files\n",
    "- Decode JPEG content to RGB pixels\n",
    "- Convert this into floating tensors\n",
    "- Rescale pixel values (between 0 to 255) to [0,1] interval."
   ]
  },
  {
   "cell_type": "markdown",
   "metadata": {},
   "source": [
    "we will make use of ImageDataGenerator method available in keras to do all the preprocessing."
   ]
  },
  {
   "cell_type": "code",
   "execution_count": 8,
   "metadata": {},
   "outputs": [],
   "source": [
    "datagen=ImageDataGenerator(rescale=1./255)\n",
    "batch_size=150"
   ]
  },
  {
   "cell_type": "markdown",
   "metadata": {},
   "source": [
    "**flow_from_dataframe Method**\n",
    "\n",
    "This method is useful when the images are clustered in only one folder. To put in other words images from different class/labels reside in only one folder. Generally, with such kind of data, some text files containing information on class and other parameters are provided. In this case, we will create a dataframe using pandas and text files provided, and create a meaningful dataframe with columns having file name (only the file names, not the path) and other classes to be used by the model. For this method, arguments to be used are:\n",
    "\n",
    "    dataframe value : Dataframe having meaningful data (file name, class columns are a must)\n",
    "    directory value : The path to the parent directory containing all images.\n",
    "    x_col value : which will be the name of column(in dataframe) having file names\n",
    "    y_col value : which will be the name of column(in dataframe) having class/label"
   ]
  },
  {
   "cell_type": "code",
   "execution_count": 9,
   "metadata": {},
   "outputs": [
    {
     "name": "stdout",
     "output_type": "stream",
     "text": [
      "Found 15001 images belonging to 2 classes.\n",
      "Found 2500 images belonging to 2 classes.\n"
     ]
    }
   ],
   "source": [
    "train_generator=datagen.flow_from_dataframe(dataframe=train[:15001],directory=train_dir,x_col='id',\n",
    "                                            y_col='has_cactus',class_mode='binary',batch_size=batch_size,\n",
    "                                            target_size=(150,150))\n",
    "\n",
    "\n",
    "validation_generator=datagen.flow_from_dataframe(dataframe=train[15000:],directory=train_dir,x_col='id',\n",
    "                                                y_col='has_cactus',class_mode='binary',batch_size=50,\n",
    "                                                target_size=(150,150))"
   ]
  },
  {
   "cell_type": "markdown",
   "metadata": {},
   "source": [
    "### Splitting our train and validation dataset"
   ]
  },
  {
   "cell_type": "markdown",
   "metadata": {},
   "source": [
    "Now,after preprocessing is done with our data we will split our dataset to\n",
    "training and validation for training our model and validating the result repectively.\n",
    "We will take first 15000 images to train our data and last 2500 images to validate our model later.\n"
   ]
  },
  {
   "cell_type": "markdown",
   "metadata": {},
   "source": [
    "## A brief intro to CNN[](#2) <a id='2'> </a><br>"
   ]
  },
  {
   "cell_type": "markdown",
   "metadata": {},
   "source": [
    "The convolution operation is the building block of a convolutional neural network as the name suggests it.\n",
    "Now, in the field of computer vision, an image can be expressed as a matrix of RGB values.\n",
    "Therefore, let’s consider the 6x6 matrix below as a part of an image:\n",
    "![](https://cdn-images-1.medium.com/max/800/1*aGSthcPASa2OT1UBm7paOA.png)\n",
    "And the filter will be the following matrix:\n",
    "![](https://cdn-images-1.medium.com/max/800/1*591OPcvDKUN9liZ_VQ1M5g.png)\n",
    "Then, the convolution involves superimposing the filter onto the image matrix, adding the product of the values from the filter and and the values from the image matrix, which will generate a 4x4 convoluted layer.\n",
    "\n",
    "This is very hard to put in words, but here is a nice animation that explains the convolution:\n",
    "![](https://cdn-images-1.medium.com/max/800/1*VJCoCYjnjBBtWDLrugCBYQ.gif)"
   ]
  },
  {
   "cell_type": "markdown",
   "metadata": {},
   "source": [
    "Convolutions are defined on two key parameters\n",
    "- The size of patches that are extracted from input feature map..ie here 3x3\n",
    "- The number of filters computed from convolutions"
   ]
  },
  {
   "cell_type": "markdown",
   "metadata": {},
   "source": [
    "### Maxpooling"
   ]
  },
  {
   "cell_type": "markdown",
   "metadata": {},
   "source": [
    "Maxpooling consist of extracting features from input feature map and outputig maximum value of each channel.\n",
    "![](https://cdn-images-1.medium.com/max/800/1*Ziqq69FhwOAbBi9-FNruAA.png)"
   ]
  },
  {
   "cell_type": "markdown",
   "metadata": {},
   "source": [
    "## Building our model [](#3) <a id=\"3\"></a><br> "
   ]
  },
  {
   "cell_type": "markdown",
   "metadata": {},
   "source": [
    "[](http://)Now we will build our network.We will build our model such that it contains\n",
    "5 **Conv2D + Maxpooling2D stages** with **relu** activation function."
   ]
  },
  {
   "cell_type": "code",
   "execution_count": 10,
   "metadata": {},
   "outputs": [
    {
     "name": "stdout",
     "output_type": "stream",
     "text": [
      "WARNING:tensorflow:From /opt/conda/lib/python3.6/site-packages/tensorflow/python/framework/op_def_library.py:263: colocate_with (from tensorflow.python.framework.ops) is deprecated and will be removed in a future version.\n",
      "Instructions for updating:\n",
      "Colocations handled automatically by placer.\n"
     ]
    }
   ],
   "source": [
    "model=models.Sequential()\n",
    "model.add(layers.Conv2D(32,(3,3),activation='relu',input_shape=(150,150,3)))\n",
    "model.add(layers.MaxPool2D((2,2)))\n",
    "model.add(layers.Conv2D(64,(3,3),activation='relu',input_shape=(150,150,3)))\n",
    "model.add(layers.MaxPool2D((2,2)))\n",
    "model.add(layers.Conv2D(128,(3,3),activation='relu',input_shape=(150,150,3)))\n",
    "model.add(layers.MaxPool2D((2,2)))\n",
    "model.add(layers.Conv2D(128,(3,3),activation='relu',input_shape=(150,150,3)))\n",
    "model.add(layers.MaxPool2D((2,2)))\n",
    "model.add(layers.Flatten())\n",
    "model.add(layers.Dense(512,activation='relu'))\n",
    "model.add(layers.Dense(1,activation='sigmoid'))\n",
    "         "
   ]
  },
  {
   "cell_type": "markdown",
   "metadata": {},
   "source": [
    "### Displaying summary of our network"
   ]
  },
  {
   "cell_type": "code",
   "execution_count": 11,
   "metadata": {},
   "outputs": [
    {
     "name": "stdout",
     "output_type": "stream",
     "text": [
      "_________________________________________________________________\n",
      "Layer (type)                 Output Shape              Param #   \n",
      "=================================================================\n",
      "conv2d_1 (Conv2D)            (None, 148, 148, 32)      896       \n",
      "_________________________________________________________________\n",
      "max_pooling2d_1 (MaxPooling2 (None, 74, 74, 32)        0         \n",
      "_________________________________________________________________\n",
      "conv2d_2 (Conv2D)            (None, 72, 72, 64)        18496     \n",
      "_________________________________________________________________\n",
      "max_pooling2d_2 (MaxPooling2 (None, 36, 36, 64)        0         \n",
      "_________________________________________________________________\n",
      "conv2d_3 (Conv2D)            (None, 34, 34, 128)       73856     \n",
      "_________________________________________________________________\n",
      "max_pooling2d_3 (MaxPooling2 (None, 17, 17, 128)       0         \n",
      "_________________________________________________________________\n",
      "conv2d_4 (Conv2D)            (None, 15, 15, 128)       147584    \n",
      "_________________________________________________________________\n",
      "max_pooling2d_4 (MaxPooling2 (None, 7, 7, 128)         0         \n",
      "_________________________________________________________________\n",
      "flatten_1 (Flatten)          (None, 6272)              0         \n",
      "_________________________________________________________________\n",
      "dense_1 (Dense)              (None, 512)               3211776   \n",
      "_________________________________________________________________\n",
      "dense_2 (Dense)              (None, 1)                 513       \n",
      "=================================================================\n",
      "Total params: 3,453,121\n",
      "Trainable params: 3,453,121\n",
      "Non-trainable params: 0\n",
      "_________________________________________________________________\n"
     ]
    }
   ],
   "source": [
    "model.summary()"
   ]
  },
  {
   "cell_type": "markdown",
   "metadata": {},
   "source": [
    "## Compiling our model"
   ]
  },
  {
   "cell_type": "code",
   "execution_count": 12,
   "metadata": {},
   "outputs": [],
   "source": []
  },
  {
   "cell_type": "markdown",
   "metadata": {},
   "source": [
    "In this step we will specify 3 important things related to our model\n"
   ]
  },
  {
   "cell_type": "markdown",
   "metadata": {},
   "source": [
    "- loss: we will set our loss as binary_crossentropy since we are\n",
    "   attacking a binary classification problem\n",
    "- optimizer : optimizers shape and mold your model into its most accurate possible form by futzing with the weights.\n",
    "- metrics : This is the evaluation criteria that we choose to evaluate our model"
   ]
  },
  {
   "cell_type": "markdown",
   "metadata": {},
   "source": [
    "![](https://blog.algorithmia.com/wp-content/uploads/2018/05/word-image.png)"
   ]
  },
  {
   "cell_type": "code",
   "execution_count": 12,
   "metadata": {},
   "outputs": [],
   "source": [
    "model.compile(loss='binary_crossentropy',optimizer=optimizers.rmsprop(),metrics=['acc'])\n"
   ]
  },
  {
   "cell_type": "markdown",
   "metadata": {},
   "source": [
    "### Fitting our model "
   ]
  },
  {
   "cell_type": "markdown",
   "metadata": {},
   "source": [
    "Here we will use keras fit_generator() method instead of fit() method because we have used ImageDataGenerator to generate values.\n"
   ]
  },
  {
   "cell_type": "code",
   "execution_count": 13,
   "metadata": {
    "_kg_hide-output": true
   },
   "outputs": [
    {
     "name": "stdout",
     "output_type": "stream",
     "text": [
      "WARNING:tensorflow:From /opt/conda/lib/python3.6/site-packages/tensorflow/python/ops/math_ops.py:3066: to_int32 (from tensorflow.python.ops.math_ops) is deprecated and will be removed in a future version.\n",
      "Instructions for updating:\n",
      "Use tf.cast instead.\n",
      "Epoch 1/10\n",
      "100/100 [==============================] - 39s 394ms/step - loss: 0.5635 - acc: 0.8113 - val_loss: 0.2326 - val_acc: 0.9188\n",
      "Epoch 2/10\n",
      "100/100 [==============================] - 24s 237ms/step - loss: 0.2046 - acc: 0.9185 - val_loss: 0.1487 - val_acc: 0.9388\n",
      "Epoch 3/10\n",
      "100/100 [==============================] - 24s 237ms/step - loss: 0.1487 - acc: 0.9436 - val_loss: 0.2846 - val_acc: 0.9080\n",
      "Epoch 4/10\n",
      "100/100 [==============================] - 24s 240ms/step - loss: 0.1286 - acc: 0.9531 - val_loss: 0.2111 - val_acc: 0.9156\n",
      "Epoch 5/10\n",
      "100/100 [==============================] - 24s 237ms/step - loss: 0.1029 - acc: 0.9589 - val_loss: 0.1168 - val_acc: 0.9592\n",
      "Epoch 6/10\n",
      "100/100 [==============================] - 24s 237ms/step - loss: 0.0864 - acc: 0.9678 - val_loss: 0.1003 - val_acc: 0.9592\n",
      "Epoch 7/10\n",
      "100/100 [==============================] - 24s 236ms/step - loss: 0.0872 - acc: 0.9716 - val_loss: 0.1817 - val_acc: 0.9388\n",
      "Epoch 8/10\n",
      "100/100 [==============================] - 24s 239ms/step - loss: 0.0801 - acc: 0.9773 - val_loss: 0.0626 - val_acc: 0.9820\n",
      "Epoch 9/10\n",
      "100/100 [==============================] - 24s 239ms/step - loss: 0.0571 - acc: 0.9751 - val_loss: 0.0681 - val_acc: 0.9840\n",
      "Epoch 10/10\n",
      "100/100 [==============================] - 24s 237ms/step - loss: 0.0459 - acc: 0.9845 - val_loss: 0.0636 - val_acc: 0.9852\n"
     ]
    }
   ],
   "source": [
    "epochs=10\n",
    "history=model.fit_generator(train_generator,steps_per_epoch=100,epochs=10,validation_data=validation_generator,validation_steps=50)"
   ]
  },
  {
   "cell_type": "markdown",
   "metadata": {},
   "source": [
    "## Evaluating our model[](#4)<a id=\"4\"></a><br>"
   ]
  },
  {
   "cell_type": "markdown",
   "metadata": {},
   "source": [
    "we will plot our results using matplotlib.first we will plot training and validation accuracy."
   ]
  },
  {
   "cell_type": "code",
   "execution_count": 14,
   "metadata": {},
   "outputs": [
    {
     "data": {
      "text/plain": [
       "<matplotlib.legend.Legend at 0x7f8566726a90>"
      ]
     },
     "execution_count": 14,
     "metadata": {},
     "output_type": "execute_result"
    },
    {
     "data": {
      "image/png": "[encoded data removed]",
      "text/plain": [
       "<Figure size 432x288 with 1 Axes>"
      ]
     },
     "metadata": {},
     "output_type": "display_data"
    }
   ],
   "source": [
    "acc=history.history['acc']  ##getting  accuracy of each epochs\n",
    "epochs_=range(0,epochs)    \n",
    "plt.plot(epochs_,acc,label='training accuracy')\n",
    "plt.xlabel('no of epochs')\n",
    "plt.ylabel('accuracy')\n",
    "\n",
    "acc_val=history.history['val_acc']  ##getting validation accuracy of each epochs\n",
    "plt.scatter(epochs_,acc_val,label=\"validation accuracy\")\n",
    "plt.title(\"no of epochs vs accuracy\")\n",
    "plt.legend()\n",
    "\n",
    "\n",
    "\n",
    "\n",
    "    "
   ]
  },
  {
   "cell_type": "markdown",
   "metadata": {},
   "source": [
    "Now we will plot training loss and validation loss vs number of epochs"
   ]
  },
  {
   "cell_type": "code",
   "execution_count": 15,
   "metadata": {},
   "outputs": [
    {
     "data": {
      "text/plain": [
       "<matplotlib.legend.Legend at 0x7f856457ab00>"
      ]
     },
     "execution_count": 15,
     "metadata": {},
     "output_type": "execute_result"
    },
    {
     "data": {
      "image/png": "[encoded data removed]",
      "text/plain": [
       "<Figure size 432x288 with 1 Axes>"
      ]
     },
     "metadata": {},
     "output_type": "display_data"
    }
   ],
   "source": [
    "acc=history.history['loss']    ##getting  loss of each epochs\n",
    "epochs_=range(0,epochs)\n",
    "plt.plot(epochs_,acc,label='training loss')\n",
    "plt.xlabel('No of epochs')\n",
    "plt.ylabel('loss')\n",
    "\n",
    "acc_val=history.history['val_loss']  ## getting validation loss of each epochs\n",
    "plt.scatter(epochs_,acc_val,label=\"validation loss\")\n",
    "plt.title('no of epochs vs loss')\n",
    "plt.legend()"
   ]
  },
  {
   "cell_type": "markdown",
   "metadata": {},
   "source": [
    "## Improving our model using VGG16[](#5)<a id=\"5\"></a><br> "
   ]
  },
  {
   "cell_type": "markdown",
   "metadata": {},
   "source": [
    "- Instantiating the VGG16 convolution base"
   ]
  },
  {
   "cell_type": "code",
   "execution_count": 16,
   "metadata": {},
   "outputs": [
    {
     "name": "stdout",
     "output_type": "stream",
     "text": [
      "Downloading data from https://github.com/fchollet/deep-learning-models/releases/download/v0.1/vgg16_weights_tf_dim_ordering_tf_kernels_notop.h5\n",
      "58892288/58889256 [==============================] - 1s 0us/step\n",
      "_________________________________________________________________\n",
      "Layer (type)                 Output Shape              Param #   \n",
      "=================================================================\n",
      "input_1 (InputLayer)         (None, None, None, 3)     0         \n",
      "_________________________________________________________________\n",
      "block1_conv1 (Conv2D)        (None, None, None, 64)    1792      \n",
      "_________________________________________________________________\n",
      "block1_conv2 (Conv2D)        (None, None, None, 64)    36928     \n",
      "_________________________________________________________________\n",
      "block1_pool (MaxPooling2D)   (None, None, None, 64)    0         \n",
      "_________________________________________________________________\n",
      "block2_conv1 (Conv2D)        (None, None, None, 128)   73856     \n",
      "_________________________________________________________________\n",
      "block2_conv2 (Conv2D)        (None, None, None, 128)   147584    \n",
      "_________________________________________________________________\n",
      "block2_pool (MaxPooling2D)   (None, None, None, 128)   0         \n",
      "_________________________________________________________________\n",
      "block3_conv1 (Conv2D)        (None, None, None, 256)   295168    \n",
      "_________________________________________________________________\n",
      "block3_conv2 (Conv2D)        (None, None, None, 256)   590080    \n",
      "_________________________________________________________________\n",
      "block3_conv3 (Conv2D)        (None, None, None, 256)   590080    \n",
      "_________________________________________________________________\n",
      "block3_pool (MaxPooling2D)   (None, None, None, 256)   0         \n",
      "_________________________________________________________________\n",
      "block4_conv1 (Conv2D)        (None, None, None, 512)   1180160   \n",
      "_________________________________________________________________\n",
      "block4_conv2 (Conv2D)        (None, None, None, 512)   2359808   \n",
      "_________________________________________________________________\n",
      "block4_conv3 (Conv2D)        (None, None, None, 512)   2359808   \n",
      "_________________________________________________________________\n",
      "block4_pool (MaxPooling2D)   (None, None, None, 512)   0         \n",
      "_________________________________________________________________\n",
      "block5_conv1 (Conv2D)        (None, None, None, 512)   2359808   \n",
      "_________________________________________________________________\n",
      "block5_conv2 (Conv2D)        (None, None, None, 512)   2359808   \n",
      "_________________________________________________________________\n",
      "block5_conv3 (Conv2D)        (None, None, None, 512)   2359808   \n",
      "_________________________________________________________________\n",
      "block5_pool (MaxPooling2D)   (None, None, None, 512)   0         \n",
      "=================================================================\n",
      "Total params: 14,714,688\n",
      "Trainable params: 14,714,688\n",
      "Non-trainable params: 0\n",
      "_________________________________________________________________\n"
     ]
    }
   ],
   "source": [
    "model_vg=VGG16(weights='imagenet',include_top=False)\n",
    "model_vg.summary()"
   ]
  },
  {
   "cell_type": "markdown",
   "metadata": {},
   "source": [
    "### Extracting features using VGG16"
   ]
  },
  {
   "cell_type": "code",
   "execution_count": 17,
   "metadata": {},
   "outputs": [
    {
     "name": "stdout",
     "output_type": "stream",
     "text": [
      "Found 17500 images.\n"
     ]
    }
   ],
   "source": [
    "def extract_features(directory,samples,df):\n",
    "    \n",
    "    \n",
    "    features=np.zeros(shape=(samples,4,4,512))\n",
    "    labels=np.zeros(shape=(samples))\n",
    "    generator=datagen.flow_from_dataframe(dataframe=df,directory=directory,x_col='id',\n",
    "                                            y_col='has_cactus',class_mode='other',batch_size=batch_size,\n",
    "                                            target_size=(150,150))\n",
    "    i=0\n",
    "    for input_batch,label_batch in generator:\n",
    "        feature_batch=model_vg.predict(input_batch)\n",
    "        features[i*batch_size:(i+1)*batch_size]=feature_batch\n",
    "        labels[i*batch_size:(i+1)*batch_size]=label_batch\n",
    "        i+=1\n",
    "        if(i*batch_size>samples):\n",
    "            break\n",
    "    return(features,labels)\n",
    "\n",
    "train.has_cactus=train.has_cactus.astype(int)\n",
    "features,labels=extract_features(train_dir,17500,train)\n",
    "train_features=features[:15001]\n",
    "train_labels=labels[:15001]\n",
    "\n",
    "validation_features=features[15000:]\n",
    "validation_labels=labels[15000:]\n",
    "\n"
   ]
  },
  {
   "cell_type": "markdown",
   "metadata": {},
   "source": [
    "### Reshaping our features to feed into our dense layers"
   ]
  },
  {
   "cell_type": "code",
   "execution_count": 18,
   "metadata": {},
   "outputs": [
    {
     "name": "stdout",
     "output_type": "stream",
     "text": [
      "Found 4000 images.\n"
     ]
    }
   ],
   "source": [
    "#df_test.has_cactus=df_test.has_cactus.astype(str)\n",
    "test_features,test_labels=extract_features(test_dir,4000,df_test)"
   ]
  },
  {
   "cell_type": "code",
   "execution_count": 19,
   "metadata": {},
   "outputs": [],
   "source": [
    "train_features=train_features.reshape((15001,4*4*512))\n",
    "validation_features=validation_features.reshape((2500,4*4*512))\n",
    "\n",
    "test_features=test_features.reshape((4000,4*4*512))\n"
   ]
  },
  {
   "cell_type": "markdown",
   "metadata": {},
   "source": [
    "### Define a densely connected network"
   ]
  },
  {
   "cell_type": "code",
   "execution_count": 20,
   "metadata": {},
   "outputs": [
    {
     "name": "stdout",
     "output_type": "stream",
     "text": [
      "WARNING:tensorflow:From /opt/conda/lib/python3.6/site-packages/keras/backend/tensorflow_backend.py:3445: calling dropout (from tensorflow.python.ops.nn_ops) with keep_prob is deprecated and will be removed in a future version.\n",
      "Instructions for updating:\n",
      "Please use `rate` instead of `keep_prob`. Rate should be set to `rate = 1 - keep_prob`.\n"
     ]
    }
   ],
   "source": [
    "model=models.Sequential()\n",
    "model.add(layers.Dense(212,activation='relu',kernel_regularizer=regularizers.l1_l2(.001),input_dim=(4*4*512)))\n",
    "model.add(layers.Dropout(0.2))\n",
    "model.add(layers.Dense(1,activation='sigmoid'))\n"
   ]
  },
  {
   "cell_type": "code",
   "execution_count": 21,
   "metadata": {},
   "outputs": [],
   "source": [
    "model.compile(optimizer=optimizers.rmsprop(),loss='binary_crossentropy',metrics=['acc'])"
   ]
  },
  {
   "cell_type": "code",
   "execution_count": 22,
   "metadata": {
    "_kg_hide-output": true
   },
   "outputs": [
    {
     "name": "stdout",
     "output_type": "stream",
     "text": [
      "Train on 15001 samples, validate on 2500 samples\n",
      "Epoch 1/30\n",
      "15001/15001 [==============================] - 5s 352us/step - loss: 1.4906 - acc: 0.8940 - val_loss: 1.2673 - val_acc: 0.8724\n",
      "Epoch 2/30\n",
      "15001/15001 [==============================] - 5s 317us/step - loss: 1.1491 - acc: 0.9299 - val_loss: 1.2668 - val_acc: 0.8636\n",
      "Epoch 3/30\n",
      "15001/15001 [==============================] - 5s 318us/step - loss: 1.1200 - acc: 0.9368 - val_loss: 1.0743 - val_acc: 0.9672\n",
      "Epoch 4/30\n",
      "15001/15001 [==============================] - 5s 330us/step - loss: 1.1101 - acc: 0.9398 - val_loss: 1.0446 - val_acc: 0.9608\n",
      "Epoch 5/30\n",
      "15001/15001 [==============================] - 5s 316us/step - loss: 1.1045 - acc: 0.9389 - val_loss: 1.0382 - val_acc: 0.9692\n",
      "Epoch 6/30\n",
      "15001/15001 [==============================] - 5s 320us/step - loss: 1.1008 - acc: 0.9397 - val_loss: 1.1922 - val_acc: 0.8924\n",
      "Epoch 7/30\n",
      "15001/15001 [==============================] - 5s 317us/step - loss: 1.1012 - acc: 0.9401 - val_loss: 1.1909 - val_acc: 0.8972\n",
      "Epoch 8/30\n",
      "15001/15001 [==============================] - 5s 315us/step - loss: 1.0972 - acc: 0.9407 - val_loss: 1.0379 - val_acc: 0.9652\n",
      "Epoch 9/30\n",
      "15001/15001 [==============================] - 5s 317us/step - loss: 1.0961 - acc: 0.9403 - val_loss: 1.0513 - val_acc: 0.9632\n",
      "Epoch 10/30\n",
      "15001/15001 [==============================] - 5s 314us/step - loss: 1.0897 - acc: 0.9437 - val_loss: 1.0397 - val_acc: 0.9596\n",
      "Epoch 11/30\n",
      "15001/15001 [==============================] - 5s 315us/step - loss: 1.0926 - acc: 0.9412 - val_loss: 1.0649 - val_acc: 0.9540\n",
      "Epoch 12/30\n",
      "15001/15001 [==============================] - 5s 315us/step - loss: 1.0878 - acc: 0.9423 - val_loss: 1.0963 - val_acc: 0.9420\n",
      "Epoch 13/30\n",
      "15001/15001 [==============================] - 5s 315us/step - loss: 1.0902 - acc: 0.9445 - val_loss: 1.0148 - val_acc: 0.9676\n",
      "Epoch 14/30\n",
      "15001/15001 [==============================] - 5s 316us/step - loss: 1.0897 - acc: 0.9429 - val_loss: 1.0140 - val_acc: 0.9716\n",
      "Epoch 15/30\n",
      "15001/15001 [==============================] - 5s 315us/step - loss: 1.0902 - acc: 0.9419 - val_loss: 1.0251 - val_acc: 0.9656\n",
      "Epoch 16/30\n",
      "15001/15001 [==============================] - 5s 316us/step - loss: 1.0906 - acc: 0.9424 - val_loss: 1.1232 - val_acc: 0.9244\n",
      "Epoch 17/30\n",
      "15001/15001 [==============================] - 5s 316us/step - loss: 1.0907 - acc: 0.9425 - val_loss: 1.0979 - val_acc: 0.9324\n",
      "Epoch 18/30\n",
      "15001/15001 [==============================] - 5s 316us/step - loss: 1.0910 - acc: 0.9405 - val_loss: 1.0147 - val_acc: 0.9720\n",
      "Epoch 19/30\n",
      "15001/15001 [==============================] - 5s 318us/step - loss: 1.0908 - acc: 0.9407 - val_loss: 1.0156 - val_acc: 0.9704\n",
      "Epoch 20/30\n",
      "15001/15001 [==============================] - 5s 317us/step - loss: 1.0907 - acc: 0.9391 - val_loss: 1.0193 - val_acc: 0.9724\n",
      "Epoch 21/30\n",
      "15001/15001 [==============================] - 5s 315us/step - loss: 1.0965 - acc: 0.9395 - val_loss: 1.0619 - val_acc: 0.9604\n",
      "Epoch 22/30\n",
      "15001/15001 [==============================] - 5s 316us/step - loss: 1.0938 - acc: 0.9399 - val_loss: 1.0146 - val_acc: 0.9732\n",
      "Epoch 23/30\n",
      "15001/15001 [==============================] - 5s 316us/step - loss: 1.0966 - acc: 0.9417 - val_loss: 1.0270 - val_acc: 0.9652\n",
      "Epoch 24/30\n",
      "15001/15001 [==============================] - 5s 316us/step - loss: 1.0896 - acc: 0.9427 - val_loss: 1.1422 - val_acc: 0.9204\n",
      "Epoch 25/30\n",
      "15001/15001 [==============================] - 5s 316us/step - loss: 1.0941 - acc: 0.9416 - val_loss: 1.0247 - val_acc: 0.9620\n",
      "Epoch 26/30\n",
      "15001/15001 [==============================] - 5s 316us/step - loss: 1.0956 - acc: 0.9426 - val_loss: 1.0180 - val_acc: 0.9696\n",
      "Epoch 27/30\n",
      "15001/15001 [==============================] - 5s 315us/step - loss: 1.0876 - acc: 0.9452 - val_loss: 1.0229 - val_acc: 0.9696\n",
      "Epoch 28/30\n",
      "15001/15001 [==============================] - 5s 316us/step - loss: 1.0907 - acc: 0.9441 - val_loss: 1.1160 - val_acc: 0.9284\n",
      "Epoch 29/30\n",
      "15001/15001 [==============================] - 5s 315us/step - loss: 1.0879 - acc: 0.9435 - val_loss: 1.0241 - val_acc: 0.9636\n",
      "Epoch 30/30\n",
      "15001/15001 [==============================] - 5s 316us/step - loss: 1.0930 - acc: 0.9423 - val_loss: 1.2741 - val_acc: 0.8884\n"
     ]
    }
   ],
   "source": [
    "history=model.fit(train_features,train_labels,epochs=30,batch_size=15,validation_data=(validation_features,validation_labels))"
   ]
  },
  {
   "cell_type": "markdown",
   "metadata": {},
   "source": [
    "## making prediction"
   ]
  },
  {
   "cell_type": "code",
   "execution_count": 23,
   "metadata": {},
   "outputs": [],
   "source": [
    "y_pre=model.predict_proba(test_features)"
   ]
  },
  {
   "cell_type": "markdown",
   "metadata": {},
   "source": [
    "## Making a submission[](#6)<a id=\"6\"></a><br>"
   ]
  },
  {
   "cell_type": "code",
   "execution_count": 24,
   "metadata": {},
   "outputs": [],
   "source": [
    "df=pd.DataFrame({'id':df_test['id'] })\n",
    "df['has_cactus']=y_pre\n",
    "df.to_csv(\"submission.csv\",index=False)\n"
   ]
  },
  {
   "cell_type": "markdown",
   "metadata": {},
   "source": [
    "### If you guys like my kernel,please do consider upvoting it."
   ]
  },
  {
   "cell_type": "code",
   "execution_count": 25,
   "metadata": {},
   "outputs": [],
   "source": []
  }
 ],
 "metadata": {
  "kernelspec": {
   "display_name": "Python 3",
   "language": "python",
   "name": "python3"
  },
  "language_info": {
   "codemirror_mode": {
    "name": "ipython",
    "version": 3
   },
   "file_extension": ".py",
   "mimetype": "text/x-python",
   "name": "python",
   "nbconvert_exporter": "python",
   "pygments_lexer": "ipython3",
   "version": "3.6.4"
  }
 },
 "nbformat": 4,
 "nbformat_minor": 1
}
