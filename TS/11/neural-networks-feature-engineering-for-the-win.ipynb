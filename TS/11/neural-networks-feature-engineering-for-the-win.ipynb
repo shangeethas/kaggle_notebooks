{
 "cells": [
  {
   "cell_type": "code",
   "execution_count": 1,
   "metadata": {
    "_cell_guid": "a9798604-b0ed-4ea9-b894-52b8fad97b7b",
    "_uuid": "ff2644fd-b910-43e5-9a2f-959c0adeb15a"
   },
   "outputs": [
    {
     "name": "stderr",
     "output_type": "stream",
     "text": [
      "Using TensorFlow backend.\n"
     ]
    }
   ],
   "source": [
    "import numpy as np\n",
    "import pandas as pd\n",
    "import matplotlib.pyplot as plt\n",
    "import matplotlib as mpl\n",
    "import seaborn as sns\n",
    "import datetime\n",
    "from kaggle.competitions import nflrush\n",
    "import tqdm\n",
    "import re\n",
    "from string import punctuation\n",
    "from sklearn.ensemble import RandomForestRegressor\n",
    "from sklearn.preprocessing import StandardScaler\n",
    "import keras\n",
    "from keras.callbacks import ReduceLROnPlateau, ModelCheckpoint, EarlyStopping\n",
    "from keras.utils import plot_model\n",
    "import keras.backend as K\n",
    "import tensorflow as tf\n",
    "\n",
    "sns.set_style('darkgrid')\n",
    "mpl.rcParams['figure.figsize'] = [15,10]"
   ]
  },
  {
   "cell_type": "code",
   "execution_count": 2,
   "metadata": {
    "_cell_guid": "1fbf87f8-5122-4daf-bc70-3e8d31bb5856",
    "_uuid": "fb699687-2bf2-471a-845e-d498aeee7eac"
   },
   "outputs": [],
   "source": [
    "env = nflrush.make_env()"
   ]
  },
  {
   "cell_type": "code",
   "execution_count": 3,
   "metadata": {
    "_cell_guid": "4f97b8fd-2dac-4fe0-aa0b-8c1d1cc7d66f",
    "_uuid": "72f9ce60-48f7-4666-80a4-c343e94bcc5a"
   },
   "outputs": [],
   "source": [
    "train = pd.read_csv('../input/nfl-big-data-bowl-2020/train.csv', dtype={'WindSpeed': 'object'})"
   ]
  },
  {
   "cell_type": "markdown",
   "metadata": {
    "_cell_guid": "89c007b1-c569-4323-b5c9-e7e5b3357fa5",
    "_uuid": "b1676ce2-3fa9-4417-bdcc-c44fa6ecbde1"
   },
   "source": [
    "# Overall analysis"
   ]
  },
  {
   "cell_type": "code",
   "execution_count": 4,
   "metadata": {
    "_cell_guid": "f352f6e7-a676-424f-99a6-667d329b75cc",
    "_uuid": "77f26cc6-4a5a-42ef-9871-8fe4d2b204af"
   },
   "outputs": [
    {
     "data": {
      "text/html": [
       "<div>\n",
       "<style scoped>\n",
       "    .dataframe tbody tr th:only-of-type {\n",
       "        vertical-align: middle;\n",
       "    }\n",
       "\n",
       "    .dataframe tbody tr th {\n",
       "        vertical-align: top;\n",
       "    }\n",
       "\n",
       "    .dataframe thead th {\n",
       "        text-align: right;\n",
       "    }\n",
       "</style>\n",
       "<table border=\"1\" class=\"dataframe\">\n",
       "  <thead>\n",
       "    <tr style=\"text-align: right;\">\n",
       "      <th></th>\n",
       "      <th>GameId</th>\n",
       "      <th>PlayId</th>\n",
       "      <th>Team</th>\n",
       "      <th>X</th>\n",
       "      <th>Y</th>\n",
       "      <th>S</th>\n",
       "      <th>A</th>\n",
       "      <th>Dis</th>\n",
       "      <th>Orientation</th>\n",
       "      <th>Dir</th>\n",
       "      <th>...</th>\n",
       "      <th>Week</th>\n",
       "      <th>Stadium</th>\n",
       "      <th>Location</th>\n",
       "      <th>StadiumType</th>\n",
       "      <th>Turf</th>\n",
       "      <th>GameWeather</th>\n",
       "      <th>Temperature</th>\n",
       "      <th>Humidity</th>\n",
       "      <th>WindSpeed</th>\n",
       "      <th>WindDirection</th>\n",
       "    </tr>\n",
       "  </thead>\n",
       "  <tbody>\n",
       "    <tr>\n",
       "      <td>0</td>\n",
       "      <td>2017090700</td>\n",
       "      <td>20170907000118</td>\n",
       "      <td>away</td>\n",
       "      <td>73.91</td>\n",
       "      <td>34.84</td>\n",
       "      <td>1.69</td>\n",
       "      <td>1.13</td>\n",
       "      <td>0.40</td>\n",
       "      <td>81.99</td>\n",
       "      <td>177.18</td>\n",
       "      <td>...</td>\n",
       "      <td>1</td>\n",
       "      <td>Gillette Stadium</td>\n",
       "      <td>Foxborough, MA</td>\n",
       "      <td>Outdoor</td>\n",
       "      <td>Field Turf</td>\n",
       "      <td>Clear and warm</td>\n",
       "      <td>63.0</td>\n",
       "      <td>77.0</td>\n",
       "      <td>8</td>\n",
       "      <td>SW</td>\n",
       "    </tr>\n",
       "    <tr>\n",
       "      <td>1</td>\n",
       "      <td>2017090700</td>\n",
       "      <td>20170907000118</td>\n",
       "      <td>away</td>\n",
       "      <td>74.67</td>\n",
       "      <td>32.64</td>\n",
       "      <td>0.42</td>\n",
       "      <td>1.35</td>\n",
       "      <td>0.01</td>\n",
       "      <td>27.61</td>\n",
       "      <td>198.70</td>\n",
       "      <td>...</td>\n",
       "      <td>1</td>\n",
       "      <td>Gillette Stadium</td>\n",
       "      <td>Foxborough, MA</td>\n",
       "      <td>Outdoor</td>\n",
       "      <td>Field Turf</td>\n",
       "      <td>Clear and warm</td>\n",
       "      <td>63.0</td>\n",
       "      <td>77.0</td>\n",
       "      <td>8</td>\n",
       "      <td>SW</td>\n",
       "    </tr>\n",
       "    <tr>\n",
       "      <td>2</td>\n",
       "      <td>2017090700</td>\n",
       "      <td>20170907000118</td>\n",
       "      <td>away</td>\n",
       "      <td>74.00</td>\n",
       "      <td>33.20</td>\n",
       "      <td>1.22</td>\n",
       "      <td>0.59</td>\n",
       "      <td>0.31</td>\n",
       "      <td>3.01</td>\n",
       "      <td>202.73</td>\n",
       "      <td>...</td>\n",
       "      <td>1</td>\n",
       "      <td>Gillette Stadium</td>\n",
       "      <td>Foxborough, MA</td>\n",
       "      <td>Outdoor</td>\n",
       "      <td>Field Turf</td>\n",
       "      <td>Clear and warm</td>\n",
       "      <td>63.0</td>\n",
       "      <td>77.0</td>\n",
       "      <td>8</td>\n",
       "      <td>SW</td>\n",
       "    </tr>\n",
       "    <tr>\n",
       "      <td>3</td>\n",
       "      <td>2017090700</td>\n",
       "      <td>20170907000118</td>\n",
       "      <td>away</td>\n",
       "      <td>71.46</td>\n",
       "      <td>27.70</td>\n",
       "      <td>0.42</td>\n",
       "      <td>0.54</td>\n",
       "      <td>0.02</td>\n",
       "      <td>359.77</td>\n",
       "      <td>105.64</td>\n",
       "      <td>...</td>\n",
       "      <td>1</td>\n",
       "      <td>Gillette Stadium</td>\n",
       "      <td>Foxborough, MA</td>\n",
       "      <td>Outdoor</td>\n",
       "      <td>Field Turf</td>\n",
       "      <td>Clear and warm</td>\n",
       "      <td>63.0</td>\n",
       "      <td>77.0</td>\n",
       "      <td>8</td>\n",
       "      <td>SW</td>\n",
       "    </tr>\n",
       "    <tr>\n",
       "      <td>4</td>\n",
       "      <td>2017090700</td>\n",
       "      <td>20170907000118</td>\n",
       "      <td>away</td>\n",
       "      <td>69.32</td>\n",
       "      <td>35.42</td>\n",
       "      <td>1.82</td>\n",
       "      <td>2.43</td>\n",
       "      <td>0.16</td>\n",
       "      <td>12.63</td>\n",
       "      <td>164.31</td>\n",
       "      <td>...</td>\n",
       "      <td>1</td>\n",
       "      <td>Gillette Stadium</td>\n",
       "      <td>Foxborough, MA</td>\n",
       "      <td>Outdoor</td>\n",
       "      <td>Field Turf</td>\n",
       "      <td>Clear and warm</td>\n",
       "      <td>63.0</td>\n",
       "      <td>77.0</td>\n",
       "      <td>8</td>\n",
       "      <td>SW</td>\n",
       "    </tr>\n",
       "  </tbody>\n",
       "</table>\n",
       "<p>5 rows × 49 columns</p>\n",
       "</div>"
      ],
      "text/plain": [
       "       GameId          PlayId  Team      X      Y     S     A   Dis  \\\n",
       "0  2017090700  20170907000118  away  73.91  34.84  1.69  1.13  0.40   \n",
       "1  2017090700  20170907000118  away  74.67  32.64  0.42  1.35  0.01   \n",
       "2  2017090700  20170907000118  away  74.00  33.20  1.22  0.59  0.31   \n",
       "3  2017090700  20170907000118  away  71.46  27.70  0.42  0.54  0.02   \n",
       "4  2017090700  20170907000118  away  69.32  35.42  1.82  2.43  0.16   \n",
       "\n",
       "   Orientation     Dir  ...  Week           Stadium        Location  \\\n",
       "0        81.99  177.18  ...     1  Gillette Stadium  Foxborough, MA   \n",
       "1        27.61  198.70  ...     1  Gillette Stadium  Foxborough, MA   \n",
       "2         3.01  202.73  ...     1  Gillette Stadium  Foxborough, MA   \n",
       "3       359.77  105.64  ...     1  Gillette Stadium  Foxborough, MA   \n",
       "4        12.63  164.31  ...     1  Gillette Stadium  Foxborough, MA   \n",
       "\n",
       "   StadiumType        Turf     GameWeather Temperature Humidity  WindSpeed  \\\n",
       "0      Outdoor  Field Turf  Clear and warm        63.0     77.0          8   \n",
       "1      Outdoor  Field Turf  Clear and warm        63.0     77.0          8   \n",
       "2      Outdoor  Field Turf  Clear and warm        63.0     77.0          8   \n",
       "3      Outdoor  Field Turf  Clear and warm        63.0     77.0          8   \n",
       "4      Outdoor  Field Turf  Clear and warm        63.0     77.0          8   \n",
       "\n",
       "   WindDirection  \n",
       "0             SW  \n",
       "1             SW  \n",
       "2             SW  \n",
       "3             SW  \n",
       "4             SW  \n",
       "\n",
       "[5 rows x 49 columns]"
      ]
     },
     "execution_count": 4,
     "metadata": {},
     "output_type": "execute_result"
    }
   ],
   "source": [
    "train.head()"
   ]
  },
  {
   "cell_type": "markdown",
   "metadata": {},
   "source": [
    "## Feature Engineering"
   ]
  },
  {
   "cell_type": "code",
   "execution_count": 5,
   "metadata": {},
   "outputs": [],
   "source": [
    "#from https://www.kaggle.com/prashantkikani/nfl-starter-lgb-feature-engg\n",
    "train['DefendersInTheBox_vs_Distance'] = train['DefendersInTheBox'] / train['Distance']"
   ]
  },
  {
   "cell_type": "markdown",
   "metadata": {
    "_cell_guid": "bbf962b7-28fe-4b1d-8ce7-af815b5ffe9d",
    "_uuid": "9dd3edf6-c372-4e94-a018-b9fdbc13996a"
   },
   "source": [
    "# Categorical features"
   ]
  },
  {
   "cell_type": "code",
   "execution_count": 6,
   "metadata": {
    "_cell_guid": "2996d6a4-18fc-4ce8-a2d0-a0a58b2b2391",
    "_uuid": "a4f3359c-ab23-413e-b87a-5e9bfa406be6"
   },
   "outputs": [],
   "source": [
    "cat_features = []\n",
    "for col in train.columns:\n",
    "    if train[col].dtype =='object':\n",
    "        cat_features.append((col, len(train[col].unique())))"
   ]
  },
  {
   "cell_type": "code",
   "execution_count": 7,
   "metadata": {},
   "outputs": [
    {
     "data": {
      "text/plain": [
       "[('Team', 2),\n",
       " ('DisplayName', 2230),\n",
       " ('GameClock', 901),\n",
       " ('PossessionTeam', 32),\n",
       " ('FieldPosition', 33),\n",
       " ('OffenseFormation', 9),\n",
       " ('OffensePersonnel', 56),\n",
       " ('DefensePersonnel', 38),\n",
       " ('PlayDirection', 2),\n",
       " ('TimeHandoff', 22935),\n",
       " ('TimeSnap', 22943),\n",
       " ('PlayerHeight', 16),\n",
       " ('PlayerBirthDate', 1688),\n",
       " ('PlayerCollegeName', 301),\n",
       " ('Position', 25),\n",
       " ('HomeTeamAbbr', 32),\n",
       " ('VisitorTeamAbbr', 32),\n",
       " ('Stadium', 55),\n",
       " ('Location', 60),\n",
       " ('StadiumType', 30),\n",
       " ('Turf', 20),\n",
       " ('GameWeather', 62),\n",
       " ('WindSpeed', 41),\n",
       " ('WindDirection', 54)]"
      ]
     },
     "execution_count": 7,
     "metadata": {},
     "output_type": "execute_result"
    }
   ],
   "source": [
    "cat_features"
   ]
  },
  {
   "cell_type": "markdown",
   "metadata": {
    "_cell_guid": "f07d9476-d360-4f37-9118-5954fb6b591d",
    "_uuid": "1c43c14a-5a9c-4245-8510-285e435ae314"
   },
   "source": [
    "Let's preprocess some of those features."
   ]
  },
  {
   "cell_type": "markdown",
   "metadata": {},
   "source": [
    "## Stadium Type"
   ]
  },
  {
   "cell_type": "code",
   "execution_count": 8,
   "metadata": {},
   "outputs": [
    {
     "data": {
      "text/plain": [
       "Outdoor                   267696\n",
       "Outdoors                   67474\n",
       "Indoors                    40854\n",
       "Dome                       17336\n",
       "Indoor                     16148\n",
       "Retractable Roof           15884\n",
       "Open                        9614\n",
       "Retr. Roof-Closed           7172\n",
       "Retr. Roof - Closed         6446\n",
       "Domed, closed               5918\n",
       "Domed, open                 2684\n",
       "Closed Dome                 2134\n",
       "Domed                       1826\n",
       "Dome, closed                1826\n",
       "Oudoor                      1188\n",
       "Retr. Roof Closed           1056\n",
       "Indoor, Roof Closed         1056\n",
       "Retr. Roof-Open              990\n",
       "Bowl                         968\n",
       "Outddors                     968\n",
       "Heinz Field                  902\n",
       "Retr. Roof - Open            880\n",
       "Outdoor Retr Roof-Open       880\n",
       "Indoor, Open Roof            858\n",
       "Outdor                       858\n",
       "Ourdoor                      858\n",
       "Outside                      814\n",
       "Domed, Open                  770\n",
       "Cloudy                       770\n",
       "Name: StadiumType, dtype: int64"
      ]
     },
     "execution_count": 8,
     "metadata": {},
     "output_type": "execute_result"
    }
   ],
   "source": [
    "train['StadiumType'].value_counts()"
   ]
  },
  {
   "cell_type": "markdown",
   "metadata": {},
   "source": [
    "We already can see some typos, let's fix them."
   ]
  },
  {
   "cell_type": "code",
   "execution_count": 9,
   "metadata": {},
   "outputs": [],
   "source": [
    "def clean_StadiumType(txt):\n",
    "    if pd.isna(txt):\n",
    "        return np.nan\n",
    "    txt = txt.lower()\n",
    "    txt = ''.join([c for c in txt if c not in punctuation])\n",
    "    txt = re.sub(' +', ' ', txt)\n",
    "    txt = txt.strip()\n",
    "    txt = txt.replace('outside', 'outdoor')\n",
    "    txt = txt.replace('outdor', 'outdoor')\n",
    "    txt = txt.replace('outddors', 'outdoor')\n",
    "    txt = txt.replace('outdoors', 'outdoor')\n",
    "    txt = txt.replace('oudoor', 'outdoor')\n",
    "    txt = txt.replace('indoors', 'indoor')\n",
    "    txt = txt.replace('ourdoor', 'outdoor')\n",
    "    txt = txt.replace('retractable', 'rtr.')\n",
    "    return txt"
   ]
  },
  {
   "cell_type": "code",
   "execution_count": 10,
   "metadata": {},
   "outputs": [],
   "source": [
    "train['StadiumType'] = train['StadiumType'].apply(clean_StadiumType)"
   ]
  },
  {
   "cell_type": "markdown",
   "metadata": {},
   "source": [
    "By pareto's principle we are just going to focus on the words: outdoor, indoor, closed and open."
   ]
  },
  {
   "cell_type": "code",
   "execution_count": 11,
   "metadata": {},
   "outputs": [],
   "source": [
    "def transform_StadiumType(txt):\n",
    "    if pd.isna(txt):\n",
    "        return np.nan\n",
    "    if 'outdoor' in txt or 'open' in txt:\n",
    "        return 1\n",
    "    if 'indoor' in txt or 'closed' in txt:\n",
    "        return 0\n",
    "    \n",
    "    return np.nan"
   ]
  },
  {
   "cell_type": "code",
   "execution_count": 12,
   "metadata": {},
   "outputs": [],
   "source": [
    "train['StadiumType'] = train['StadiumType'].apply(transform_StadiumType)"
   ]
  },
  {
   "cell_type": "markdown",
   "metadata": {},
   "source": [
    "## Turf"
   ]
  },
  {
   "cell_type": "code",
   "execution_count": 13,
   "metadata": {},
   "outputs": [],
   "source": [
    "#from https://www.kaggle.com/c/nfl-big-data-bowl-2020/discussion/112681#latest-649087\n",
    "Turf = {'Field Turf':'Artificial', 'A-Turf Titan':'Artificial', 'Grass':'Natural', 'UBU Sports Speed S5-M':'Artificial', \n",
    "        'Artificial':'Artificial', 'DD GrassMaster':'Artificial', 'Natural Grass':'Natural', \n",
    "        'UBU Speed Series-S5-M':'Artificial', 'FieldTurf':'Artificial', 'FieldTurf 360':'Artificial', 'Natural grass':'Natural', 'grass':'Natural', \n",
    "        'Natural':'Natural', 'Artifical':'Artificial', 'FieldTurf360':'Artificial', 'Naturall Grass':'Natural', 'Field turf':'Artificial', \n",
    "        'SISGrass':'Artificial', 'Twenty-Four/Seven Turf':'Artificial', 'natural grass':'Natural'} \n",
    "\n",
    "train['Turf'] = train['Turf'].map(Turf)\n",
    "train['Turf'] = train['Turf'] == 'Natural'"
   ]
  },
  {
   "cell_type": "markdown",
   "metadata": {},
   "source": [
    "## Possession Team"
   ]
  },
  {
   "cell_type": "code",
   "execution_count": 14,
   "metadata": {},
   "outputs": [
    {
     "data": {
      "text/html": [
       "<div>\n",
       "<style scoped>\n",
       "    .dataframe tbody tr th:only-of-type {\n",
       "        vertical-align: middle;\n",
       "    }\n",
       "\n",
       "    .dataframe tbody tr th {\n",
       "        vertical-align: top;\n",
       "    }\n",
       "\n",
       "    .dataframe thead th {\n",
       "        text-align: right;\n",
       "    }\n",
       "</style>\n",
       "<table border=\"1\" class=\"dataframe\">\n",
       "  <thead>\n",
       "    <tr style=\"text-align: right;\">\n",
       "      <th></th>\n",
       "      <th>PossessionTeam</th>\n",
       "      <th>HomeTeamAbbr</th>\n",
       "      <th>VisitorTeamAbbr</th>\n",
       "    </tr>\n",
       "  </thead>\n",
       "  <tbody>\n",
       "    <tr>\n",
       "      <td>2992</td>\n",
       "      <td>BLT</td>\n",
       "      <td>CIN</td>\n",
       "      <td>BAL</td>\n",
       "    </tr>\n",
       "    <tr>\n",
       "      <td>2993</td>\n",
       "      <td>BLT</td>\n",
       "      <td>CIN</td>\n",
       "      <td>BAL</td>\n",
       "    </tr>\n",
       "    <tr>\n",
       "      <td>2994</td>\n",
       "      <td>BLT</td>\n",
       "      <td>CIN</td>\n",
       "      <td>BAL</td>\n",
       "    </tr>\n",
       "    <tr>\n",
       "      <td>2995</td>\n",
       "      <td>BLT</td>\n",
       "      <td>CIN</td>\n",
       "      <td>BAL</td>\n",
       "    </tr>\n",
       "    <tr>\n",
       "      <td>2996</td>\n",
       "      <td>BLT</td>\n",
       "      <td>CIN</td>\n",
       "      <td>BAL</td>\n",
       "    </tr>\n",
       "    <tr>\n",
       "      <td>...</td>\n",
       "      <td>...</td>\n",
       "      <td>...</td>\n",
       "      <td>...</td>\n",
       "    </tr>\n",
       "    <tr>\n",
       "      <td>509669</td>\n",
       "      <td>ARZ</td>\n",
       "      <td>SEA</td>\n",
       "      <td>ARI</td>\n",
       "    </tr>\n",
       "    <tr>\n",
       "      <td>509670</td>\n",
       "      <td>ARZ</td>\n",
       "      <td>SEA</td>\n",
       "      <td>ARI</td>\n",
       "    </tr>\n",
       "    <tr>\n",
       "      <td>509671</td>\n",
       "      <td>ARZ</td>\n",
       "      <td>SEA</td>\n",
       "      <td>ARI</td>\n",
       "    </tr>\n",
       "    <tr>\n",
       "      <td>509672</td>\n",
       "      <td>ARZ</td>\n",
       "      <td>SEA</td>\n",
       "      <td>ARI</td>\n",
       "    </tr>\n",
       "    <tr>\n",
       "      <td>509673</td>\n",
       "      <td>ARZ</td>\n",
       "      <td>SEA</td>\n",
       "      <td>ARI</td>\n",
       "    </tr>\n",
       "  </tbody>\n",
       "</table>\n",
       "<p>63822 rows × 3 columns</p>\n",
       "</div>"
      ],
      "text/plain": [
       "       PossessionTeam HomeTeamAbbr VisitorTeamAbbr\n",
       "2992              BLT          CIN             BAL\n",
       "2993              BLT          CIN             BAL\n",
       "2994              BLT          CIN             BAL\n",
       "2995              BLT          CIN             BAL\n",
       "2996              BLT          CIN             BAL\n",
       "...               ...          ...             ...\n",
       "509669            ARZ          SEA             ARI\n",
       "509670            ARZ          SEA             ARI\n",
       "509671            ARZ          SEA             ARI\n",
       "509672            ARZ          SEA             ARI\n",
       "509673            ARZ          SEA             ARI\n",
       "\n",
       "[63822 rows x 3 columns]"
      ]
     },
     "execution_count": 14,
     "metadata": {},
     "output_type": "execute_result"
    }
   ],
   "source": [
    "train[(train['PossessionTeam']!=train['HomeTeamAbbr']) & (train['PossessionTeam']!=train['VisitorTeamAbbr'])][['PossessionTeam', 'HomeTeamAbbr', 'VisitorTeamAbbr']]"
   ]
  },
  {
   "cell_type": "markdown",
   "metadata": {},
   "source": [
    "We have some problem with the enconding of the teams such as BLT and BAL or ARZ and ARI.\n",
    "\n",
    "Let's try to fix them manually."
   ]
  },
  {
   "cell_type": "code",
   "execution_count": 15,
   "metadata": {},
   "outputs": [
    {
     "data": {
      "text/plain": [
       "True"
      ]
     },
     "execution_count": 15,
     "metadata": {},
     "output_type": "execute_result"
    }
   ],
   "source": [
    "sorted(train['HomeTeamAbbr'].unique()) == sorted(train['VisitorTeamAbbr'].unique())"
   ]
  },
  {
   "cell_type": "code",
   "execution_count": 16,
   "metadata": {},
   "outputs": [
    {
     "name": "stdout",
     "output_type": "stream",
     "text": [
      "ARI ARZ\n",
      "BAL BLT\n",
      "CLE CLV\n",
      "HOU HST\n"
     ]
    }
   ],
   "source": [
    "diff_abbr = []\n",
    "for x,y  in zip(sorted(train['HomeTeamAbbr'].unique()), sorted(train['PossessionTeam'].unique())):\n",
    "    if x!=y:\n",
    "        print(x + \" \" + y)"
   ]
  },
  {
   "cell_type": "markdown",
   "metadata": {},
   "source": [
    "Apparently these are the only three problems, let's fix it."
   ]
  },
  {
   "cell_type": "code",
   "execution_count": 17,
   "metadata": {},
   "outputs": [],
   "source": [
    "map_abbr = {'ARI': 'ARZ', 'BAL': 'BLT', 'CLE': 'CLV', 'HOU': 'HST'}\n",
    "for abb in train['PossessionTeam'].unique():\n",
    "    map_abbr[abb] = abb"
   ]
  },
  {
   "cell_type": "code",
   "execution_count": 18,
   "metadata": {},
   "outputs": [],
   "source": [
    "train['PossessionTeam'] = train['PossessionTeam'].map(map_abbr)\n",
    "train['HomeTeamAbbr'] = train['HomeTeamAbbr'].map(map_abbr)\n",
    "train['VisitorTeamAbbr'] = train['VisitorTeamAbbr'].map(map_abbr)"
   ]
  },
  {
   "cell_type": "code",
   "execution_count": 19,
   "metadata": {},
   "outputs": [],
   "source": [
    "train['HomePossesion'] = train['PossessionTeam'] == train['HomeTeamAbbr']"
   ]
  },
  {
   "cell_type": "code",
   "execution_count": 20,
   "metadata": {},
   "outputs": [],
   "source": [
    "train['Field_eq_Possession'] = train['FieldPosition'] == train['PossessionTeam']\n",
    "train['HomeField'] = train['FieldPosition'] == train['HomeTeamAbbr']"
   ]
  },
  {
   "cell_type": "markdown",
   "metadata": {},
   "source": [
    "## Offense formation"
   ]
  },
  {
   "cell_type": "code",
   "execution_count": 21,
   "metadata": {},
   "outputs": [
    {
     "data": {
      "text/plain": [
       "SINGLEBACK    225434\n",
       "SHOTGUN       150964\n",
       "I_FORM        106062\n",
       "PISTOL         13420\n",
       "JUMBO          11462\n",
       "WILDCAT         1782\n",
       "EMPTY            506\n",
       "ACE               22\n",
       "Name: OffenseFormation, dtype: int64"
      ]
     },
     "execution_count": 21,
     "metadata": {},
     "output_type": "execute_result"
    }
   ],
   "source": [
    "off_form = train['OffenseFormation'].unique()\n",
    "train['OffenseFormation'].value_counts()"
   ]
  },
  {
   "cell_type": "markdown",
   "metadata": {},
   "source": [
    "Since I don't have any knowledge about formations, I am just goig to one-hot encode this feature"
   ]
  },
  {
   "cell_type": "code",
   "execution_count": 22,
   "metadata": {},
   "outputs": [],
   "source": [
    "train = pd.concat([train.drop(['OffenseFormation'], axis=1), pd.get_dummies(train['OffenseFormation'], prefix='Formation')], axis=1)\n",
    "dummy_col = train.columns"
   ]
  },
  {
   "cell_type": "markdown",
   "metadata": {
    "_cell_guid": "d7f81adc-1a29-492d-ba29-b64c98485431",
    "_uuid": "bb13b517-32ff-4cdd-93f3-31b3b79dbbc5"
   },
   "source": [
    "## Game Clock"
   ]
  },
  {
   "cell_type": "markdown",
   "metadata": {
    "_cell_guid": "b19b1526-cf9f-49f6-b462-b0a771b9209a",
    "_uuid": "8e4d32ec-3096-4d7c-8be4-2bb93e2d7a3b"
   },
   "source": [
    "Game clock is supposed to be a numerical feature."
   ]
  },
  {
   "cell_type": "code",
   "execution_count": 23,
   "metadata": {
    "_cell_guid": "416aa3ed-50f2-422c-9b0d-07e9b83460d7",
    "_uuid": "3009010a-053c-46a6-b442-d20b20b20eb3"
   },
   "outputs": [
    {
     "data": {
      "text/plain": [
       "15:00:00    14476\n",
       "02:00:00     5236\n",
       "14:54:00     2156\n",
       "14:55:00     1958\n",
       "14:56:00     1276\n",
       "            ...  \n",
       "00:01:00      110\n",
       "14:58:00       88\n",
       "14:59:00       66\n",
       "14:39:00       44\n",
       "00:00:00       22\n",
       "Name: GameClock, Length: 901, dtype: int64"
      ]
     },
     "execution_count": 23,
     "metadata": {},
     "output_type": "execute_result"
    }
   ],
   "source": [
    "train['GameClock'].value_counts()"
   ]
  },
  {
   "cell_type": "markdown",
   "metadata": {
    "_cell_guid": "e5250758-ca1a-4e4b-927e-9e9de65fbe0d",
    "_uuid": "5cb3fab2-337c-4edd-a540-2dc5574785d4"
   },
   "source": [
    "Since we already have the quarter feature, we can just divide the Game Clock by 15 minutes so we can get the normalized time left in the quarter."
   ]
  },
  {
   "cell_type": "code",
   "execution_count": 24,
   "metadata": {
    "_cell_guid": "1d691a4f-b74c-49fa-b269-e129b0a95173",
    "_uuid": "d67573bc-dc38-42fc-9f30-a5e397206e0f"
   },
   "outputs": [],
   "source": [
    "def strtoseconds(txt):\n",
    "    txt = txt.split(':')\n",
    "    ans = int(txt[0])*60 + int(txt[1]) + int(txt[2])/60\n",
    "    return ans"
   ]
  },
  {
   "cell_type": "code",
   "execution_count": 25,
   "metadata": {
    "_cell_guid": "af428630-c6ff-4e4f-a293-c18a11738d15",
    "_uuid": "a8cdc425-6d86-4be2-8d73-d368d94b8231"
   },
   "outputs": [],
   "source": [
    "train['GameClock'] = train['GameClock'].apply(strtoseconds)"
   ]
  },
  {
   "cell_type": "code",
   "execution_count": 26,
   "metadata": {
    "_cell_guid": "99fb1a0a-6688-4eb1-8754-f82454775876",
    "_uuid": "363e6275-6ad9-4c89-af4c-2c435a7d5d1c"
   },
   "outputs": [
    {
     "data": {
      "text/plain": [
       "<matplotlib.axes._subplots.AxesSubplot at 0x7f109ffc80f0>"
      ]
     },
     "execution_count": 26,
     "metadata": {},
     "output_type": "execute_result"
    },
    {
     "data": {
      "image/png": "[encoded data removed]",
      "text/plain": [
       "<Figure size 432x288 with 1 Axes>"
      ]
     },
     "metadata": {
      "needs_background": "light"
     },
     "output_type": "display_data"
    }
   ],
   "source": [
    "sns.distplot(train['GameClock'])"
   ]
  },
  {
   "cell_type": "markdown",
   "metadata": {
    "_cell_guid": "f58a2052-0669-449f-8e82-4c1be7ef9e8a",
    "_uuid": "0cc3cefd-a51c-482e-b921-c15940d4cbc3"
   },
   "source": [
    "## Player height"
   ]
  },
  {
   "cell_type": "code",
   "execution_count": 27,
   "metadata": {
    "_cell_guid": "fd1c0d2e-e465-46fe-84e5-7943cff06e4a",
    "_uuid": "32568e2c-dd0f-44e2-a516-5a8a9fc82cd9"
   },
   "outputs": [
    {
     "data": {
      "text/plain": [
       "0          6-0\n",
       "1          6-3\n",
       "2          6-3\n",
       "3          6-3\n",
       "4          6-0\n",
       "          ... \n",
       "509757     6-6\n",
       "509758     6-5\n",
       "509759     6-5\n",
       "509760     6-6\n",
       "509761    5-11\n",
       "Name: PlayerHeight, Length: 509762, dtype: object"
      ]
     },
     "execution_count": 27,
     "metadata": {},
     "output_type": "execute_result"
    }
   ],
   "source": [
    "train['PlayerHeight']"
   ]
  },
  {
   "cell_type": "markdown",
   "metadata": {
    "_cell_guid": "86749dbf-0889-4167-9b5a-640601da94b8",
    "_uuid": "98e1a5b4-5329-4966-aae4-ab203617b352"
   },
   "source": [
    "We know that 1ft=12in, thus:"
   ]
  },
  {
   "cell_type": "code",
   "execution_count": 28,
   "metadata": {
    "_cell_guid": "0f0f6f7c-fb7b-49df-aa9d-32108abeb911",
    "_uuid": "00e6126d-2c75-4b0d-9a39-ffa00799cd48"
   },
   "outputs": [],
   "source": [
    "train['PlayerHeight'] = train['PlayerHeight'].apply(lambda x: 12*int(x.split('-')[0])+int(x.split('-')[1]))"
   ]
  },
  {
   "cell_type": "code",
   "execution_count": 29,
   "metadata": {},
   "outputs": [],
   "source": [
    "train['PlayerBMI'] = 703*(train['PlayerWeight']/(train['PlayerHeight'])**2)"
   ]
  },
  {
   "cell_type": "markdown",
   "metadata": {
    "_cell_guid": "ca1fd3b8-911c-4c95-9a75-a29336960281",
    "_uuid": "4731392d-85b3-4f06-ad10-d2e855259404"
   },
   "source": [
    "## Time handoff and snap and Player BirthDate"
   ]
  },
  {
   "cell_type": "code",
   "execution_count": 30,
   "metadata": {
    "_cell_guid": "6303a87a-570f-40c5-a368-5727515d085f",
    "_uuid": "1ee8517c-ad58-4dd0-94a5-13a9d3657393"
   },
   "outputs": [
    {
     "data": {
      "text/plain": [
       "0         2017-09-08T00:44:06.000Z\n",
       "1         2017-09-08T00:44:06.000Z\n",
       "2         2017-09-08T00:44:06.000Z\n",
       "3         2017-09-08T00:44:06.000Z\n",
       "4         2017-09-08T00:44:06.000Z\n",
       "                    ...           \n",
       "509757    2018-12-31T00:24:51.000Z\n",
       "509758    2018-12-31T00:24:51.000Z\n",
       "509759    2018-12-31T00:24:51.000Z\n",
       "509760    2018-12-31T00:24:51.000Z\n",
       "509761    2018-12-31T00:24:51.000Z\n",
       "Name: TimeHandoff, Length: 509762, dtype: object"
      ]
     },
     "execution_count": 30,
     "metadata": {},
     "output_type": "execute_result"
    }
   ],
   "source": [
    "train['TimeHandoff']"
   ]
  },
  {
   "cell_type": "code",
   "execution_count": 31,
   "metadata": {
    "_cell_guid": "c4925fa7-aa2d-45dc-9c67-73e7465852c9",
    "_uuid": "3f9ded81-1d2a-4c36-84dd-efcb60f184bc"
   },
   "outputs": [],
   "source": [
    "train['TimeHandoff'] = train['TimeHandoff'].apply(lambda x: datetime.datetime.strptime(x, \"%Y-%m-%dT%H:%M:%S.%fZ\"))\n",
    "train['TimeSnap'] = train['TimeSnap'].apply(lambda x: datetime.datetime.strptime(x, \"%Y-%m-%dT%H:%M:%S.%fZ\"))"
   ]
  },
  {
   "cell_type": "code",
   "execution_count": 32,
   "metadata": {
    "_cell_guid": "c0abdaa4-da54-463b-8d14-9791f7e58c21",
    "_uuid": "3ac57217-a252-42ec-b067-cefa2b5fd72b"
   },
   "outputs": [],
   "source": [
    "train['TimeDelta'] = train.apply(lambda row: (row['TimeHandoff'] - row['TimeSnap']).total_seconds(), axis=1)"
   ]
  },
  {
   "cell_type": "code",
   "execution_count": 33,
   "metadata": {
    "_cell_guid": "74726374-d122-472d-ab55-3bdec8169a3c",
    "_uuid": "1469462e-2416-4b55-a62f-0b7f4016d633"
   },
   "outputs": [],
   "source": [
    "train['PlayerBirthDate'] = train['PlayerBirthDate'].apply(lambda x: datetime.datetime.strptime(x, \"%m/%d/%Y\"))"
   ]
  },
  {
   "cell_type": "markdown",
   "metadata": {
    "_cell_guid": "d35c0fc1-af5b-4cfa-bf94-cfb0b455605b",
    "_uuid": "8f6c0a58-2fd9-4da4-a775-935d30f01870"
   },
   "source": [
    "Let's use the time handoff to calculate the players age"
   ]
  },
  {
   "cell_type": "code",
   "execution_count": 34,
   "metadata": {
    "_cell_guid": "df4b2c6a-3b1d-4434-acea-b7b5281e162c",
    "_uuid": "81518246-4fd1-4a17-aa5f-4b6fe58de355"
   },
   "outputs": [],
   "source": [
    "seconds_in_year = 60*60*24*365.25\n",
    "train['PlayerAge'] = train.apply(lambda row: (row['TimeHandoff']-row['PlayerBirthDate']).total_seconds()/seconds_in_year, axis=1)"
   ]
  },
  {
   "cell_type": "code",
   "execution_count": 35,
   "metadata": {
    "_cell_guid": "4b49a9d6-7ebb-4b9d-8574-7e547c3db476",
    "_uuid": "901347f8-8e6b-43a2-aa0e-545df16da154"
   },
   "outputs": [],
   "source": [
    "train = train.drop(['TimeHandoff', 'TimeSnap', 'PlayerBirthDate'], axis=1)"
   ]
  },
  {
   "cell_type": "markdown",
   "metadata": {
    "_cell_guid": "a53e8cdd-fe2b-45de-89f8-0c443d7bc99d",
    "_uuid": "9e964c7d-fabd-49f2-afe9-1629d9753a86"
   },
   "source": [
    "## Wind Speed and Direction"
   ]
  },
  {
   "cell_type": "code",
   "execution_count": 36,
   "metadata": {
    "_cell_guid": "6a6cb596-038c-4d87-85af-bfbf1fcfe490",
    "_uuid": "027714f6-7b58-4476-b825-c5fc0c7490cc"
   },
   "outputs": [
    {
     "data": {
      "text/plain": [
       "5                    53284\n",
       "6                    41580\n",
       "7                    39578\n",
       "4                    34584\n",
       "9                    31328\n",
       "10                   29788\n",
       "8                    29370\n",
       "3                    26862\n",
       "2                    24112\n",
       "12                   23584\n",
       "11                   17116\n",
       "15                   13926\n",
       "0                    13772\n",
       "1                    12078\n",
       "16                    9878\n",
       "13                    8404\n",
       "14                    6094\n",
       "17                    3872\n",
       "18                    1980\n",
       "13 MPH                1804\n",
       "23                    1166\n",
       "E                     1144\n",
       "SE                    1122\n",
       "10-20                 1100\n",
       "7 MPH                 1100\n",
       "Calm                  1100\n",
       "12-22                 1056\n",
       "6 mph                 1034\n",
       "20                    1012\n",
       "12mph                  968\n",
       "24                     968\n",
       "14-23                  968\n",
       "10MPH                  902\n",
       "4 MPh                  902\n",
       "10mph                  902\n",
       "15 gusts up to 25      836\n",
       "SSW                    836\n",
       "22                     836\n",
       "11-17                  726\n",
       "19                     660\n",
       "Name: WindSpeed, dtype: int64"
      ]
     },
     "execution_count": 36,
     "metadata": {},
     "output_type": "execute_result"
    }
   ],
   "source": [
    "train['WindSpeed'].value_counts()"
   ]
  },
  {
   "cell_type": "markdown",
   "metadata": {
    "_cell_guid": "e84b4ef8-137b-43e1-b8d1-59af7df321c4",
    "_uuid": "c9011df9-0fad-43e0-b6ae-d424eebac52b"
   },
   "source": [
    "We can see there are some values that are not standardized(e.g. 12mph), we are going to remove mph from all our values."
   ]
  },
  {
   "cell_type": "code",
   "execution_count": 37,
   "metadata": {
    "_cell_guid": "c15a9234-d9bc-42c2-96f1-8cfdc4ff330e",
    "_uuid": "2176aa4b-3acc-4487-bb42-e0f0f1f9d73f"
   },
   "outputs": [],
   "source": [
    "train['WindSpeed'] = train['WindSpeed'].apply(lambda x: x.lower().replace('mph', '').strip() if not pd.isna(x) else x)"
   ]
  },
  {
   "cell_type": "code",
   "execution_count": 38,
   "metadata": {
    "_cell_guid": "b837d9a5-d033-4701-ba15-f57acbce9af0",
    "_uuid": "ab6dcae3-76ca-4e05-8b52-43213d566f1a"
   },
   "outputs": [
    {
     "data": {
      "text/plain": [
       "5                    53284\n",
       "6                    42614\n",
       "7                    40678\n",
       "4                    35486\n",
       "10                   31592\n",
       "9                    31328\n",
       "8                    29370\n",
       "3                    26862\n",
       "12                   24552\n",
       "2                    24112\n",
       "11                   17116\n",
       "15                   13926\n",
       "0                    13772\n",
       "1                    12078\n",
       "13                   10208\n",
       "16                    9878\n",
       "14                    6094\n",
       "17                    3872\n",
       "18                    1980\n",
       "23                    1166\n",
       "e                     1144\n",
       "se                    1122\n",
       "calm                  1100\n",
       "10-20                 1100\n",
       "12-22                 1056\n",
       "20                    1012\n",
       "24                     968\n",
       "14-23                  968\n",
       "15 gusts up to 25      836\n",
       "22                     836\n",
       "ssw                    836\n",
       "11-17                  726\n",
       "19                     660\n",
       "Name: WindSpeed, dtype: int64"
      ]
     },
     "execution_count": 38,
     "metadata": {},
     "output_type": "execute_result"
    }
   ],
   "source": [
    "train['WindSpeed'].value_counts()"
   ]
  },
  {
   "cell_type": "code",
   "execution_count": 39,
   "metadata": {
    "_cell_guid": "eca7f782-002a-40f6-9ed9-d63a91f4f5f6",
    "_uuid": "5f3aade2-e103-4d79-aaaf-3491a08dc3e7"
   },
   "outputs": [],
   "source": [
    "#let's replace the ones that has x-y by (x+y)/2\n",
    "# and also the ones with x gusts up to y\n",
    "train['WindSpeed'] = train['WindSpeed'].apply(lambda x: (int(x.split('-')[0])+int(x.split('-')[1]))/2 if not pd.isna(x) and '-' in x else x)\n",
    "train['WindSpeed'] = train['WindSpeed'].apply(lambda x: (int(x.split()[0])+int(x.split()[-1]))/2 if not pd.isna(x) and type(x)!=float and 'gusts up to' in x else x)"
   ]
  },
  {
   "cell_type": "code",
   "execution_count": 40,
   "metadata": {
    "_cell_guid": "2599fa48-430f-4fe8-a4f2-22db4439c87a",
    "_uuid": "0a40d464-1af1-4413-b967-cb600c39c289"
   },
   "outputs": [],
   "source": [
    "def str_to_float(txt):\n",
    "    try:\n",
    "        return float(txt)\n",
    "    except:\n",
    "        return -1"
   ]
  },
  {
   "cell_type": "code",
   "execution_count": 41,
   "metadata": {
    "_cell_guid": "98329992-3f20-439c-b7da-4e5edde2c7f3",
    "_uuid": "765da928-abe6-4c84-b998-f09531cf4f1e"
   },
   "outputs": [],
   "source": [
    "train['WindSpeed'] = train['WindSpeed'].apply(str_to_float)"
   ]
  },
  {
   "cell_type": "code",
   "execution_count": 42,
   "metadata": {
    "_cell_guid": "10ef0c46-fa71-4131-ae52-3dc8402e4208",
    "_uuid": "41c59356-856f-43c8-9b47-fe469c256eb5",
    "scrolled": true
   },
   "outputs": [
    {
     "data": {
      "text/plain": [
       "NE                 30250\n",
       "NW                 27236\n",
       "SW                 25828\n",
       "SE                 25784\n",
       "WSW                24222\n",
       "N                  23188\n",
       "W                  22198\n",
       "S                  21384\n",
       "NNE                20394\n",
       "South              20328\n",
       "SSW                19910\n",
       "WNW                19118\n",
       "North              17182\n",
       "NNW                14036\n",
       "West               13618\n",
       "SSE                13376\n",
       "E                  12826\n",
       "ENE                10802\n",
       "ESE                 9878\n",
       "East                7348\n",
       "Northwest           4070\n",
       "From SW             3872\n",
       "Northeast           3652\n",
       "NorthEast           3212\n",
       "From S              3146\n",
       "s                   2728\n",
       "SouthWest           2134\n",
       "Southeast           1936\n",
       "W-NW                1804\n",
       "Southwest           1804\n",
       "West-Southwest      1386\n",
       "8                   1144\n",
       "1                   1122\n",
       "North East          1100\n",
       "East Southeast      1078\n",
       "West Northwest      1056\n",
       "Calm                1056\n",
       "N-NE                1012\n",
       "From W               990\n",
       "W-SW                 968\n",
       "From NNE             968\n",
       "North/Northwest      968\n",
       "From SSW             968\n",
       "From WSW             946\n",
       "South Southeast      946\n",
       "From NNW             924\n",
       "EAST                 902\n",
       "From SSE             880\n",
       "South Southwest      858\n",
       "13                   836\n",
       "East North East      748\n",
       "from W               726\n",
       "From ESE             682\n",
       "Name: WindDirection, dtype: int64"
      ]
     },
     "execution_count": 42,
     "metadata": {},
     "output_type": "execute_result"
    }
   ],
   "source": [
    "train['WindDirection'].value_counts()"
   ]
  },
  {
   "cell_type": "code",
   "execution_count": 43,
   "metadata": {},
   "outputs": [],
   "source": [
    "def clean_WindDirection(txt):\n",
    "    if pd.isna(txt):\n",
    "        return np.nan\n",
    "    txt = txt.lower()\n",
    "    txt = ''.join([c for c in txt if c not in punctuation])\n",
    "    txt = txt.replace('from', '')\n",
    "    txt = txt.replace(' ', '')\n",
    "    txt = txt.replace('north', 'n')\n",
    "    txt = txt.replace('south', 's')\n",
    "    txt = txt.replace('west', 'w')\n",
    "    txt = txt.replace('east', 'e')\n",
    "    return txt"
   ]
  },
  {
   "cell_type": "code",
   "execution_count": 44,
   "metadata": {},
   "outputs": [],
   "source": [
    "train['WindDirection'] = train['WindDirection'].apply(clean_WindDirection)"
   ]
  },
  {
   "cell_type": "code",
   "execution_count": 45,
   "metadata": {},
   "outputs": [
    {
     "data": {
      "text/plain": [
       "s       47586\n",
       "n       40370\n",
       "ne      38214\n",
       "w       37532\n",
       "sw      33638\n",
       "nw      31306\n",
       "se      27720\n",
       "wsw     27522\n",
       "nne     22374\n",
       "wnw     21978\n",
       "ssw     21736\n",
       "e       21076\n",
       "nnw     15928\n",
       "sse     15202\n",
       "ese     11638\n",
       "ene     11550\n",
       "8        1144\n",
       "1        1122\n",
       "calm     1056\n",
       "13        836\n",
       "Name: WindDirection, dtype: int64"
      ]
     },
     "execution_count": 45,
     "metadata": {},
     "output_type": "execute_result"
    }
   ],
   "source": [
    "train['WindDirection'].value_counts()"
   ]
  },
  {
   "cell_type": "code",
   "execution_count": 46,
   "metadata": {},
   "outputs": [],
   "source": [
    "def transform_WindDirection(txt):\n",
    "    if pd.isna(txt):\n",
    "        return np.nan\n",
    "    \n",
    "    if txt=='n':\n",
    "        return 0\n",
    "    if txt=='nne' or txt=='nen':\n",
    "        return 1/8\n",
    "    if txt=='ne':\n",
    "        return 2/8\n",
    "    if txt=='ene' or txt=='nee':\n",
    "        return 3/8\n",
    "    if txt=='e':\n",
    "        return 4/8\n",
    "    if txt=='ese' or txt=='see':\n",
    "        return 5/8\n",
    "    if txt=='se':\n",
    "        return 6/8\n",
    "    if txt=='ses' or txt=='sse':\n",
    "        return 7/8\n",
    "    if txt=='s':\n",
    "        return 8/8\n",
    "    if txt=='ssw' or txt=='sws':\n",
    "        return 9/8\n",
    "    if txt=='sw':\n",
    "        return 10/8\n",
    "    if txt=='sww' or txt=='wsw':\n",
    "        return 11/8\n",
    "    if txt=='w':\n",
    "        return 12/8\n",
    "    if txt=='wnw' or txt=='nww':\n",
    "        return 13/8\n",
    "    if txt=='nw':\n",
    "        return 14/8\n",
    "    if txt=='nwn' or txt=='nnw':\n",
    "        return 15/8\n",
    "    return np.nan"
   ]
  },
  {
   "cell_type": "code",
   "execution_count": 47,
   "metadata": {},
   "outputs": [],
   "source": [
    "train['WindDirection'] = train['WindDirection'].apply(transform_WindDirection)"
   ]
  },
  {
   "cell_type": "markdown",
   "metadata": {
    "_cell_guid": "5bcc44c6-9495-4d62-8551-dd88ce4f4de2",
    "_uuid": "4dfb519d-24fa-4bf7-a9c7-a59b285caa4a"
   },
   "source": [
    "## PlayDirection"
   ]
  },
  {
   "cell_type": "code",
   "execution_count": 48,
   "metadata": {
    "_cell_guid": "97451668-f804-4c81-b8b9-15f2be5614c2",
    "_uuid": "5b93e997-86ec-4227-8437-b8889d6e78ed"
   },
   "outputs": [
    {
     "data": {
      "text/plain": [
       "left     256454\n",
       "right    253308\n",
       "Name: PlayDirection, dtype: int64"
      ]
     },
     "execution_count": 48,
     "metadata": {},
     "output_type": "execute_result"
    }
   ],
   "source": [
    "train['PlayDirection'].value_counts()"
   ]
  },
  {
   "cell_type": "code",
   "execution_count": 49,
   "metadata": {
    "_cell_guid": "b04eae61-9135-4fbf-a331-f39c7df71656",
    "_uuid": "6f987647-ccf7-4cb3-b8a0-2701e4488052"
   },
   "outputs": [],
   "source": [
    "train['PlayDirection'] = train['PlayDirection'].apply(lambda x: x.strip() == 'right')"
   ]
  },
  {
   "cell_type": "markdown",
   "metadata": {
    "_cell_guid": "e23f8f1c-5a59-4354-afd9-1852aabb148a",
    "_uuid": "2c0a1fd0-4e2c-4bf0-8c9b-95bc6e20c1d7"
   },
   "source": [
    "## Team"
   ]
  },
  {
   "cell_type": "code",
   "execution_count": 50,
   "metadata": {
    "_cell_guid": "29f59ee0-aa87-4552-812f-488eac6647ef",
    "_uuid": "753a80be-f9f4-4b3e-9aff-6c0226302583"
   },
   "outputs": [],
   "source": [
    "train['Team'] = train['Team'].apply(lambda x: x.strip()=='home')"
   ]
  },
  {
   "cell_type": "markdown",
   "metadata": {
    "_cell_guid": "9fd464a2-9e74-4682-a2a7-10481313f476",
    "_uuid": "c5dc1be2-77b4-4c09-8bb5-ea1052603e10"
   },
   "source": [
    "## Game Weather"
   ]
  },
  {
   "cell_type": "code",
   "execution_count": 51,
   "metadata": {
    "_cell_guid": "77190f8e-9f1d-43df-99b0-bebd20936106",
    "_uuid": "19cb48f4-e188-4eff-8b44-5f3651e3a301"
   },
   "outputs": [
    {
     "data": {
      "text/plain": [
       "array(['Clear and warm', 'Sun & clouds', 'Sunny', 'Controlled Climate',\n",
       "       'Mostly Sunny', 'Clear', nan, 'Indoor', 'Mostly Cloudy',\n",
       "       'Mostly Coudy', 'Partly sunny', 'Partly Cloudy', 'Cloudy',\n",
       "       'Sunny, highs to upper 80s', 'Indoors', 'Light Rain', 'Showers',\n",
       "       'Partly cloudy', 'Partly Sunny', '30% Chance of Rain',\n",
       "       'Cloudy with periods of rain, thunder possible. Winds shifting to WNW, 10-20 mph.',\n",
       "       'Rain', 'Cloudy, fog started developing in 2nd quarter', 'Coudy',\n",
       "       'Rain likely, temps in low 40s.', 'Cold', 'N/A (Indoors)',\n",
       "       'Clear skies', 'cloudy', 'Fair', 'Mostly cloudy',\n",
       "       'Cloudy, chance of rain', 'Heavy lake effect snow', 'Party Cloudy',\n",
       "       'Cloudy, light snow accumulating 1-3\"', 'Cloudy and cold', 'Snow',\n",
       "       'Hazy', 'Scattered Showers', 'Cloudy and Cool', 'N/A Indoor',\n",
       "       'Rain Chance 40%', 'Clear and sunny', 'Mostly sunny',\n",
       "       'Sunny and warm', 'Partly clear', 'Cloudy, 50% change of rain',\n",
       "       'Clear and Sunny', 'Sunny, Windy', 'Clear and Cool',\n",
       "       'Sunny and clear', 'Mostly Sunny Skies', 'Partly Clouidy',\n",
       "       'Clear Skies', 'Sunny Skies', 'Overcast',\n",
       "       'T: 51; H: 55; W: NW 10 mph', 'Cloudy, Rain', 'Rain shower',\n",
       "       'Clear and cold', 'Rainy', 'Sunny and cold'], dtype=object)"
      ]
     },
     "execution_count": 51,
     "metadata": {},
     "output_type": "execute_result"
    }
   ],
   "source": [
    "train['GameWeather'].unique()"
   ]
  },
  {
   "cell_type": "markdown",
   "metadata": {
    "_cell_guid": "75ba864e-c328-4929-8090-4310ec34397f",
    "_uuid": "c2eb5e45-9f3d-45ec-9312-136db8918163"
   },
   "source": [
    "We are going to apply the following preprocessing:\n",
    " \n",
    "- Lower case\n",
    "- N/A Indoor, N/A (Indoors) and Indoor => indoor Let's try to cluster those together.\n",
    "- coudy and clouidy => cloudy\n",
    "- party => partly\n",
    "- sunny and clear => clear and sunny\n",
    "- skies and mostly => \"\""
   ]
  },
  {
   "cell_type": "code",
   "execution_count": 52,
   "metadata": {
    "_cell_guid": "7ad94b8c-5414-48b4-a495-cb3a2ba13522",
    "_uuid": "68de9ad0-dbb7-4cbc-b40d-7b81d55222e7"
   },
   "outputs": [],
   "source": [
    "train['GameWeather'] = train['GameWeather'].str.lower()\n",
    "indoor = \"indoor\"\n",
    "train['GameWeather'] = train['GameWeather'].apply(lambda x: indoor if not pd.isna(x) and indoor in x else x)\n",
    "train['GameWeather'] = train['GameWeather'].apply(lambda x: x.replace('coudy', 'cloudy').replace('clouidy', 'cloudy').replace('party', 'partly') if not pd.isna(x) else x)\n",
    "train['GameWeather'] = train['GameWeather'].apply(lambda x: x.replace('clear and sunny', 'sunny and clear') if not pd.isna(x) else x)\n",
    "train['GameWeather'] = train['GameWeather'].apply(lambda x: x.replace('skies', '').replace(\"mostly\", \"\").strip() if not pd.isna(x) else x)"
   ]
  },
  {
   "cell_type": "code",
   "execution_count": 53,
   "metadata": {
    "_cell_guid": "36bcdbfb-a2eb-4980-876f-efa5ffa14409",
    "_uuid": "10cea94f-b2b5-4206-850d-07dbdc22abb0"
   },
   "outputs": [
    {
     "data": {
      "text/plain": [
       "array(['clear and warm', 'sun & clouds', 'sunny', 'controlled climate',\n",
       "       'clear', nan, 'indoor', 'cloudy', 'partly sunny', 'partly cloudy',\n",
       "       'sunny, highs to upper 80s', 'light rain', 'showers',\n",
       "       '30% chance of rain',\n",
       "       'cloudy with periods of rain, thunder possible. winds shifting to wnw, 10-20 mph.',\n",
       "       'rain', 'cloudy, fog started developing in 2nd quarter',\n",
       "       'rain likely, temps in low 40s.', 'cold', 'fair',\n",
       "       'cloudy, chance of rain', 'heavy lake effect snow',\n",
       "       'cloudy, light snow accumulating 1-3\"', 'cloudy and cold', 'snow',\n",
       "       'hazy', 'scattered showers', 'cloudy and cool', 'rain chance 40%',\n",
       "       'sunny and clear', 'sunny and warm', 'partly clear',\n",
       "       'cloudy, 50% change of rain', 'sunny, windy', 'clear and cool',\n",
       "       'overcast', 't: 51; h: 55; w: nw 10 mph', 'cloudy, rain',\n",
       "       'rain shower', 'clear and cold', 'rainy', 'sunny and cold'],\n",
       "      dtype=object)"
      ]
     },
     "execution_count": 53,
     "metadata": {},
     "output_type": "execute_result"
    }
   ],
   "source": [
    "train['GameWeather'].unique()"
   ]
  },
  {
   "cell_type": "markdown",
   "metadata": {
    "_cell_guid": "c78e1f1c-d73f-4a2e-989f-bb02c180ca0f",
    "_uuid": "ed2134d8-fa03-4264-a801-00b7bc66ddef"
   },
   "source": [
    "Let's now look at the most common words we have in the weather description"
   ]
  },
  {
   "cell_type": "code",
   "execution_count": 54,
   "metadata": {
    "_cell_guid": "61ddf642-4584-4147-931c-13ae480cee0d",
    "_uuid": "2ac09166-d193-4758-8b39-4ea87f971b89"
   },
   "outputs": [
    {
     "data": {
      "text/plain": [
       "[('cloudy', 193952),\n",
       " ('sunny', 127468),\n",
       " ('partly', 58256),\n",
       " ('clear', 55594),\n",
       " ('rain', 28952),\n",
       " ('indoor', 26950),\n",
       " ('controlled', 12540),\n",
       " ('climate', 12540),\n",
       " ('and', 10956),\n",
       " ('cloudy,', 4972),\n",
       " ('fair', 4972),\n",
       " ('snow', 4708),\n",
       " ('cold', 4510),\n",
       " ('of', 4026),\n",
       " ('light', 3608)]"
      ]
     },
     "execution_count": 54,
     "metadata": {},
     "output_type": "execute_result"
    }
   ],
   "source": [
    "from collections import Counter\n",
    "weather_count = Counter()\n",
    "for weather in train['GameWeather']:\n",
    "    if pd.isna(weather):\n",
    "        continue\n",
    "    for word in weather.split():\n",
    "        weather_count[word]+=1\n",
    "        \n",
    "weather_count.most_common()[:15]"
   ]
  },
  {
   "cell_type": "markdown",
   "metadata": {
    "_cell_guid": "2cc3150c-51c5-4668-b221-a13d6a041cd1",
    "_uuid": "bbcb19d3-3003-433e-b7d1-fc444cd7c431"
   },
   "source": [
    "To encode our weather we are going to do the following map:\n",
    " \n",
    "- climate controlled or indoor => 3, sunny or sun => 2, clear => 1, cloudy => -1, rain => -2, snow => -3, others => 0\n",
    "- partly => multiply by 0.5\n",
    "\n",
    "I don't have any expercience with american football so I don't know if playing in a climate controlled or indoor stadium is good or not, if someone has a good idea on how to encode this it would be nice to leave it in the comments :)"
   ]
  },
  {
   "cell_type": "code",
   "execution_count": 55,
   "metadata": {
    "_cell_guid": "8756e015-060c-45f2-a6c8-4a81ac9de59f",
    "_uuid": "15d456c6-3600-4468-9893-e1482238a813"
   },
   "outputs": [],
   "source": [
    "def map_weather(txt):\n",
    "    ans = 1\n",
    "    if pd.isna(txt):\n",
    "        return 0\n",
    "    if 'partly' in txt:\n",
    "        ans*=0.5\n",
    "    if 'climate controlled' in txt or 'indoor' in txt:\n",
    "        return ans*3\n",
    "    if 'sunny' in txt or 'sun' in txt:\n",
    "        return ans*2\n",
    "    if 'clear' in txt:\n",
    "        return ans\n",
    "    if 'cloudy' in txt:\n",
    "        return -ans\n",
    "    if 'rain' in txt or 'rainy' in txt:\n",
    "        return -2*ans\n",
    "    if 'snow' in txt:\n",
    "        return -3*ans\n",
    "    return 0"
   ]
  },
  {
   "cell_type": "code",
   "execution_count": 56,
   "metadata": {
    "_cell_guid": "ff5f7d03-205e-4935-b22b-962382004e5b",
    "_uuid": "f26ae854-d725-4242-a753-209e7664f032"
   },
   "outputs": [],
   "source": [
    "train['GameWeather'] = train['GameWeather'].apply(map_weather)"
   ]
  },
  {
   "cell_type": "markdown",
   "metadata": {
    "_cell_guid": "8692b4e2-3846-43a1-b4a4-8c4333cc2ea1",
    "_uuid": "b8a66d46-4635-4a89-a2c6-ec65e1bddfb2"
   },
   "source": [
    "## NflId NflIdRusher"
   ]
  },
  {
   "cell_type": "code",
   "execution_count": 57,
   "metadata": {
    "_cell_guid": "6276a197-f31c-4bf5-8663-397fc89b51b0",
    "_uuid": "df832e5b-3d72-4763-9d3d-051ab24f8cd5"
   },
   "outputs": [],
   "source": [
    "train['IsRusher'] = train['NflId'] == train['NflIdRusher']"
   ]
  },
  {
   "cell_type": "code",
   "execution_count": 58,
   "metadata": {
    "_cell_guid": "99320871-af57-4927-b38f-4df49e163082",
    "_uuid": "3de6f253-7a26-4364-8ee1-b2585278bc64"
   },
   "outputs": [],
   "source": [
    "train.drop(['NflId', 'NflIdRusher'], axis=1, inplace=True)"
   ]
  },
  {
   "cell_type": "markdown",
   "metadata": {},
   "source": [
    "## PlayDirection problems"
   ]
  },
  {
   "cell_type": "markdown",
   "metadata": {},
   "source": [
    "As we can see, we have a problem if some features such as X and Y because of the play direction, let's fix those issues"
   ]
  },
  {
   "cell_type": "markdown",
   "metadata": {},
   "source": [
    "### X, orientation and direction"
   ]
  },
  {
   "cell_type": "code",
   "execution_count": 59,
   "metadata": {},
   "outputs": [],
   "source": [
    "train['X'] = train.apply(lambda row: row['X'] if row['PlayDirection'] else 120-row['X'], axis=1)"
   ]
  },
  {
   "cell_type": "code",
   "execution_count": 60,
   "metadata": {},
   "outputs": [],
   "source": [
    "#from https://www.kaggle.com/scirpus/hybrid-gp-and-nn\n",
    "def new_orientation(angle, play_direction):\n",
    "    if play_direction == 0:\n",
    "        new_angle = 360.0 - angle\n",
    "        if new_angle == 360.0:\n",
    "            new_angle = 0.0\n",
    "        return new_angle\n",
    "    else:\n",
    "        return angle\n",
    "    \n",
    "train['Orientation'] = train.apply(lambda row: new_orientation(row['Orientation'], row['PlayDirection']), axis=1)\n",
    "train['Dir'] = train.apply(lambda row: new_orientation(row['Dir'], row['PlayDirection']), axis=1)"
   ]
  },
  {
   "cell_type": "markdown",
   "metadata": {},
   "source": [
    "## YardsLeft\n",
    "\n",
    "Let's compute how many yards are left to the end-zone."
   ]
  },
  {
   "cell_type": "code",
   "execution_count": 61,
   "metadata": {},
   "outputs": [],
   "source": [
    "train['YardsLeft'] = train.apply(lambda row: 100-row['YardLine'] if row['HomeField'] else row['YardLine'], axis=1)\n",
    "train['YardsLeft'] = train.apply(lambda row: row['YardsLeft'] if row['PlayDirection'] else 100-row['YardsLeft'], axis=1)"
   ]
  },
  {
   "cell_type": "code",
   "execution_count": 62,
   "metadata": {},
   "outputs": [
    {
     "data": {
      "text/plain": [
       "0.009710413879418239"
      ]
     },
     "execution_count": 62,
     "metadata": {},
     "output_type": "execute_result"
    }
   ],
   "source": [
    "((train['YardsLeft']<train['Yards']) | (train['YardsLeft']-100>train['Yards'])).mean()"
   ]
  },
  {
   "cell_type": "markdown",
   "metadata": {},
   "source": [
    "Clearly:\n",
    "Yards<=YardsLeft and YardsLeft-100<=Yards, thus we are going to drop those wrong lines."
   ]
  },
  {
   "cell_type": "code",
   "execution_count": 63,
   "metadata": {},
   "outputs": [],
   "source": [
    "train.drop(train.index[(train['YardsLeft']<train['Yards']) | (train['YardsLeft']-100>train['Yards'])], inplace=True)"
   ]
  },
  {
   "cell_type": "markdown",
   "metadata": {
    "_cell_guid": "280b0090-ad48-4c21-91fb-4f762159b74e",
    "_uuid": "14db5230-0ae7-448c-b595-b9683230fe91"
   },
   "source": [
    "# Baseline model"
   ]
  },
  {
   "cell_type": "markdown",
   "metadata": {
    "_cell_guid": "277c1578-7565-4c59-bca9-c7830f203a09",
    "_uuid": "e075f454-f0e4-4913-bc36-b8f1425f3a58"
   },
   "source": [
    "Let's drop the categorical features and run a simple random forest in our model"
   ]
  },
  {
   "cell_type": "code",
   "execution_count": 64,
   "metadata": {},
   "outputs": [],
   "source": [
    "train = train.sort_values(by=['PlayId', 'Team', 'IsRusher', 'JerseyNumber']).reset_index()"
   ]
  },
  {
   "cell_type": "code",
   "execution_count": 65,
   "metadata": {},
   "outputs": [],
   "source": [
    "train.drop(['GameId', 'PlayId', 'index', 'IsRusher', 'Team'], axis=1, inplace=True)"
   ]
  },
  {
   "cell_type": "code",
   "execution_count": 66,
   "metadata": {
    "_cell_guid": "27659cfa-4c5a-42a5-93bf-2ccefd5aff09",
    "_uuid": "d93d3612-a452-46d0-a796-ed8813158517"
   },
   "outputs": [],
   "source": [
    "cat_features = []\n",
    "for col in train.columns:\n",
    "    if train[col].dtype =='object':\n",
    "        cat_features.append(col)\n",
    "        \n",
    "train = train.drop(cat_features, axis=1)"
   ]
  },
  {
   "cell_type": "markdown",
   "metadata": {
    "_cell_guid": "94a6f68f-b249-41cb-92c0-0b9ffd2fe60b",
    "_uuid": "742c41b8-26fa-4f36-b8a1-9dd7d2b53d52"
   },
   "source": [
    "We are now going to make one big row for each play where the rusher is the last one"
   ]
  },
  {
   "cell_type": "code",
   "execution_count": 67,
   "metadata": {},
   "outputs": [],
   "source": [
    "train.fillna(-999, inplace=True)"
   ]
  },
  {
   "cell_type": "code",
   "execution_count": 68,
   "metadata": {},
   "outputs": [],
   "source": [
    "players_col = []\n",
    "for col in train.columns:\n",
    "    if train[col][:22].std()!=0:\n",
    "        players_col.append(col)"
   ]
  },
  {
   "cell_type": "code",
   "execution_count": 69,
   "metadata": {},
   "outputs": [],
   "source": [
    "X_train = np.array(train[players_col]).reshape(-1, len(players_col)*22)"
   ]
  },
  {
   "cell_type": "code",
   "execution_count": 70,
   "metadata": {},
   "outputs": [],
   "source": [
    "play_col = train.drop(players_col+['Yards'], axis=1).columns\n",
    "X_play_col = np.zeros(shape=(X_train.shape[0], len(play_col)))\n",
    "for i, col in enumerate(play_col):\n",
    "    X_play_col[:, i] = train[col][::22]"
   ]
  },
  {
   "cell_type": "code",
   "execution_count": 71,
   "metadata": {},
   "outputs": [],
   "source": [
    "X_train = np.concatenate([X_train, X_play_col], axis=1)\n",
    "y_train = np.zeros(shape=(X_train.shape[0], 199))\n",
    "for i,yard in enumerate(train['Yards'][::22]):\n",
    "    y_train[i, yard+99:] = np.ones(shape=(1, 100-yard))"
   ]
  },
  {
   "cell_type": "code",
   "execution_count": 72,
   "metadata": {},
   "outputs": [],
   "source": [
    "scaler = StandardScaler()\n",
    "X_train = scaler.fit_transform(X_train)"
   ]
  },
  {
   "cell_type": "code",
   "execution_count": 73,
   "metadata": {},
   "outputs": [],
   "source": [
    "batch_size=64"
   ]
  },
  {
   "cell_type": "code",
   "execution_count": 74,
   "metadata": {},
   "outputs": [],
   "source": [
    "class RAdam(keras.optimizers.Optimizer):\n",
    "    \"\"\"RAdam optimizer.\n",
    "    # Arguments\n",
    "        learning_rate: float >= 0. Learning rate.\n",
    "        beta_1: float, 0 < beta < 1. Generally close to 1.\n",
    "        beta_2: float, 0 < beta < 1. Generally close to 1.\n",
    "        epsilon: float >= 0. Fuzz factor. If `None`, defaults to `K.epsilon()`.\n",
    "        decay: float >= 0. Learning rate decay over each update.\n",
    "        weight_decay: float >= 0. Weight decay for each param.\n",
    "        amsgrad: boolean. Whether to apply the AMSGrad variant of this\n",
    "            algorithm from the paper \"On the Convergence of Adam and\n",
    "            Beyond\".\n",
    "        total_steps: int >= 0. Total number of training steps. Enable warmup by setting a positive value.\n",
    "        warmup_proportion: 0 < warmup_proportion < 1. The proportion of increasing steps.\n",
    "        min_lr: float >= 0. Minimum learning rate after warmup.\n",
    "    # References\n",
    "        - [Adam - A Method for Stochastic Optimization](https://arxiv.org/abs/1412.6980v8)\n",
    "        - [On the Convergence of Adam and Beyond](https://openreview.net/forum?id=ryQu7f-RZ)\n",
    "        - [On The Variance Of The Adaptive Learning Rate And Beyond](https://arxiv.org/pdf/1908.03265v1.pdf)\n",
    "    \"\"\"\n",
    "\n",
    "    def __init__(self, learning_rate=0.001, beta_1=0.9, beta_2=0.999,\n",
    "                 epsilon=None, decay=0., weight_decay=0., amsgrad=False,\n",
    "                 total_steps=0, warmup_proportion=0.1, min_lr=0., **kwargs):\n",
    "        learning_rate = kwargs.pop('lr', learning_rate)\n",
    "        super(RAdam, self).__init__(**kwargs)\n",
    "        with K.name_scope(self.__class__.__name__):\n",
    "            self.iterations = K.variable(0, dtype='int64', name='iterations')\n",
    "            self.learning_rate = K.variable(learning_rate, name='learning_rate')\n",
    "            self.beta_1 = K.variable(beta_1, name='beta_1')\n",
    "            self.beta_2 = K.variable(beta_2, name='beta_2')\n",
    "            self.decay = K.variable(decay, name='decay')\n",
    "            self.weight_decay = K.variable(weight_decay, name='weight_decay')\n",
    "            self.total_steps = K.variable(total_steps, name='total_steps')\n",
    "            self.warmup_proportion = K.variable(warmup_proportion, name='warmup_proportion')\n",
    "            self.min_lr = K.variable(min_lr, name='min_lr')\n",
    "        if epsilon is None:\n",
    "            epsilon = K.epsilon()\n",
    "        self.epsilon = epsilon\n",
    "        self.initial_decay = decay\n",
    "        self.initial_weight_decay = weight_decay\n",
    "        self.initial_total_steps = total_steps\n",
    "        self.amsgrad = amsgrad\n",
    "\n",
    "    def get_updates(self, loss, params):\n",
    "        grads = self.get_gradients(loss, params)\n",
    "        self.updates = [K.update_add(self.iterations, 1)]\n",
    "\n",
    "        lr = self.lr\n",
    "\n",
    "        if self.initial_decay > 0:\n",
    "            lr = lr * (1. / (1. + self.decay * K.cast(self.iterations, K.dtype(self.decay))))\n",
    "\n",
    "        t = K.cast(self.iterations, K.floatx()) + 1\n",
    "\n",
    "        if self.initial_total_steps > 0:\n",
    "            warmup_steps = self.total_steps * self.warmup_proportion\n",
    "            decay_steps = K.maximum(self.total_steps - warmup_steps, 1)\n",
    "            decay_rate = (self.min_lr - lr) / decay_steps\n",
    "            lr = K.switch(\n",
    "                t <= warmup_steps,\n",
    "                lr * (t / warmup_steps),\n",
    "                lr + decay_rate * K.minimum(t - warmup_steps, decay_steps),\n",
    "            )\n",
    "\n",
    "        ms = [K.zeros(K.int_shape(p), dtype=K.dtype(p), name='m_' + str(i)) for (i, p) in enumerate(params)]\n",
    "        vs = [K.zeros(K.int_shape(p), dtype=K.dtype(p), name='v_' + str(i)) for (i, p) in enumerate(params)]\n",
    "\n",
    "        if self.amsgrad:\n",
    "            vhats = [K.zeros(K.int_shape(p), dtype=K.dtype(p), name='vhat_' + str(i)) for (i, p) in enumerate(params)]\n",
    "        else:\n",
    "            vhats = [K.zeros(1, name='vhat_' + str(i)) for i in range(len(params))]\n",
    "\n",
    "        self.weights = [self.iterations] + ms + vs + vhats\n",
    "\n",
    "        beta_1_t = K.pow(self.beta_1, t)\n",
    "        beta_2_t = K.pow(self.beta_2, t)\n",
    "\n",
    "        sma_inf = 2.0 / (1.0 - self.beta_2) - 1.0\n",
    "        sma_t = sma_inf - 2.0 * t * beta_2_t / (1.0 - beta_2_t)\n",
    "\n",
    "        for p, g, m, v, vhat in zip(params, grads, ms, vs, vhats):\n",
    "            m_t = (self.beta_1 * m) + (1. - self.beta_1) * g\n",
    "            v_t = (self.beta_2 * v) + (1. - self.beta_2) * K.square(g)\n",
    "\n",
    "            m_corr_t = m_t / (1.0 - beta_1_t)\n",
    "            if self.amsgrad:\n",
    "                vhat_t = K.maximum(vhat, v_t)\n",
    "                v_corr_t = K.sqrt(vhat_t / (1.0 - beta_2_t))\n",
    "                self.updates.append(K.update(vhat, vhat_t))\n",
    "            else:\n",
    "                v_corr_t = K.sqrt(v_t / (1.0 - beta_2_t))\n",
    "\n",
    "            r_t = K.sqrt((sma_t - 4.0) / (sma_inf - 4.0) *\n",
    "                         (sma_t - 2.0) / (sma_inf - 2.0) *\n",
    "                         sma_inf / sma_t)\n",
    "\n",
    "            p_t = K.switch(sma_t >= 5, r_t * m_corr_t / (v_corr_t + self.epsilon), m_corr_t)\n",
    "\n",
    "            if self.initial_weight_decay > 0:\n",
    "                p_t += self.weight_decay * p\n",
    "\n",
    "            p_t = p - lr * p_t\n",
    "\n",
    "            self.updates.append(K.update(m, m_t))\n",
    "            self.updates.append(K.update(v, v_t))\n",
    "            new_p = p_t\n",
    "\n",
    "            # Apply constraints.\n",
    "            if getattr(p, 'constraint', None) is not None:\n",
    "                new_p = p.constraint(new_p)\n",
    "\n",
    "            self.updates.append(K.update(p, new_p))\n",
    "        return self.updates\n",
    "\n",
    "    @property\n",
    "    def lr(self):\n",
    "        return self.learning_rate\n",
    "\n",
    "    @lr.setter\n",
    "    def lr(self, learning_rate):\n",
    "        self.learning_rate = learning_rate\n",
    "\n",
    "    def get_config(self):\n",
    "        config = {\n",
    "            'learning_rate': float(K.get_value(self.learning_rate)),\n",
    "            'beta_1': float(K.get_value(self.beta_1)),\n",
    "            'beta_2': float(K.get_value(self.beta_2)),\n",
    "            'decay': float(K.get_value(self.decay)),\n",
    "            'weight_decay': float(K.get_value(self.weight_decay)),\n",
    "            'epsilon': self.epsilon,\n",
    "            'amsgrad': self.amsgrad,\n",
    "            'total_steps': float(K.get_value(self.total_steps)),\n",
    "            'warmup_proportion': float(K.get_value(self.warmup_proportion)),\n",
    "            'min_lr': float(K.get_value(self.min_lr)),\n",
    "        }\n",
    "        base_config = super(RAdam, self).get_config()\n",
    "        return dict(list(base_config.items()) + list(config.items()))"
   ]
  },
  {
   "cell_type": "code",
   "execution_count": 75,
   "metadata": {},
   "outputs": [],
   "source": [
    "#from https://www.kaggle.com/davidcairuz/nfl-neural-network-w-softmax\n",
    "def crps(y_true, y_pred):\n",
    "    return K.mean(K.square(y_true - K.cumsum(y_pred, axis=1)), axis=1)"
   ]
  },
  {
   "cell_type": "code",
   "execution_count": 76,
   "metadata": {},
   "outputs": [],
   "source": [
    "def get_model():\n",
    "    x = keras.layers.Input(shape=[X_train.shape[1]])\n",
    "    fc1 = keras.layers.Dense(units=450, input_shape=[X_train.shape[1]])(x)\n",
    "    act1 = keras.layers.PReLU()(fc1)\n",
    "    bn1 = keras.layers.BatchNormalization()(act1)\n",
    "    dp1 = keras.layers.Dropout(0.55)(bn1)\n",
    "    gn1 = keras.layers.GaussianNoise(0.15)(dp1)\n",
    "    concat1 = keras.layers.Concatenate()([x, gn1])\n",
    "    fc2 = keras.layers.Dense(units=600)(concat1)\n",
    "    act2 = keras.layers.PReLU()(fc2)\n",
    "    bn2 = keras.layers.BatchNormalization()(act2)\n",
    "    dp2 = keras.layers.Dropout(0.55)(bn2)\n",
    "    gn2 = keras.layers.GaussianNoise(0.15)(dp2)\n",
    "    concat2 = keras.layers.Concatenate()([concat1, gn2])\n",
    "    fc3 = keras.layers.Dense(units=400)(concat2)\n",
    "    act3 = keras.layers.PReLU()(fc3)\n",
    "    bn3 = keras.layers.BatchNormalization()(act3)\n",
    "    dp3 = keras.layers.Dropout(0.55)(bn3)\n",
    "    gn3 = keras.layers.GaussianNoise(0.15)(dp3)\n",
    "    concat3 = keras.layers.Concatenate([concat2, gn3])\n",
    "    output = keras.layers.Dense(units=199, activation='softmax')(concat2)\n",
    "    model = keras.models.Model(inputs=[x], outputs=[output])\n",
    "    return model\n",
    "\n",
    "\n",
    "def train_model(X_train, y_train, X_val, y_val):\n",
    "    model = get_model()\n",
    "    model.compile(optimizer=RAdam(warmup_proportion=0.1, min_lr=1e-7), loss=crps)\n",
    "    er = EarlyStopping(patience=20, min_delta=1e-4, restore_best_weights=True, monitor='val_loss')\n",
    "    model.fit(X_train, y_train, epochs=200, callbacks=[er], validation_data=[X_val, y_val], batch_size=batch_size)\n",
    "    return model"
   ]
  },
  {
   "cell_type": "code",
   "execution_count": 77,
   "metadata": {},
   "outputs": [
    {
     "name": "stdout",
     "output_type": "stream",
     "text": [
      "Train on 18356 samples, validate on 4590 samples\n",
      "Epoch 1/200\n",
      "18356/18356 [==============================] - 7s 397us/step - loss: 0.0338 - val_loss: 0.0157\n",
      "Epoch 2/200\n",
      "18356/18356 [==============================] - 6s 341us/step - loss: 0.0157 - val_loss: 0.0148\n",
      "Epoch 3/200\n",
      "18356/18356 [==============================] - 6s 345us/step - loss: 0.0151 - val_loss: 0.0143\n",
      "Epoch 4/200\n",
      "18356/18356 [==============================] - 6s 333us/step - loss: 0.0146 - val_loss: 0.0142\n",
      "Epoch 5/200\n",
      "18356/18356 [==============================] - 6s 335us/step - loss: 0.0143 - val_loss: 0.0141\n",
      "Epoch 6/200\n",
      "18356/18356 [==============================] - 7s 359us/step - loss: 0.0141 - val_loss: 0.0140\n",
      "Epoch 7/200\n",
      "18356/18356 [==============================] - 6s 347us/step - loss: 0.0139 - val_loss: 0.0140\n",
      "Epoch 8/200\n",
      "18356/18356 [==============================] - 6s 334us/step - loss: 0.0137 - val_loss: 0.0140\n",
      "Epoch 9/200\n",
      "18356/18356 [==============================] - 6s 337us/step - loss: 0.0136 - val_loss: 0.0140\n",
      "Epoch 10/200\n",
      "18356/18356 [==============================] - 6s 336us/step - loss: 0.0135 - val_loss: 0.0138\n",
      "Epoch 11/200\n",
      "18356/18356 [==============================] - 6s 333us/step - loss: 0.0134 - val_loss: 0.0139\n",
      "Epoch 12/200\n",
      "18356/18356 [==============================] - 6s 333us/step - loss: 0.0132 - val_loss: 0.0139\n",
      "Epoch 13/200\n",
      "18356/18356 [==============================] - 6s 328us/step - loss: 0.0131 - val_loss: 0.0138\n",
      "Epoch 14/200\n",
      "18356/18356 [==============================] - 6s 328us/step - loss: 0.0130 - val_loss: 0.0139\n",
      "Epoch 15/200\n",
      "18356/18356 [==============================] - 6s 331us/step - loss: 0.0129 - val_loss: 0.0139\n",
      "Epoch 16/200\n",
      "18356/18356 [==============================] - 6s 333us/step - loss: 0.0127 - val_loss: 0.0139\n",
      "Epoch 17/200\n",
      "18356/18356 [==============================] - 6s 329us/step - loss: 0.0125 - val_loss: 0.0138\n",
      "Epoch 18/200\n",
      "18356/18356 [==============================] - 6s 329us/step - loss: 0.0124 - val_loss: 0.0139\n",
      "Epoch 19/200\n",
      "18356/18356 [==============================] - 6s 329us/step - loss: 0.0122 - val_loss: 0.0140\n",
      "Epoch 20/200\n",
      "18356/18356 [==============================] - 6s 331us/step - loss: 0.0120 - val_loss: 0.0139\n",
      "Epoch 21/200\n",
      "18356/18356 [==============================] - 6s 351us/step - loss: 0.0118 - val_loss: 0.0140\n",
      "Epoch 22/200\n",
      "18356/18356 [==============================] - 6s 333us/step - loss: 0.0116 - val_loss: 0.0140\n",
      "Epoch 23/200\n",
      "18356/18356 [==============================] - 6s 328us/step - loss: 0.0114 - val_loss: 0.0139\n",
      "Epoch 24/200\n",
      "18356/18356 [==============================] - 6s 330us/step - loss: 0.0112 - val_loss: 0.0140\n",
      "Epoch 25/200\n",
      "18356/18356 [==============================] - 6s 332us/step - loss: 0.0111 - val_loss: 0.0140\n",
      "Epoch 26/200\n",
      "18356/18356 [==============================] - 6s 334us/step - loss: 0.0109 - val_loss: 0.0141\n",
      "Epoch 27/200\n",
      "18356/18356 [==============================] - 6s 333us/step - loss: 0.0107 - val_loss: 0.0142\n",
      "Epoch 28/200\n",
      "18356/18356 [==============================] - 6s 328us/step - loss: 0.0105 - val_loss: 0.0142\n",
      "Epoch 29/200\n",
      "18356/18356 [==============================] - 6s 333us/step - loss: 0.0104 - val_loss: 0.0141\n",
      "Epoch 30/200\n",
      "18356/18356 [==============================] - 6s 338us/step - loss: 0.0102 - val_loss: 0.0142\n",
      "Train on 18357 samples, validate on 4589 samples\n",
      "Epoch 1/200\n",
      "18357/18357 [==============================] - 8s 411us/step - loss: 0.0339 - val_loss: 0.0161\n",
      "Epoch 2/200\n",
      "18357/18357 [==============================] - 6s 351us/step - loss: 0.0163 - val_loss: 0.0144\n",
      "Epoch 3/200\n",
      "18357/18357 [==============================] - 6s 353us/step - loss: 0.0150 - val_loss: 0.0139\n",
      "Epoch 4/200\n",
      "18357/18357 [==============================] - 6s 354us/step - loss: 0.0145 - val_loss: 0.0138\n",
      "Epoch 5/200\n",
      "18357/18357 [==============================] - 6s 350us/step - loss: 0.0142 - val_loss: 0.0138\n",
      "Epoch 6/200\n",
      "18357/18357 [==============================] - 6s 349us/step - loss: 0.0141 - val_loss: 0.0136\n",
      "Epoch 7/200\n",
      "18357/18357 [==============================] - 6s 351us/step - loss: 0.0138 - val_loss: 0.0137\n",
      "Epoch 8/200\n",
      "18357/18357 [==============================] - 6s 351us/step - loss: 0.0136 - val_loss: 0.0136\n",
      "Epoch 9/200\n",
      "18357/18357 [==============================] - 7s 386us/step - loss: 0.0136 - val_loss: 0.0136\n",
      "Epoch 10/200\n",
      "18357/18357 [==============================] - 7s 370us/step - loss: 0.0134 - val_loss: 0.0137\n",
      "Epoch 11/200\n",
      "18357/18357 [==============================] - 7s 376us/step - loss: 0.0133 - val_loss: 0.0135\n",
      "Epoch 12/200\n",
      "18357/18357 [==============================] - 7s 364us/step - loss: 0.0132 - val_loss: 0.0136\n",
      "Epoch 13/200\n",
      "18357/18357 [==============================] - 7s 366us/step - loss: 0.0130 - val_loss: 0.0136\n",
      "Epoch 14/200\n",
      "18357/18357 [==============================] - 7s 369us/step - loss: 0.0129 - val_loss: 0.0137\n",
      "Epoch 15/200\n",
      "18357/18357 [==============================] - 7s 358us/step - loss: 0.0127 - val_loss: 0.0137\n",
      "Epoch 16/200\n",
      "18357/18357 [==============================] - 7s 361us/step - loss: 0.0126 - val_loss: 0.0135\n",
      "Epoch 17/200\n",
      "18357/18357 [==============================] - 7s 354us/step - loss: 0.0123 - val_loss: 0.0136\n",
      "Epoch 18/200\n",
      "18357/18357 [==============================] - 6s 353us/step - loss: 0.0122 - val_loss: 0.0137\n",
      "Epoch 19/200\n",
      "18357/18357 [==============================] - 7s 361us/step - loss: 0.0120 - val_loss: 0.0136\n",
      "Epoch 20/200\n",
      "18357/18357 [==============================] - 7s 359us/step - loss: 0.0118 - val_loss: 0.0137\n",
      "Epoch 21/200\n",
      "18357/18357 [==============================] - 7s 361us/step - loss: 0.0117 - val_loss: 0.0140\n",
      "Epoch 22/200\n",
      "18357/18357 [==============================] - 7s 362us/step - loss: 0.0114 - val_loss: 0.0138\n",
      "Epoch 23/200\n",
      "18357/18357 [==============================] - 7s 358us/step - loss: 0.0112 - val_loss: 0.0138\n",
      "Epoch 24/200\n",
      "18357/18357 [==============================] - 7s 380us/step - loss: 0.0111 - val_loss: 0.0139\n",
      "Epoch 25/200\n",
      "18357/18357 [==============================] - 7s 376us/step - loss: 0.0108 - val_loss: 0.0139\n",
      "Epoch 26/200\n",
      "18357/18357 [==============================] - 6s 352us/step - loss: 0.0106 - val_loss: 0.0140\n",
      "Train on 18357 samples, validate on 4589 samples\n",
      "Epoch 1/200\n",
      "18357/18357 [==============================] - 8s 427us/step - loss: 0.0329 - val_loss: 0.0161\n",
      "Epoch 2/200\n",
      "18357/18357 [==============================] - 7s 370us/step - loss: 0.0160 - val_loss: 0.0142\n",
      "Epoch 3/200\n",
      "18357/18357 [==============================] - 7s 376us/step - loss: 0.0150 - val_loss: 0.0138\n",
      "Epoch 4/200\n",
      "18357/18357 [==============================] - 7s 375us/step - loss: 0.0147 - val_loss: 0.0137\n",
      "Epoch 5/200\n",
      "18357/18357 [==============================] - 7s 372us/step - loss: 0.0143 - val_loss: 0.0136\n",
      "Epoch 6/200\n",
      "18357/18357 [==============================] - 7s 373us/step - loss: 0.0140 - val_loss: 0.0133\n",
      "Epoch 7/200\n",
      "18357/18357 [==============================] - 7s 375us/step - loss: 0.0139 - val_loss: 0.0133\n",
      "Epoch 8/200\n",
      "18357/18357 [==============================] - 7s 383us/step - loss: 0.0137 - val_loss: 0.0132\n",
      "Epoch 9/200\n",
      "18357/18357 [==============================] - 7s 389us/step - loss: 0.0135 - val_loss: 0.0133\n",
      "Epoch 10/200\n",
      "18357/18357 [==============================] - 7s 406us/step - loss: 0.0135 - val_loss: 0.0133\n",
      "Epoch 11/200\n",
      "18357/18357 [==============================] - 7s 389us/step - loss: 0.0134 - val_loss: 0.0132\n",
      "Epoch 12/200\n",
      "18357/18357 [==============================] - 7s 374us/step - loss: 0.0132 - val_loss: 0.0134\n",
      "Epoch 13/200\n",
      "18357/18357 [==============================] - 7s 374us/step - loss: 0.0131 - val_loss: 0.0133\n",
      "Epoch 14/200\n",
      "18357/18357 [==============================] - 7s 379us/step - loss: 0.0130 - val_loss: 0.0132\n",
      "Epoch 15/200\n",
      "18357/18357 [==============================] - 7s 379us/step - loss: 0.0128 - val_loss: 0.0132\n",
      "Epoch 16/200\n",
      "18357/18357 [==============================] - 7s 378us/step - loss: 0.0126 - val_loss: 0.0133\n",
      "Epoch 17/200\n",
      "18357/18357 [==============================] - 7s 373us/step - loss: 0.0125 - val_loss: 0.0132\n",
      "Epoch 18/200\n",
      "18357/18357 [==============================] - 7s 367us/step - loss: 0.0123 - val_loss: 0.0132\n",
      "Epoch 19/200\n",
      "18357/18357 [==============================] - 7s 367us/step - loss: 0.0121 - val_loss: 0.0134\n",
      "Epoch 20/200\n",
      "18357/18357 [==============================] - 7s 370us/step - loss: 0.0119 - val_loss: 0.0134\n",
      "Epoch 21/200\n",
      "18357/18357 [==============================] - 7s 372us/step - loss: 0.0118 - val_loss: 0.0136\n",
      "Epoch 22/200\n",
      "18357/18357 [==============================] - 7s 366us/step - loss: 0.0116 - val_loss: 0.0135\n",
      "Epoch 23/200\n",
      "18357/18357 [==============================] - 7s 365us/step - loss: 0.0113 - val_loss: 0.0136\n",
      "Epoch 24/200\n",
      "18357/18357 [==============================] - 7s 380us/step - loss: 0.0113 - val_loss: 0.0137\n",
      "Epoch 25/200\n",
      "18357/18357 [==============================] - 7s 364us/step - loss: 0.0110 - val_loss: 0.0135\n",
      "Epoch 26/200\n",
      "18357/18357 [==============================] - 7s 368us/step - loss: 0.0107 - val_loss: 0.0136\n",
      "Epoch 27/200\n",
      "18357/18357 [==============================] - 7s 398us/step - loss: 0.0106 - val_loss: 0.0138\n",
      "Epoch 28/200\n",
      "18357/18357 [==============================] - 7s 372us/step - loss: 0.0105 - val_loss: 0.0137\n",
      "Train on 18357 samples, validate on 4589 samples\n",
      "Epoch 1/200\n",
      "18357/18357 [==============================] - 8s 459us/step - loss: 0.0329 - val_loss: 0.0158\n",
      "Epoch 2/200\n",
      "18357/18357 [==============================] - 7s 371us/step - loss: 0.0159 - val_loss: 0.0150\n",
      "Epoch 3/200\n",
      "18357/18357 [==============================] - 7s 365us/step - loss: 0.0152 - val_loss: 0.0147\n",
      "Epoch 4/200\n",
      "18357/18357 [==============================] - 7s 362us/step - loss: 0.0148 - val_loss: 0.0145\n",
      "Epoch 5/200\n",
      "18357/18357 [==============================] - 7s 365us/step - loss: 0.0145 - val_loss: 0.0144\n",
      "Epoch 6/200\n",
      "18357/18357 [==============================] - 7s 363us/step - loss: 0.0143 - val_loss: 0.0142\n",
      "Epoch 7/200\n",
      "18357/18357 [==============================] - 7s 364us/step - loss: 0.0140 - val_loss: 0.0142\n",
      "Epoch 8/200\n",
      "18357/18357 [==============================] - 7s 368us/step - loss: 0.0139 - val_loss: 0.0145\n",
      "Epoch 9/200\n",
      "18357/18357 [==============================] - 7s 370us/step - loss: 0.0138 - val_loss: 0.0143\n",
      "Epoch 10/200\n",
      "18357/18357 [==============================] - 7s 373us/step - loss: 0.0137 - val_loss: 0.0142\n",
      "Epoch 11/200\n",
      "18357/18357 [==============================] - 7s 370us/step - loss: 0.0135 - val_loss: 0.0143\n",
      "Epoch 12/200\n",
      "18357/18357 [==============================] - 7s 363us/step - loss: 0.0134 - val_loss: 0.0142\n",
      "Epoch 13/200\n",
      "18357/18357 [==============================] - 7s 369us/step - loss: 0.0133 - val_loss: 0.0141\n",
      "Epoch 14/200\n",
      "18357/18357 [==============================] - 7s 396us/step - loss: 0.0130 - val_loss: 0.0141\n",
      "Epoch 15/200\n",
      "18357/18357 [==============================] - 7s 394us/step - loss: 0.0129 - val_loss: 0.0142\n",
      "Epoch 16/200\n",
      "18357/18357 [==============================] - 7s 384us/step - loss: 0.0127 - val_loss: 0.0142\n",
      "Epoch 17/200\n",
      "18357/18357 [==============================] - 7s 378us/step - loss: 0.0127 - val_loss: 0.0142\n",
      "Epoch 18/200\n",
      "18357/18357 [==============================] - 7s 385us/step - loss: 0.0125 - val_loss: 0.0140\n",
      "Epoch 19/200\n",
      "18357/18357 [==============================] - 7s 392us/step - loss: 0.0122 - val_loss: 0.0143\n",
      "Epoch 20/200\n",
      "18357/18357 [==============================] - 7s 380us/step - loss: 0.0121 - val_loss: 0.0142\n",
      "Epoch 21/200\n",
      "18357/18357 [==============================] - 7s 373us/step - loss: 0.0119 - val_loss: 0.0141\n",
      "Epoch 22/200\n",
      "18357/18357 [==============================] - 7s 372us/step - loss: 0.0117 - val_loss: 0.0141\n",
      "Epoch 23/200\n",
      "18357/18357 [==============================] - 7s 384us/step - loss: 0.0115 - val_loss: 0.0142\n",
      "Epoch 24/200\n",
      "18357/18357 [==============================] - 8s 426us/step - loss: 0.0114 - val_loss: 0.0142\n",
      "Epoch 25/200\n",
      "18357/18357 [==============================] - 7s 366us/step - loss: 0.0111 - val_loss: 0.0142\n",
      "Epoch 26/200\n",
      "18357/18357 [==============================] - 7s 403us/step - loss: 0.0110 - val_loss: 0.0143\n",
      "Epoch 27/200\n",
      "18357/18357 [==============================] - 7s 360us/step - loss: 0.0108 - val_loss: 0.0142\n",
      "Epoch 28/200\n",
      "18357/18357 [==============================] - 7s 355us/step - loss: 0.0107 - val_loss: 0.0143\n",
      "Epoch 29/200\n",
      "18357/18357 [==============================] - 7s 355us/step - loss: 0.0104 - val_loss: 0.0144\n",
      "Epoch 30/200\n",
      "18357/18357 [==============================] - 7s 359us/step - loss: 0.0103 - val_loss: 0.0145\n",
      "Epoch 31/200\n",
      "18357/18357 [==============================] - 7s 365us/step - loss: 0.0101 - val_loss: 0.0145\n",
      "Epoch 32/200\n",
      "18357/18357 [==============================] - 7s 369us/step - loss: 0.0101 - val_loss: 0.0145\n",
      "Epoch 33/200\n",
      "18357/18357 [==============================] - 7s 366us/step - loss: 0.0100 - val_loss: 0.0145\n",
      "Epoch 34/200\n",
      "18357/18357 [==============================] - 7s 368us/step - loss: 0.0098 - val_loss: 0.0145\n",
      "Epoch 35/200\n",
      "18357/18357 [==============================] - 7s 369us/step - loss: 0.0096 - val_loss: 0.0146\n",
      "Epoch 36/200\n",
      "18357/18357 [==============================] - 7s 368us/step - loss: 0.0095 - val_loss: 0.0147\n",
      "Epoch 37/200\n",
      "18357/18357 [==============================] - 7s 371us/step - loss: 0.0094 - val_loss: 0.0146\n",
      "Epoch 38/200\n",
      "18357/18357 [==============================] - 7s 375us/step - loss: 0.0093 - val_loss: 0.0147\n",
      "Train on 18357 samples, validate on 4589 samples\n",
      "Epoch 1/200\n",
      "18357/18357 [==============================] - 9s 469us/step - loss: 0.0320 - val_loss: 0.0168\n",
      "Epoch 2/200\n",
      "18357/18357 [==============================] - 7s 379us/step - loss: 0.0159 - val_loss: 0.0152\n",
      "Epoch 3/200\n",
      "18357/18357 [==============================] - 7s 406us/step - loss: 0.0151 - val_loss: 0.0150\n",
      "Epoch 4/200\n",
      "18357/18357 [==============================] - 7s 385us/step - loss: 0.0148 - val_loss: 0.0144\n",
      "Epoch 5/200\n",
      "18357/18357 [==============================] - 7s 378us/step - loss: 0.0143 - val_loss: 0.0142\n",
      "Epoch 6/200\n",
      "18357/18357 [==============================] - 7s 371us/step - loss: 0.0141 - val_loss: 0.0144\n",
      "Epoch 7/200\n",
      "18357/18357 [==============================] - 7s 368us/step - loss: 0.0139 - val_loss: 0.0143\n",
      "Epoch 8/200\n",
      "18357/18357 [==============================] - 7s 365us/step - loss: 0.0138 - val_loss: 0.0141\n",
      "Epoch 9/200\n",
      "18357/18357 [==============================] - 7s 361us/step - loss: 0.0136 - val_loss: 0.0142\n",
      "Epoch 10/200\n",
      "18357/18357 [==============================] - 7s 364us/step - loss: 0.0135 - val_loss: 0.0142\n",
      "Epoch 11/200\n",
      "18357/18357 [==============================] - 7s 359us/step - loss: 0.0133 - val_loss: 0.0143\n",
      "Epoch 12/200\n",
      "18356/18356 [==============================] - 7s 378us/step - loss: 0.0139 - val_loss: 0.0138\n",
      "Epoch 9/200\n",
      "18356/18356 [==============================] - 7s 380us/step - loss: 0.0139 - val_loss: 0.0139\n",
      "Epoch 10/200\n",
      "18356/18356 [==============================] - 7s 380us/step - loss: 0.0136 - val_loss: 0.0139\n",
      "Epoch 11/200\n",
      "18356/18356 [==============================] - 7s 379us/step - loss: 0.0135 - val_loss: 0.0139\n",
      "Epoch 12/200\n",
      "18356/18356 [==============================] - 8s 409us/step - loss: 0.0133 - val_loss: 0.0136\n",
      "Epoch 13/200\n",
      "18357/18357 [==============================] - 7s 388us/step - loss: 0.0124 - val_loss: 0.0138\n",
      "Epoch 17/200\n",
      "18357/18357 [==============================] - 7s 393us/step - loss: 0.0122 - val_loss: 0.0138\n",
      "Epoch 18/200\n",
      "18357/18357 [==============================] - 7s 390us/step - loss: 0.0121 - val_loss: 0.0137\n",
      "Epoch 19/200\n",
      "18357/18357 [==============================] - 8s 410us/step - loss: 0.0119 - val_loss: 0.0138\n",
      "Epoch 20/200\n",
      "18357/18357 [==============================] - 7s 401us/step - loss: 0.0118 - val_loss: 0.0137\n",
      "Epoch 21/200\n",
      "18357/18357 [==============================] - 8s 456us/step - loss: 0.0112 - val_loss: 0.0145\n",
      "Epoch 24/200\n",
      "18357/18357 [==============================] - 8s 450us/step - loss: 0.0110 - val_loss: 0.0145\n",
      "Epoch 25/200\n",
      "18357/18357 [==============================] - 8s 440us/step - loss: 0.0108 - val_loss: 0.0146\n",
      "Epoch 26/200\n",
      "18357/18357 [==============================] - 9s 471us/step - loss: 0.0107 - val_loss: 0.0145\n",
      "Epoch 27/200\n",
      "18357/18357 [==============================] - 8s 444us/step - loss: 0.0120 - val_loss: 0.0142\n",
      "Epoch 21/200\n",
      "18357/18357 [==============================] - 8s 432us/step - loss: 0.0117 - val_loss: 0.0143\n",
      "Epoch 22/200\n",
      "18357/18357 [==============================] - 9s 470us/step - loss: 0.0117 - val_loss: 0.0143\n",
      "Epoch 23/200\n",
      "18357/18357 [==============================] - 8s 462us/step - loss: 0.0114 - val_loss: 0.0143\n",
      "Epoch 24/200\n",
      "18357/18357 [==============================] - 8s 448us/step - loss: 0.0120 - val_loss: 0.0137\n",
      "Epoch 20/200\n",
      "18357/18357 [==============================] - 8s 445us/step - loss: 0.0119 - val_loss: 0.0139\n",
      "Epoch 21/200\n",
      "18357/18357 [==============================] - 8s 443us/step - loss: 0.0119 - val_loss: 0.0137\n",
      "Epoch 22/200\n",
      "18357/18357 [==============================] - 8s 432us/step - loss: 0.0116 - val_loss: 0.0138\n",
      "Epoch 23/200\n",
      "18357/18357 [==============================] - 8s 429us/step - loss: 0.0113 - val_loss: 0.0138\n",
      "Epoch 24/200\n",
      "18357/18357 [==============================] - 8s 443us/step - loss: 0.0112 - val_loss: 0.0139\n",
      "Epoch 25/200\n",
      "18357/18357 [==============================] - 8s 437us/step - loss: 0.0109 - val_loss: 0.0139\n",
      "Epoch 26/200\n",
      "18357/18357 [==============================] - 8s 434us/step - loss: 0.0108 - val_loss: 0.0138\n",
      "Epoch 27/200\n",
      "18357/18357 [==============================] - 8s 446us/step - loss: 0.0107 - val_loss: 0.0140\n",
      "Train on 18357 samples, validate on 4589 samples\n",
      "Epoch 1/200\n",
      "18357/18357 [==============================] - 13s 690us/step - loss: 0.0340 - val_loss: 0.0170\n",
      "Epoch 2/200\n",
      "18357/18357 [==============================] - 8s 458us/step - loss: 0.0165 - val_loss: 0.0158\n",
      "Epoch 3/200\n",
      "18357/18357 [==============================] - 9s 477us/step - loss: 0.0155 - val_loss: 0.0153\n",
      "Epoch 4/200\n",
      "18357/18357 [==============================] - 8s 450us/step - loss: 0.0149 - val_loss: 0.0147\n",
      "Epoch 5/200\n",
      "18357/18357 [==============================] - 8s 442us/step - loss: 0.0144 - val_loss: 0.0148\n",
      "Epoch 6/200\n",
      "18357/18357 [==============================] - 8s 435us/step - loss: 0.0141 - val_loss: 0.0144\n",
      "Epoch 7/200\n",
      "18357/18357 [==============================] - 9s 468us/step - loss: 0.0128 - val_loss: 0.0147\n",
      "Epoch 21/200\n",
      "18357/18357 [==============================] - 9s 466us/step - loss: 0.0126 - val_loss: 0.0145\n",
      "Epoch 22/200\n",
      "18357/18357 [==============================] - 9s 470us/step - loss: 0.0124 - val_loss: 0.0146\n",
      "Epoch 23/200\n",
      "18357/18357 [==============================] - 9s 470us/step - loss: 0.0123 - val_loss: 0.0148\n",
      "Epoch 24/200\n",
      " 8256/18357 [============>.................] - ETA: 4s - loss: 0.0120"
     ]
    }
   ],
   "source": [
    "from sklearn.model_selection import RepeatedKFold\n",
    "\n",
    "rkf = RepeatedKFold(n_splits=5, n_repeats=5)\n",
    "\n",
    "models = []\n",
    "\n",
    "for tr_idx, vl_idx in rkf.split(X_train, y_train):\n",
    "    \n",
    "    x_tr, y_tr = X_train[tr_idx], y_train[tr_idx]\n",
    "    x_vl, y_vl = X_train[vl_idx], y_train[vl_idx]\n",
    "    \n",
    "    model = train_model(x_tr, y_tr, x_vl, y_vl)\n",
    "    models.append(model)"
   ]
  },
  {
   "cell_type": "code",
   "execution_count": 78,
   "metadata": {},
   "outputs": [],
   "source": [
    "def make_pred(df, sample, env, models):\n",
    "    df['StadiumType'] = df['StadiumType'].apply(clean_StadiumType)\n",
    "    df['StadiumType'] = df['StadiumType'].apply(transform_StadiumType)\n",
    "    df['DefendersInTheBox_vs_Distance'] = df['DefendersInTheBox'] / df['Distance']\n",
    "    df['OffenseFormation'] = df['OffenseFormation'].apply(lambda x: x if x in off_form else np.nan)\n",
    "    df = pd.concat([df.drop(['OffenseFormation'], axis=1), pd.get_dummies(df['OffenseFormation'], prefix='Formation')], axis=1)\n",
    "    missing_cols = set( dummy_col ) - set( df.columns )-set('Yards')\n",
    "    for c in missing_cols:\n",
    "        df[c] = 0\n",
    "    df = df[dummy_col]\n",
    "    df.drop(['Yards'], axis=1, inplace=True)\n",
    "    df['Turf'] = df['Turf'].map(Turf)\n",
    "    df['Turf'] = df['Turf'] == 'Natural'\n",
    "    df['PossessionTeam'] = df['PossessionTeam'].map(map_abbr)\n",
    "    df['HomeTeamAbbr'] = df['HomeTeamAbbr'].map(map_abbr)\n",
    "    df['VisitorTeamAbbr'] = df['VisitorTeamAbbr'].map(map_abbr)\n",
    "    df['HomePossesion'] = df['PossessionTeam'] == df['HomeTeamAbbr']\n",
    "    df['Field_eq_Possession'] = df['FieldPosition'] == df['PossessionTeam']\n",
    "    df['HomeField'] = df['FieldPosition'] == df['HomeTeamAbbr']\n",
    "    df['GameClock'] = df['GameClock'].apply(strtoseconds)\n",
    "    df['PlayerHeight'] = df['PlayerHeight'].apply(lambda x: 12*int(x.split('-')[0])+int(x.split('-')[1]))\n",
    "    df['PlayerBMI'] = 703*(df['PlayerWeight']/(df['PlayerHeight'])**2)\n",
    "    df['TimeHandoff'] = df['TimeHandoff'].apply(lambda x: datetime.datetime.strptime(x, \"%Y-%m-%dT%H:%M:%S.%fZ\"))\n",
    "    df['TimeSnap'] = df['TimeSnap'].apply(lambda x: datetime.datetime.strptime(x, \"%Y-%m-%dT%H:%M:%S.%fZ\"))\n",
    "    df['TimeDelta'] = df.apply(lambda row: (row['TimeHandoff'] - row['TimeSnap']).total_seconds(), axis=1)\n",
    "    df['PlayerBirthDate'] = df['PlayerBirthDate'].apply(lambda x: datetime.datetime.strptime(x, \"%m/%d/%Y\"))\n",
    "    seconds_in_year = 60*60*24*365.25\n",
    "    df['PlayerAge'] = df.apply(lambda row: (row['TimeHandoff']-row['PlayerBirthDate']).total_seconds()/seconds_in_year, axis=1)\n",
    "    df['WindSpeed'] = df['WindSpeed'].apply(lambda x: x.lower().replace('mph', '').strip() if not pd.isna(x) else x)\n",
    "    df['WindSpeed'] = df['WindSpeed'].apply(lambda x: (int(x.split('-')[0])+int(x.split('-')[1]))/2 if not pd.isna(x) and '-' in x else x)\n",
    "    df['WindSpeed'] = df['WindSpeed'].apply(lambda x: (int(x.split()[0])+int(x.split()[-1]))/2 if not pd.isna(x) and type(x)!=float and 'gusts up to' in x else x)\n",
    "    df['WindSpeed'] = df['WindSpeed'].apply(str_to_float)\n",
    "    df['WindDirection'] = df['WindDirection'].apply(clean_WindDirection)\n",
    "    df['WindDirection'] = df['WindDirection'].apply(transform_WindDirection)\n",
    "    df['PlayDirection'] = df['PlayDirection'].apply(lambda x: x.strip() == 'right')\n",
    "    df['Team'] = df['Team'].apply(lambda x: x.strip()=='home')\n",
    "    indoor = \"indoor\"\n",
    "    df['GameWeather'] = df['GameWeather'].apply(lambda x: indoor if not pd.isna(x) and indoor in x else x)\n",
    "    df['GameWeather'] = df['GameWeather'].apply(lambda x: x.lower().replace('coudy', 'cloudy').replace('clouidy', 'cloudy').replace('party', 'partly').replace('clear and sunny', 'sunny and clear').replace('skies', '').replace(\"mostly\", \"\").strip() if not pd.isna(x) else x)\n",
    "    df['GameWeather'] = df['GameWeather'].apply(map_weather)\n",
    "    df['IsRusher'] = df['NflId'] == df['NflIdRusher']\n",
    "    df['X'] = df.apply(lambda row: row['X'] if row['PlayDirection'] else 120-row['X'], axis=1)\n",
    "    df['Orientation'] = df.apply(lambda row: new_orientation(row['Orientation'], row['PlayDirection']), axis=1)\n",
    "    df['Dir'] = df.apply(lambda row: new_orientation(row['Dir'], row['PlayDirection']), axis=1)\n",
    "    df['YardsLeft'] = df.apply(lambda row: 100-row['YardLine'] if row['HomeField'] else row['YardLine'], axis=1)\n",
    "    df['YardsLeft'] = df.apply(lambda row: row['YardsLeft'] if row['PlayDirection'] else 100-row['YardsLeft'], axis=1)\n",
    "    df = df.sort_values(by=['PlayId', 'Team', 'IsRusher', 'JerseyNumber']).reset_index()\n",
    "    df = df.drop(['TimeHandoff', 'TimeSnap', 'PlayerBirthDate', 'NflId', 'NflIdRusher', 'GameId', 'PlayId', 'index', 'IsRusher', 'Team'], axis=1)\n",
    "    cat_features = []\n",
    "    for col in df.columns:\n",
    "        if df[col].dtype =='object':\n",
    "            cat_features.append(col)\n",
    "\n",
    "    df = df.drop(cat_features, axis=1)\n",
    "    df.fillna(-999, inplace=True)\n",
    "    X = np.array(df[players_col]).reshape(-1, len(players_col)*22)\n",
    "    play_col = df.drop(players_col, axis=1).columns\n",
    "    X_play_col = np.zeros(shape=(X.shape[0], len(play_col)))\n",
    "    for i, col in enumerate(play_col):\n",
    "        X_play_col[:, i] = df[col][::22]\n",
    "    X = np.concatenate([X, X_play_col], axis=1)\n",
    "    X = scaler.transform(X)\n",
    "    y_pred = np.mean([np.cumsum(model.predict(X), axis=1) for model in models], axis=0)\n",
    "    yardsleft = np.array(df['YardsLeft'][::22])\n",
    "    \n",
    "    for i in range(len(yardsleft)):\n",
    "        y_pred[i, :yardsleft[i]-1] = 0\n",
    "        y_pred[i, yardsleft[i]+100:] = 1\n",
    "    env.predict(pd.DataFrame(data=y_pred.clip(0,1),columns=sample.columns))\n",
    "    return y_pred"
   ]
  },
  {
   "cell_type": "code",
   "execution_count": 79,
   "metadata": {},
   "outputs": [
    {
     "name": "stderr",
     "output_type": "stream",
     "text": [
      "3438it [16:52,  3.40it/s]\n"
     ]
    }
   ],
   "source": [
    "for test, sample in tqdm.tqdm(env.iter_test()):\n",
    "     make_pred(test, sample, env, models)"
   ]
  },
  {
   "cell_type": "code",
   "execution_count": 80,
   "metadata": {},
   "outputs": [
    {
     "name": "stdout",
     "output_type": "stream",
     "text": [
      "Your submission file has been saved!  Once you `Commit` your Notebook and it finishes running, you can submit the file to the competition from the Notebook Viewer `Output` tab.\n"
     ]
    }
   ],
   "source": [
    "env.write_submission_file()"
   ]
  },
  {
   "cell_type": "markdown",
   "metadata": {
    "_cell_guid": "b5211633-aa3d-4655-bb8b-ab24801ffef7",
    "_uuid": "6029f120-f8c5-4933-b02d-774383cd2164"
   },
   "source": [
    "# End\n",
    "\n",
    "If you reached this far please comment and upvote this kernel, feel free to make improvements on the kernel and please share if you found anything useful!"
   ]
  }
 ],
 "metadata": {
  "kernelspec": {
   "display_name": "Python 3",
   "language": "python",
   "name": "python3"
  },
  "language_info": {
   "codemirror_mode": {
    "name": "ipython",
    "version": 3
   },
   "file_extension": ".py",
   "mimetype": "text/x-python",
   "name": "python",
   "nbconvert_exporter": "python",
   "pygments_lexer": "ipython3",
   "version": "3.6.6"
  }
 },
 "nbformat": 4,
 "nbformat_minor": 1
}
