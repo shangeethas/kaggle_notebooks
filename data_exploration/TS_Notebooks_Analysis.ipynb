{
  "nbformat": 4,
  "nbformat_minor": 0,
  "metadata": {
    "kernelspec": {
      "display_name": "Python 3",
      "language": "python",
      "name": "python3"
    },
    "language_info": {
      "codemirror_mode": {
        "name": "ipython",
        "version": 3
      },
      "file_extension": ".py",
      "mimetype": "text/x-python",
      "name": "python",
      "nbconvert_exporter": "python",
      "pygments_lexer": "ipython3",
      "version": "3.8.5"
    },
    "colab": {
      "name": "TS_Notebooks_Analysis.ipynb",
      "provenance": []
    }
  },
  "cells": [
    {
      "cell_type": "code",
      "metadata": {
        "colab": {
          "base_uri": "https://localhost:8080/"
        },
        "id": "eBFtSs-Z8cnJ",
        "outputId": "d6313882-15a3-4b7d-c812-f70d1736e80e"
      },
      "source": [
        "from google.colab import drive\n",
        "drive.mount('/content/gdrive')"
      ],
      "execution_count": null,
      "outputs": [
        {
          "output_type": "stream",
          "text": [
            "Mounted at /content/gdrive\n"
          ],
          "name": "stdout"
        }
      ]
    },
    {
      "cell_type": "markdown",
      "metadata": {
        "id": "Fewj95AqfIL1"
      },
      "source": [
        "## **Time Series Experiments - Model Selection**"
      ]
    },
    {
      "cell_type": "code",
      "metadata": {
        "colab": {
          "base_uri": "https://localhost:8080/",
          "height": 496
        },
        "id": "t2BjpGoh3PkH",
        "outputId": "1060f8b4-8dca-4414-9c02-216b2ab11752"
      },
      "source": [
        "import pandas as pd\n",
        "import numpy as np\n",
        "df= pd.read_csv('/content/gdrive/MyDrive/Colab Notebooks/TS_Experiments_Model Selection_Actual Values.csv', encoding='ISO-8859-1')\n",
        "df.head()"
      ],
      "execution_count": 34,
      "outputs": [
        {
          "output_type": "execute_result",
          "data": {
            "text/html": [
              "<div>\n",
              "<style scoped>\n",
              "    .dataframe tbody tr th:only-of-type {\n",
              "        vertical-align: middle;\n",
              "    }\n",
              "\n",
              "    .dataframe tbody tr th {\n",
              "        vertical-align: top;\n",
              "    }\n",
              "\n",
              "    .dataframe thead th {\n",
              "        text-align: right;\n",
              "    }\n",
              "</style>\n",
              "<table border=\"1\" class=\"dataframe\">\n",
              "  <thead>\n",
              "    <tr style=\"text-align: right;\">\n",
              "      <th></th>\n",
              "      <th>Property</th>\n",
              "      <th>Dimension</th>\n",
              "      <th>Ex1_Nb1</th>\n",
              "      <th>Ex2_Nb2</th>\n",
              "      <th>Ex3_Nb3</th>\n",
              "      <th>Ex4_Nb4</th>\n",
              "      <th>Ex5_Nb5</th>\n",
              "      <th>Ex6_Nb6</th>\n",
              "      <th>Ex7_Nb7</th>\n",
              "      <th>Ex8_Nb8</th>\n",
              "      <th>Ex9_Nb9</th>\n",
              "      <th>Ex10_Nb10</th>\n",
              "      <th>Ex11_Nb11</th>\n",
              "      <th>Ex12_Nb12</th>\n",
              "      <th>Ex13_Nb13</th>\n",
              "      <th>Ex14_Nb14</th>\n",
              "      <th>Ex15_Nb15</th>\n",
              "      <th>Ex16_Nb16</th>\n",
              "      <th>Ex17_Nb17</th>\n",
              "      <th>Ex18_Nb18</th>\n",
              "      <th>Ex19_Nb19</th>\n",
              "      <th>Ex20_Nb20</th>\n",
              "    </tr>\n",
              "  </thead>\n",
              "  <tbody>\n",
              "    <tr>\n",
              "      <th>0</th>\n",
              "      <td>Construction</td>\n",
              "      <td>Choice of Metrics - Binary Cross Entropy</td>\n",
              "      <td>NaN</td>\n",
              "      <td>NaN</td>\n",
              "      <td>NaN</td>\n",
              "      <td>NaN</td>\n",
              "      <td>NaN</td>\n",
              "      <td>NaN</td>\n",
              "      <td>NaN</td>\n",
              "      <td>NaN</td>\n",
              "      <td>NaN</td>\n",
              "      <td>NaN</td>\n",
              "      <td>NaN</td>\n",
              "      <td>NaN</td>\n",
              "      <td>NaN</td>\n",
              "      <td>NaN</td>\n",
              "      <td>NaN</td>\n",
              "      <td>NaN</td>\n",
              "      <td>NaN</td>\n",
              "      <td>NaN</td>\n",
              "      <td>NaN</td>\n",
              "      <td>NaN</td>\n",
              "    </tr>\n",
              "    <tr>\n",
              "      <th>1</th>\n",
              "      <td>Construction</td>\n",
              "      <td>Choice of Metrics - Categorical Cross Entropy</td>\n",
              "      <td>NaN</td>\n",
              "      <td>NaN</td>\n",
              "      <td>NaN</td>\n",
              "      <td>NaN</td>\n",
              "      <td>NaN</td>\n",
              "      <td>NaN</td>\n",
              "      <td>NaN</td>\n",
              "      <td>NaN</td>\n",
              "      <td>NaN</td>\n",
              "      <td>NaN</td>\n",
              "      <td>NaN</td>\n",
              "      <td>NaN</td>\n",
              "      <td>NaN</td>\n",
              "      <td>NaN</td>\n",
              "      <td>NaN</td>\n",
              "      <td>NaN</td>\n",
              "      <td>NaN</td>\n",
              "      <td>NaN</td>\n",
              "      <td>1</td>\n",
              "      <td>NaN</td>\n",
              "    </tr>\n",
              "    <tr>\n",
              "      <th>2</th>\n",
              "      <td>Construction</td>\n",
              "      <td>Choice of Metrics - Accuracy</td>\n",
              "      <td>NaN</td>\n",
              "      <td>NaN</td>\n",
              "      <td>NaN</td>\n",
              "      <td>NaN</td>\n",
              "      <td>NaN</td>\n",
              "      <td>NaN</td>\n",
              "      <td>NaN</td>\n",
              "      <td>NaN</td>\n",
              "      <td>NaN</td>\n",
              "      <td>NaN</td>\n",
              "      <td>NaN</td>\n",
              "      <td>NaN</td>\n",
              "      <td>NaN</td>\n",
              "      <td>NaN</td>\n",
              "      <td>NaN</td>\n",
              "      <td>NaN</td>\n",
              "      <td>NaN</td>\n",
              "      <td>NaN</td>\n",
              "      <td>NaN</td>\n",
              "      <td>NaN</td>\n",
              "    </tr>\n",
              "    <tr>\n",
              "      <th>3</th>\n",
              "      <td>Construction</td>\n",
              "      <td>Choice of Metrics - F1 Score</td>\n",
              "      <td>NaN</td>\n",
              "      <td>NaN</td>\n",
              "      <td>NaN</td>\n",
              "      <td>NaN</td>\n",
              "      <td>NaN</td>\n",
              "      <td>NaN</td>\n",
              "      <td>NaN</td>\n",
              "      <td>NaN</td>\n",
              "      <td>NaN</td>\n",
              "      <td>NaN</td>\n",
              "      <td>NaN</td>\n",
              "      <td>NaN</td>\n",
              "      <td>NaN</td>\n",
              "      <td>NaN</td>\n",
              "      <td>NaN</td>\n",
              "      <td>NaN</td>\n",
              "      <td>NaN</td>\n",
              "      <td>NaN</td>\n",
              "      <td>NaN</td>\n",
              "      <td>NaN</td>\n",
              "    </tr>\n",
              "    <tr>\n",
              "      <th>4</th>\n",
              "      <td>Construction</td>\n",
              "      <td>Choice of Metrics - Mean Absolute Error</td>\n",
              "      <td>1</td>\n",
              "      <td>1</td>\n",
              "      <td>NaN</td>\n",
              "      <td>NaN</td>\n",
              "      <td>NaN</td>\n",
              "      <td>NaN</td>\n",
              "      <td>NaN</td>\n",
              "      <td>NaN</td>\n",
              "      <td>NaN</td>\n",
              "      <td>NaN</td>\n",
              "      <td>NaN</td>\n",
              "      <td>NaN</td>\n",
              "      <td>NaN</td>\n",
              "      <td>NaN</td>\n",
              "      <td>NaN</td>\n",
              "      <td>NaN</td>\n",
              "      <td>NaN</td>\n",
              "      <td>NaN</td>\n",
              "      <td>NaN</td>\n",
              "      <td>NaN</td>\n",
              "    </tr>\n",
              "  </tbody>\n",
              "</table>\n",
              "</div>"
            ],
            "text/plain": [
              "       Property  ... Ex20_Nb20\n",
              "0  Construction  ...       NaN\n",
              "1  Construction  ...       NaN\n",
              "2  Construction  ...       NaN\n",
              "3  Construction  ...       NaN\n",
              "4  Construction  ...       NaN\n",
              "\n",
              "[5 rows x 22 columns]"
            ]
          },
          "metadata": {
            "tags": []
          },
          "execution_count": 34
        }
      ]
    },
    {
      "cell_type": "code",
      "metadata": {
        "colab": {
          "base_uri": "https://localhost:8080/"
        },
        "id": "D5ERfRUe3PkP",
        "outputId": "8f38705d-9033-49d4-eb9d-282b0a2de2ee"
      },
      "source": [
        "#Calculating sparseness of experiment data\n",
        "df.isnull().sum()/len(df)*100"
      ],
      "execution_count": 35,
      "outputs": [
        {
          "output_type": "execute_result",
          "data": {
            "text/plain": [
              "Property      0.000000\n",
              "Dimension     0.000000\n",
              "Ex1_Nb1      63.636364\n",
              "Ex2_Nb2      63.636364\n",
              "Ex3_Nb3      75.757576\n",
              "Ex4_Nb4      75.757576\n",
              "Ex5_Nb5      72.727273\n",
              "Ex6_Nb6      75.757576\n",
              "Ex7_Nb7      75.757576\n",
              "Ex8_Nb8      75.757576\n",
              "Ex9_Nb9      63.636364\n",
              "Ex10_Nb10    69.696970\n",
              "Ex11_Nb11    69.696970\n",
              "Ex12_Nb12    75.757576\n",
              "Ex13_Nb13    69.696970\n",
              "Ex14_Nb14    75.757576\n",
              "Ex15_Nb15    72.727273\n",
              "Ex16_Nb16    75.757576\n",
              "Ex17_Nb17    69.696970\n",
              "Ex18_Nb18    72.727273\n",
              "Ex19_Nb19    66.666667\n",
              "Ex20_Nb20    75.757576\n",
              "dtype: float64"
            ]
          },
          "metadata": {
            "tags": []
          },
          "execution_count": 35
        }
      ]
    },
    {
      "cell_type": "code",
      "metadata": {
        "colab": {
          "base_uri": "https://localhost:8080/"
        },
        "id": "qkUhYAEm3PkQ",
        "outputId": "2ad99083-8494-4824-c664-8991dafbec8b"
      },
      "source": [
        "for col in df.columns:\n",
        "    print(col)"
      ],
      "execution_count": 36,
      "outputs": [
        {
          "output_type": "stream",
          "text": [
            "Property\n",
            "Dimension\n",
            "Ex1_Nb1\n",
            "Ex2_Nb2\n",
            "Ex3_Nb3\n",
            "Ex4_Nb4\n",
            "Ex5_Nb5\n",
            "Ex6_Nb6\n",
            "Ex7_Nb7\n",
            "Ex8_Nb8\n",
            "Ex9_Nb9\n",
            "Ex10_Nb10\n",
            "Ex11_Nb11\n",
            "Ex12_Nb12\n",
            "Ex13_Nb13\n",
            "Ex14_Nb14\n",
            "Ex15_Nb15\n",
            "Ex16_Nb16\n",
            "Ex17_Nb17\n",
            "Ex18_Nb18\n",
            "Ex19_Nb19\n",
            "Ex20_Nb20\n"
          ],
          "name": "stdout"
        }
      ]
    },
    {
      "cell_type": "code",
      "metadata": {
        "colab": {
          "base_uri": "https://localhost:8080/",
          "height": 411
        },
        "id": "uSgD8jeE3PkQ",
        "outputId": "55906452-18d0-436a-c685-fbdd9e94d513"
      },
      "source": [
        "df_dropped_property = df.drop(columns=\"Property\")\n",
        "df_dropped_property = df_dropped_property.set_index(\"Dimension\")\n",
        "df_transposed = df_dropped_property.T\n",
        "df_transposed.head()"
      ],
      "execution_count": 37,
      "outputs": [
        {
          "output_type": "execute_result",
          "data": {
            "text/html": [
              "<div>\n",
              "<style scoped>\n",
              "    .dataframe tbody tr th:only-of-type {\n",
              "        vertical-align: middle;\n",
              "    }\n",
              "\n",
              "    .dataframe tbody tr th {\n",
              "        vertical-align: top;\n",
              "    }\n",
              "\n",
              "    .dataframe thead th {\n",
              "        text-align: right;\n",
              "    }\n",
              "</style>\n",
              "<table border=\"1\" class=\"dataframe\">\n",
              "  <thead>\n",
              "    <tr style=\"text-align: right;\">\n",
              "      <th>Dimension</th>\n",
              "      <th>Choice of Metrics - Binary Cross Entropy</th>\n",
              "      <th>Choice of Metrics - Categorical Cross Entropy</th>\n",
              "      <th>Choice of Metrics - Accuracy</th>\n",
              "      <th>Choice of Metrics - F1 Score</th>\n",
              "      <th>Choice of Metrics - Mean Absolute Error</th>\n",
              "      <th>Choice of Metrics - Root Mean Squared Error</th>\n",
              "      <th>Model Validation Strategy - KFold</th>\n",
              "      <th>Model Validation Strategy - Stratified KFold</th>\n",
              "      <th>Model Validation Strategy - Repeated KFold</th>\n",
              "      <th>Training Time (1st epoch in seconds)</th>\n",
              "      <th>Evaluation Metrics (Train) - Accuracy at last epoch of last batch</th>\n",
              "      <th>Evaluation Metrics (Train) - F1 Score At threshold level 0.5</th>\n",
              "      <th>Evaluation Metrics (Train) - Mean Absolute Error</th>\n",
              "      <th>Evaluation Metrics (Train) - Mean Squared Error</th>\n",
              "      <th>Evaluation Metrics (Train) - Root Mean Squared Error</th>\n",
              "      <th>Evaluation Metrics (Validation) - Accuracy at last epoch of last batch</th>\n",
              "      <th>Evaluation Metrics (Validation) - F1 Score At threshold level 0.5</th>\n",
              "      <th>Evaluation Metrics (Test) - Accuracy at last epoch of last batch</th>\n",
              "      <th>Evaluation Metrics (Test) - F1 Score At threshold level 0.5</th>\n",
              "      <th>Evaluation Metrics (Test) - Mean Absolute Error</th>\n",
              "      <th>Evaluation Metrics (Train) - Mean Squared Error</th>\n",
              "      <th>Evaluation Metrics (Test) - Root Mean Squared Error</th>\n",
              "      <th>Evaluation Metrics (Test) - Root Mean Squared Error Loss</th>\n",
              "      <th>Delta between Validation and Test</th>\n",
              "      <th>Memory</th>\n",
              "      <th>Processing Unit (CPU/GPU/TPU)</th>\n",
              "      <th>Size (MB)</th>\n",
              "      <th>Length (DD/MM/YYYY HH:MM:SS+MS)</th>\n",
              "      <th>Type</th>\n",
              "      <th>Popularity - Number of Votes</th>\n",
              "      <th>Source</th>\n",
              "      <th>Last Modified Time</th>\n",
              "      <th>Number of Experiments</th>\n",
              "    </tr>\n",
              "  </thead>\n",
              "  <tbody>\n",
              "    <tr>\n",
              "      <th>Ex1_Nb1</th>\n",
              "      <td>NaN</td>\n",
              "      <td>NaN</td>\n",
              "      <td>NaN</td>\n",
              "      <td>NaN</td>\n",
              "      <td>1</td>\n",
              "      <td>1</td>\n",
              "      <td>NaN</td>\n",
              "      <td>NaN</td>\n",
              "      <td>NaN</td>\n",
              "      <td>NaN</td>\n",
              "      <td>NaN</td>\n",
              "      <td>NaN</td>\n",
              "      <td>NaN</td>\n",
              "      <td>NaN</td>\n",
              "      <td>NaN</td>\n",
              "      <td>NaN</td>\n",
              "      <td>NaN</td>\n",
              "      <td>NaN</td>\n",
              "      <td>NaN</td>\n",
              "      <td>0.5</td>\n",
              "      <td>NaN</td>\n",
              "      <td>0.27</td>\n",
              "      <td>NaN</td>\n",
              "      <td>NaN</td>\n",
              "      <td>NaN</td>\n",
              "      <td>CPU</td>\n",
              "      <td>3.29</td>\n",
              "      <td>DD/MM/YYYY</td>\n",
              "      <td>Date</td>\n",
              "      <td>254</td>\n",
              "      <td>Kaggle</td>\n",
              "      <td>5 months ago</td>\n",
              "      <td>7</td>\n",
              "    </tr>\n",
              "    <tr>\n",
              "      <th>Ex2_Nb2</th>\n",
              "      <td>NaN</td>\n",
              "      <td>NaN</td>\n",
              "      <td>NaN</td>\n",
              "      <td>NaN</td>\n",
              "      <td>1</td>\n",
              "      <td>1</td>\n",
              "      <td>NaN</td>\n",
              "      <td>NaN</td>\n",
              "      <td>NaN</td>\n",
              "      <td>NaN</td>\n",
              "      <td>NaN</td>\n",
              "      <td>NaN</td>\n",
              "      <td>NaN</td>\n",
              "      <td>NaN</td>\n",
              "      <td>NaN</td>\n",
              "      <td>NaN</td>\n",
              "      <td>NaN</td>\n",
              "      <td>NaN</td>\n",
              "      <td>NaN</td>\n",
              "      <td>0.82</td>\n",
              "      <td>NaN</td>\n",
              "      <td>0.99</td>\n",
              "      <td>NaN</td>\n",
              "      <td>NaN</td>\n",
              "      <td>NaN</td>\n",
              "      <td>CPU</td>\n",
              "      <td>3.29</td>\n",
              "      <td>DD/MM/YYYY</td>\n",
              "      <td>Date</td>\n",
              "      <td>245</td>\n",
              "      <td>Kaggle</td>\n",
              "      <td>4 months ago</td>\n",
              "      <td>5</td>\n",
              "    </tr>\n",
              "    <tr>\n",
              "      <th>Ex3_Nb3</th>\n",
              "      <td>NaN</td>\n",
              "      <td>NaN</td>\n",
              "      <td>NaN</td>\n",
              "      <td>NaN</td>\n",
              "      <td>NaN</td>\n",
              "      <td>NaN</td>\n",
              "      <td>NaN</td>\n",
              "      <td>NaN</td>\n",
              "      <td>NaN</td>\n",
              "      <td>NaN</td>\n",
              "      <td>NaN</td>\n",
              "      <td>NaN</td>\n",
              "      <td>NaN</td>\n",
              "      <td>NaN</td>\n",
              "      <td>NaN</td>\n",
              "      <td>NaN</td>\n",
              "      <td>NaN</td>\n",
              "      <td>NaN</td>\n",
              "      <td>NaN</td>\n",
              "      <td>NaN</td>\n",
              "      <td>NaN</td>\n",
              "      <td>NaN</td>\n",
              "      <td>NaN</td>\n",
              "      <td>NaN</td>\n",
              "      <td>NaN</td>\n",
              "      <td>CPU</td>\n",
              "      <td>26830</td>\n",
              "      <td>YYYY-MM-DD</td>\n",
              "      <td>Date</td>\n",
              "      <td>280</td>\n",
              "      <td>Kaggle</td>\n",
              "      <td>7 months ago</td>\n",
              "      <td>1</td>\n",
              "    </tr>\n",
              "    <tr>\n",
              "      <th>Ex4_Nb4</th>\n",
              "      <td>NaN</td>\n",
              "      <td>NaN</td>\n",
              "      <td>NaN</td>\n",
              "      <td>NaN</td>\n",
              "      <td>NaN</td>\n",
              "      <td>NaN</td>\n",
              "      <td>NaN</td>\n",
              "      <td>NaN</td>\n",
              "      <td>NaN</td>\n",
              "      <td>NaN</td>\n",
              "      <td>NaN</td>\n",
              "      <td>NaN</td>\n",
              "      <td>NaN</td>\n",
              "      <td>NaN</td>\n",
              "      <td>NaN</td>\n",
              "      <td>NaN</td>\n",
              "      <td>NaN</td>\n",
              "      <td>NaN</td>\n",
              "      <td>NaN</td>\n",
              "      <td>NaN</td>\n",
              "      <td>NaN</td>\n",
              "      <td>NaN</td>\n",
              "      <td>NaN</td>\n",
              "      <td>NaN</td>\n",
              "      <td>NaN</td>\n",
              "      <td>CPU</td>\n",
              "      <td>429.6</td>\n",
              "      <td>YYYY-MM-DD</td>\n",
              "      <td>Date</td>\n",
              "      <td>765</td>\n",
              "      <td>Kaggle</td>\n",
              "      <td>12 months ago</td>\n",
              "      <td>1</td>\n",
              "    </tr>\n",
              "    <tr>\n",
              "      <th>Ex5_Nb5</th>\n",
              "      <td>NaN</td>\n",
              "      <td>NaN</td>\n",
              "      <td>NaN</td>\n",
              "      <td>NaN</td>\n",
              "      <td>NaN</td>\n",
              "      <td>NaN</td>\n",
              "      <td>NaN</td>\n",
              "      <td>NaN</td>\n",
              "      <td>NaN</td>\n",
              "      <td>NaN</td>\n",
              "      <td>NaN</td>\n",
              "      <td>NaN</td>\n",
              "      <td>NaN</td>\n",
              "      <td>NaN</td>\n",
              "      <td>NaN</td>\n",
              "      <td>NaN</td>\n",
              "      <td>NaN</td>\n",
              "      <td>NaN</td>\n",
              "      <td>NaN</td>\n",
              "      <td>NaN</td>\n",
              "      <td>NaN</td>\n",
              "      <td>NaN</td>\n",
              "      <td>0.243</td>\n",
              "      <td>NaN</td>\n",
              "      <td>NaN</td>\n",
              "      <td>CPU</td>\n",
              "      <td>429.6</td>\n",
              "      <td>YYYY-MM-DD</td>\n",
              "      <td>Date</td>\n",
              "      <td>685</td>\n",
              "      <td>Kaggle</td>\n",
              "      <td>12 months ago</td>\n",
              "      <td>6</td>\n",
              "    </tr>\n",
              "  </tbody>\n",
              "</table>\n",
              "</div>"
            ],
            "text/plain": [
              "Dimension Choice of Metrics - Binary Cross Entropy  ... Number of Experiments\n",
              "Ex1_Nb1                                        NaN  ...                     7\n",
              "Ex2_Nb2                                        NaN  ...                     5\n",
              "Ex3_Nb3                                        NaN  ...                     1\n",
              "Ex4_Nb4                                        NaN  ...                     1\n",
              "Ex5_Nb5                                        NaN  ...                     6\n",
              "\n",
              "[5 rows x 33 columns]"
            ]
          },
          "metadata": {
            "tags": []
          },
          "execution_count": 37
        }
      ]
    },
    {
      "cell_type": "code",
      "metadata": {
        "id": "uZmXrzSZ41ND",
        "colab": {
          "base_uri": "https://localhost:8080/",
          "height": 842
        },
        "outputId": "638f90ad-f139-47a6-a0c7-d4532cc565b3"
      },
      "source": [
        "df_copy = df_transposed.copy()\n",
        "df_copy.rename (columns = {'Choice of Metrics - Binary Cross Entropy':'Binary_Cross_Entropy',\n",
        "                                      'Choice of Metrics - Categorical Cross Entropy': 'Categorical_Cross_Entropy', \n",
        "                                      'Choice of Metrics - Accuracy': 'Accuracy', \n",
        "                                      'Choice of Metrics - F1 Score': 'F1_Score', \n",
        "                                      'Choice of Metrics - Mean Absolute Error': 'Mean_Absolute_Error', \n",
        "                                      'Choice of Metrics - Root Mean Squared Error': 'Root_Mean_Squared_Error', \n",
        "                                      'Choice of Metrics - Model Validation Strategy - KFold': 'KFold', \n",
        "                                      'Choice of Metrics - Model Validation Strategy - Stratified KFold': 'Stratified_KFold', \n",
        "                                      'Choice of Metrics - Model Validation Strategy - Repeated KFold': 'Repeated_KFold',\n",
        "                                      'Training Time (1st epoch in seconds)': 'Training_Time',\n",
        "                                      'Evaluation Metrics (Train) - Accuracy at last epoch of last batch': 'Train_Accuracy',\n",
        "                                      'Evaluation Metrics (Train) - F1 Score At threshold level 0.5': 'Train_F1_Score',\n",
        "                                      'Evaluation Metrics (Train) - Mean Absolute Error': 'Train_Mean_Absolute_Error',\n",
        "                                      'Evaluation Metrics (Train) - Mean Squared Error': 'Train_Mean_Squared_Error',\n",
        "                                      'Evaluation Metrics (Train) - Root Mean Squared Error': 'Train_Root_Mean_Squared_Error',\n",
        "                                      'Evaluation Metrics (Validation) - Accuracy at last epoch of last batch': 'Validation_Accuracy',\n",
        "                                      'Evaluation Metrics (Validation) - F1 Score At threshold level 0.5': 'Validation_F1_Score',\n",
        "                                      'Evaluation Metrics (Test) - Accuracy at last epoch of last batch': 'Test_Accuracy',\n",
        "                                      'Evaluation Metrics (Test) - F1 Score At threshold level 0.5': 'Test_F1_Score',\n",
        "                                      'Evaluation Metrics (Test) - Mean Absolute Error': 'Test_Mean_Absolute_Error',\n",
        "                                      'Evaluation Metrics (Test) - Mean Squared Error': 'Test_Mean_Squared_Error',\n",
        "                                      'Evaluation Metrics (Test) - Root Mean Squared Error': 'Test_Root_Mean_Squared_Error',\n",
        "                                      'Evaluation Metrics (Test) - Root Mean Squared Error Loss': 'Test_Root_Mean_Sqaured_Error_Loss',\n",
        "                                      'Delta between Validation and Test': 'Delta_Between_Validation_And_Test',\n",
        "                                      'Memory': 'Memory', \n",
        "                                      'Processing Unit (CPU/GPU/TPU)': 'Processing_Unit',\n",
        "                                      'Size (MB)': 'Physical_Size',\n",
        "                                      'Length (DD/MM/YYYY HH:MM:SS+MS)': 'Length',\n",
        "                                      'Type': 'Type',\n",
        "                                      'Popularity - Number of Votes': 'Vote_Count',\t\n",
        "                                      'Source': 'Source', \t\n",
        "                                      'Last Modified Time': 'Last_Modified_Time',\n",
        "                                      'Number of Experiments': 'Number_of_Experiments'\n",
        "                                       }, inplace=True)\n",
        "df_copy\n"
      ],
      "execution_count": 41,
      "outputs": [
        {
          "output_type": "execute_result",
          "data": {
            "text/html": [
              "<div>\n",
              "<style scoped>\n",
              "    .dataframe tbody tr th:only-of-type {\n",
              "        vertical-align: middle;\n",
              "    }\n",
              "\n",
              "    .dataframe tbody tr th {\n",
              "        vertical-align: top;\n",
              "    }\n",
              "\n",
              "    .dataframe thead th {\n",
              "        text-align: right;\n",
              "    }\n",
              "</style>\n",
              "<table border=\"1\" class=\"dataframe\">\n",
              "  <thead>\n",
              "    <tr style=\"text-align: right;\">\n",
              "      <th>Dimension</th>\n",
              "      <th>Binary_Cross_Entropy</th>\n",
              "      <th>Categorical_Cross_Entropy</th>\n",
              "      <th>Accuracy</th>\n",
              "      <th>F1_Score</th>\n",
              "      <th>Mean_Absolute_Error</th>\n",
              "      <th>Root_Mean_Squared_Error</th>\n",
              "      <th>Model Validation Strategy - KFold</th>\n",
              "      <th>Model Validation Strategy - Stratified KFold</th>\n",
              "      <th>Model Validation Strategy - Repeated KFold</th>\n",
              "      <th>Training Time (1st epoch in seconds)</th>\n",
              "      <th>Train_Accuracy</th>\n",
              "      <th>Train_F1_Score</th>\n",
              "      <th>Train_Mean_Absolute_Error</th>\n",
              "      <th>Train_Mean_Squared_Error</th>\n",
              "      <th>Train_Root_Mean_Squared_Error</th>\n",
              "      <th>Validation_Accuracy</th>\n",
              "      <th>Validation_F1_Score</th>\n",
              "      <th>Test_Accuracy</th>\n",
              "      <th>Test_F1_Score</th>\n",
              "      <th>Test_Mean_Absolute_Error</th>\n",
              "      <th>Train_Mean_Squared_Error</th>\n",
              "      <th>Test_Root_Mean_Squared_Error</th>\n",
              "      <th>Test_Root_Mean_Sqaured_Error_Loss</th>\n",
              "      <th>Delta_Between_Validation_And_Test</th>\n",
              "      <th>Memory</th>\n",
              "      <th>Processing_Unit</th>\n",
              "      <th>Physical_Size</th>\n",
              "      <th>Length</th>\n",
              "      <th>Type</th>\n",
              "      <th>Vote_Count</th>\n",
              "      <th>Source</th>\n",
              "      <th>Last_Modified_Time</th>\n",
              "      <th>Number_of_Experiments</th>\n",
              "    </tr>\n",
              "  </thead>\n",
              "  <tbody>\n",
              "    <tr>\n",
              "      <th>Ex1_Nb1</th>\n",
              "      <td>NaN</td>\n",
              "      <td>NaN</td>\n",
              "      <td>NaN</td>\n",
              "      <td>NaN</td>\n",
              "      <td>1</td>\n",
              "      <td>1</td>\n",
              "      <td>NaN</td>\n",
              "      <td>NaN</td>\n",
              "      <td>NaN</td>\n",
              "      <td>NaN</td>\n",
              "      <td>NaN</td>\n",
              "      <td>NaN</td>\n",
              "      <td>NaN</td>\n",
              "      <td>NaN</td>\n",
              "      <td>NaN</td>\n",
              "      <td>NaN</td>\n",
              "      <td>NaN</td>\n",
              "      <td>NaN</td>\n",
              "      <td>NaN</td>\n",
              "      <td>0.5</td>\n",
              "      <td>NaN</td>\n",
              "      <td>0.27</td>\n",
              "      <td>NaN</td>\n",
              "      <td>NaN</td>\n",
              "      <td>NaN</td>\n",
              "      <td>CPU</td>\n",
              "      <td>3.29</td>\n",
              "      <td>DD/MM/YYYY</td>\n",
              "      <td>Date</td>\n",
              "      <td>254</td>\n",
              "      <td>Kaggle</td>\n",
              "      <td>5 months ago</td>\n",
              "      <td>7</td>\n",
              "    </tr>\n",
              "    <tr>\n",
              "      <th>Ex2_Nb2</th>\n",
              "      <td>NaN</td>\n",
              "      <td>NaN</td>\n",
              "      <td>NaN</td>\n",
              "      <td>NaN</td>\n",
              "      <td>1</td>\n",
              "      <td>1</td>\n",
              "      <td>NaN</td>\n",
              "      <td>NaN</td>\n",
              "      <td>NaN</td>\n",
              "      <td>NaN</td>\n",
              "      <td>NaN</td>\n",
              "      <td>NaN</td>\n",
              "      <td>NaN</td>\n",
              "      <td>NaN</td>\n",
              "      <td>NaN</td>\n",
              "      <td>NaN</td>\n",
              "      <td>NaN</td>\n",
              "      <td>NaN</td>\n",
              "      <td>NaN</td>\n",
              "      <td>0.82</td>\n",
              "      <td>NaN</td>\n",
              "      <td>0.99</td>\n",
              "      <td>NaN</td>\n",
              "      <td>NaN</td>\n",
              "      <td>NaN</td>\n",
              "      <td>CPU</td>\n",
              "      <td>3.29</td>\n",
              "      <td>DD/MM/YYYY</td>\n",
              "      <td>Date</td>\n",
              "      <td>245</td>\n",
              "      <td>Kaggle</td>\n",
              "      <td>4 months ago</td>\n",
              "      <td>5</td>\n",
              "    </tr>\n",
              "    <tr>\n",
              "      <th>Ex3_Nb3</th>\n",
              "      <td>NaN</td>\n",
              "      <td>NaN</td>\n",
              "      <td>NaN</td>\n",
              "      <td>NaN</td>\n",
              "      <td>NaN</td>\n",
              "      <td>NaN</td>\n",
              "      <td>NaN</td>\n",
              "      <td>NaN</td>\n",
              "      <td>NaN</td>\n",
              "      <td>NaN</td>\n",
              "      <td>NaN</td>\n",
              "      <td>NaN</td>\n",
              "      <td>NaN</td>\n",
              "      <td>NaN</td>\n",
              "      <td>NaN</td>\n",
              "      <td>NaN</td>\n",
              "      <td>NaN</td>\n",
              "      <td>NaN</td>\n",
              "      <td>NaN</td>\n",
              "      <td>NaN</td>\n",
              "      <td>NaN</td>\n",
              "      <td>NaN</td>\n",
              "      <td>NaN</td>\n",
              "      <td>NaN</td>\n",
              "      <td>NaN</td>\n",
              "      <td>CPU</td>\n",
              "      <td>26830</td>\n",
              "      <td>YYYY-MM-DD</td>\n",
              "      <td>Date</td>\n",
              "      <td>280</td>\n",
              "      <td>Kaggle</td>\n",
              "      <td>7 months ago</td>\n",
              "      <td>1</td>\n",
              "    </tr>\n",
              "    <tr>\n",
              "      <th>Ex4_Nb4</th>\n",
              "      <td>NaN</td>\n",
              "      <td>NaN</td>\n",
              "      <td>NaN</td>\n",
              "      <td>NaN</td>\n",
              "      <td>NaN</td>\n",
              "      <td>NaN</td>\n",
              "      <td>NaN</td>\n",
              "      <td>NaN</td>\n",
              "      <td>NaN</td>\n",
              "      <td>NaN</td>\n",
              "      <td>NaN</td>\n",
              "      <td>NaN</td>\n",
              "      <td>NaN</td>\n",
              "      <td>NaN</td>\n",
              "      <td>NaN</td>\n",
              "      <td>NaN</td>\n",
              "      <td>NaN</td>\n",
              "      <td>NaN</td>\n",
              "      <td>NaN</td>\n",
              "      <td>NaN</td>\n",
              "      <td>NaN</td>\n",
              "      <td>NaN</td>\n",
              "      <td>NaN</td>\n",
              "      <td>NaN</td>\n",
              "      <td>NaN</td>\n",
              "      <td>CPU</td>\n",
              "      <td>429.6</td>\n",
              "      <td>YYYY-MM-DD</td>\n",
              "      <td>Date</td>\n",
              "      <td>765</td>\n",
              "      <td>Kaggle</td>\n",
              "      <td>12 months ago</td>\n",
              "      <td>1</td>\n",
              "    </tr>\n",
              "    <tr>\n",
              "      <th>Ex5_Nb5</th>\n",
              "      <td>NaN</td>\n",
              "      <td>NaN</td>\n",
              "      <td>NaN</td>\n",
              "      <td>NaN</td>\n",
              "      <td>NaN</td>\n",
              "      <td>NaN</td>\n",
              "      <td>NaN</td>\n",
              "      <td>NaN</td>\n",
              "      <td>NaN</td>\n",
              "      <td>NaN</td>\n",
              "      <td>NaN</td>\n",
              "      <td>NaN</td>\n",
              "      <td>NaN</td>\n",
              "      <td>NaN</td>\n",
              "      <td>NaN</td>\n",
              "      <td>NaN</td>\n",
              "      <td>NaN</td>\n",
              "      <td>NaN</td>\n",
              "      <td>NaN</td>\n",
              "      <td>NaN</td>\n",
              "      <td>NaN</td>\n",
              "      <td>NaN</td>\n",
              "      <td>0.243</td>\n",
              "      <td>NaN</td>\n",
              "      <td>NaN</td>\n",
              "      <td>CPU</td>\n",
              "      <td>429.6</td>\n",
              "      <td>YYYY-MM-DD</td>\n",
              "      <td>Date</td>\n",
              "      <td>685</td>\n",
              "      <td>Kaggle</td>\n",
              "      <td>12 months ago</td>\n",
              "      <td>6</td>\n",
              "    </tr>\n",
              "    <tr>\n",
              "      <th>Ex6_Nb6</th>\n",
              "      <td>NaN</td>\n",
              "      <td>NaN</td>\n",
              "      <td>NaN</td>\n",
              "      <td>NaN</td>\n",
              "      <td>NaN</td>\n",
              "      <td>NaN</td>\n",
              "      <td>NaN</td>\n",
              "      <td>NaN</td>\n",
              "      <td>NaN</td>\n",
              "      <td>NaN</td>\n",
              "      <td>NaN</td>\n",
              "      <td>NaN</td>\n",
              "      <td>NaN</td>\n",
              "      <td>NaN</td>\n",
              "      <td>NaN</td>\n",
              "      <td>NaN</td>\n",
              "      <td>NaN</td>\n",
              "      <td>NaN</td>\n",
              "      <td>NaN</td>\n",
              "      <td>NaN</td>\n",
              "      <td>NaN</td>\n",
              "      <td>NaN</td>\n",
              "      <td>NaN</td>\n",
              "      <td>NaN</td>\n",
              "      <td>NaN</td>\n",
              "      <td>CPU</td>\n",
              "      <td>3.4 e-8</td>\n",
              "      <td>YYYY-MM-DD HH:MM:SS+MS</td>\n",
              "      <td>DateTime</td>\n",
              "      <td>991</td>\n",
              "      <td>Kaggle</td>\n",
              "      <td>36 months ago</td>\n",
              "      <td>1</td>\n",
              "    </tr>\n",
              "    <tr>\n",
              "      <th>Ex7_Nb7</th>\n",
              "      <td>NaN</td>\n",
              "      <td>NaN</td>\n",
              "      <td>NaN</td>\n",
              "      <td>NaN</td>\n",
              "      <td>NaN</td>\n",
              "      <td>NaN</td>\n",
              "      <td>NaN</td>\n",
              "      <td>NaN</td>\n",
              "      <td>NaN</td>\n",
              "      <td>NaN</td>\n",
              "      <td>NaN</td>\n",
              "      <td>NaN</td>\n",
              "      <td>NaN</td>\n",
              "      <td>NaN</td>\n",
              "      <td>NaN</td>\n",
              "      <td>NaN</td>\n",
              "      <td>NaN</td>\n",
              "      <td>NaN</td>\n",
              "      <td>NaN</td>\n",
              "      <td>NaN</td>\n",
              "      <td>NaN</td>\n",
              "      <td>NaN</td>\n",
              "      <td>NaN</td>\n",
              "      <td>NaN</td>\n",
              "      <td>NaN</td>\n",
              "      <td>GPU</td>\n",
              "      <td>33430</td>\n",
              "      <td>YYYY-MM-DD</td>\n",
              "      <td>Date</td>\n",
              "      <td>435</td>\n",
              "      <td>Kaggle</td>\n",
              "      <td>36 months ago</td>\n",
              "      <td>1</td>\n",
              "    </tr>\n",
              "    <tr>\n",
              "      <th>Ex8_Nb8</th>\n",
              "      <td>NaN</td>\n",
              "      <td>NaN</td>\n",
              "      <td>NaN</td>\n",
              "      <td>NaN</td>\n",
              "      <td>NaN</td>\n",
              "      <td>NaN</td>\n",
              "      <td>NaN</td>\n",
              "      <td>NaN</td>\n",
              "      <td>NaN</td>\n",
              "      <td>NaN</td>\n",
              "      <td>NaN</td>\n",
              "      <td>NaN</td>\n",
              "      <td>NaN</td>\n",
              "      <td>NaN</td>\n",
              "      <td>NaN</td>\n",
              "      <td>NaN</td>\n",
              "      <td>NaN</td>\n",
              "      <td>NaN</td>\n",
              "      <td>NaN</td>\n",
              "      <td>NaN</td>\n",
              "      <td>NaN</td>\n",
              "      <td>NaN</td>\n",
              "      <td>NaN</td>\n",
              "      <td>NaN</td>\n",
              "      <td>NaN</td>\n",
              "      <td>CPU</td>\n",
              "      <td>583.5</td>\n",
              "      <td>YYYY-MM-DD</td>\n",
              "      <td>Date</td>\n",
              "      <td>280</td>\n",
              "      <td>Kaggle</td>\n",
              "      <td>48 months ago</td>\n",
              "      <td>1</td>\n",
              "    </tr>\n",
              "    <tr>\n",
              "      <th>Ex9_Nb9</th>\n",
              "      <td>NaN</td>\n",
              "      <td>NaN</td>\n",
              "      <td>NaN</td>\n",
              "      <td>NaN</td>\n",
              "      <td>NaN</td>\n",
              "      <td>NaN</td>\n",
              "      <td>NaN</td>\n",
              "      <td>NaN</td>\n",
              "      <td>NaN</td>\n",
              "      <td>NaN</td>\n",
              "      <td>NaN</td>\n",
              "      <td>NaN</td>\n",
              "      <td>65.84</td>\n",
              "      <td>65.84</td>\n",
              "      <td>NaN</td>\n",
              "      <td>NaN</td>\n",
              "      <td>NaN</td>\n",
              "      <td>NaN</td>\n",
              "      <td>NaN</td>\n",
              "      <td>81.51</td>\n",
              "      <td>81.51</td>\n",
              "      <td>NaN</td>\n",
              "      <td>NaN</td>\n",
              "      <td>NaN</td>\n",
              "      <td>NaN</td>\n",
              "      <td>CPU</td>\n",
              "      <td>583.5</td>\n",
              "      <td>YYYY-MM-DD</td>\n",
              "      <td>Date</td>\n",
              "      <td>237</td>\n",
              "      <td>Kaggle</td>\n",
              "      <td>36 months ago</td>\n",
              "      <td>4</td>\n",
              "    </tr>\n",
              "    <tr>\n",
              "      <th>Ex10_Nb10</th>\n",
              "      <td>NaN</td>\n",
              "      <td>NaN</td>\n",
              "      <td>NaN</td>\n",
              "      <td>NaN</td>\n",
              "      <td>NaN</td>\n",
              "      <td>NaN</td>\n",
              "      <td>1</td>\n",
              "      <td>NaN</td>\n",
              "      <td>NaN</td>\n",
              "      <td>NaN</td>\n",
              "      <td>NaN</td>\n",
              "      <td>NaN</td>\n",
              "      <td>NaN</td>\n",
              "      <td>NaN</td>\n",
              "      <td>5.47704</td>\n",
              "      <td>NaN</td>\n",
              "      <td>NaN</td>\n",
              "      <td>NaN</td>\n",
              "      <td>NaN</td>\n",
              "      <td>NaN</td>\n",
              "      <td>NaN</td>\n",
              "      <td>NaN</td>\n",
              "      <td>NaN</td>\n",
              "      <td>NaN</td>\n",
              "      <td>NaN</td>\n",
              "      <td>GPU</td>\n",
              "      <td>309.21</td>\n",
              "      <td>MM: HH</td>\n",
              "      <td>DateTime</td>\n",
              "      <td>206</td>\n",
              "      <td>Kaggle</td>\n",
              "      <td>24 months ago</td>\n",
              "      <td>1</td>\n",
              "    </tr>\n",
              "    <tr>\n",
              "      <th>Ex11_Nb11</th>\n",
              "      <td>NaN</td>\n",
              "      <td>NaN</td>\n",
              "      <td>NaN</td>\n",
              "      <td>NaN</td>\n",
              "      <td>NaN</td>\n",
              "      <td>NaN</td>\n",
              "      <td>NaN</td>\n",
              "      <td>NaN</td>\n",
              "      <td>1</td>\n",
              "      <td>7</td>\n",
              "      <td>NaN</td>\n",
              "      <td>NaN</td>\n",
              "      <td>NaN</td>\n",
              "      <td>NaN</td>\n",
              "      <td>NaN</td>\n",
              "      <td>NaN</td>\n",
              "      <td>NaN</td>\n",
              "      <td>NaN</td>\n",
              "      <td>NaN</td>\n",
              "      <td>NaN</td>\n",
              "      <td>NaN</td>\n",
              "      <td>NaN</td>\n",
              "      <td>NaN</td>\n",
              "      <td>NaN</td>\n",
              "      <td>NaN</td>\n",
              "      <td>CPU</td>\n",
              "      <td>276.47</td>\n",
              "      <td>YYYY-MM-DD HH:MM:SS+MS</td>\n",
              "      <td>DateTime</td>\n",
              "      <td>505</td>\n",
              "      <td>Kaggle</td>\n",
              "      <td>24 months ago</td>\n",
              "      <td>1</td>\n",
              "    </tr>\n",
              "    <tr>\n",
              "      <th>Ex12_Nb12</th>\n",
              "      <td>NaN</td>\n",
              "      <td>NaN</td>\n",
              "      <td>NaN</td>\n",
              "      <td>NaN</td>\n",
              "      <td>NaN</td>\n",
              "      <td>NaN</td>\n",
              "      <td>NaN</td>\n",
              "      <td>NaN</td>\n",
              "      <td>NaN</td>\n",
              "      <td>NaN</td>\n",
              "      <td>NaN</td>\n",
              "      <td>NaN</td>\n",
              "      <td>NaN</td>\n",
              "      <td>NaN</td>\n",
              "      <td>NaN</td>\n",
              "      <td>NaN</td>\n",
              "      <td>NaN</td>\n",
              "      <td>NaN</td>\n",
              "      <td>NaN</td>\n",
              "      <td>NaN</td>\n",
              "      <td>NaN</td>\n",
              "      <td>NaN</td>\n",
              "      <td>NaN</td>\n",
              "      <td>NaN</td>\n",
              "      <td>NaN</td>\n",
              "      <td>CPU</td>\n",
              "      <td>276.47</td>\n",
              "      <td>YYYY-MM-DD HH:MM:SS+MS</td>\n",
              "      <td>DateTime</td>\n",
              "      <td>316</td>\n",
              "      <td>Kaggle</td>\n",
              "      <td>24 months ago</td>\n",
              "      <td>1</td>\n",
              "    </tr>\n",
              "    <tr>\n",
              "      <th>Ex13_Nb13</th>\n",
              "      <td>NaN</td>\n",
              "      <td>NaN</td>\n",
              "      <td>NaN</td>\n",
              "      <td>NaN</td>\n",
              "      <td>NaN</td>\n",
              "      <td>NaN</td>\n",
              "      <td>NaN</td>\n",
              "      <td>NaN</td>\n",
              "      <td>NaN</td>\n",
              "      <td>9</td>\n",
              "      <td>NaN</td>\n",
              "      <td>NaN</td>\n",
              "      <td>NaN</td>\n",
              "      <td>NaN</td>\n",
              "      <td>NaN</td>\n",
              "      <td>NaN</td>\n",
              "      <td>NaN</td>\n",
              "      <td>NaN</td>\n",
              "      <td>NaN</td>\n",
              "      <td>NaN</td>\n",
              "      <td>NaN</td>\n",
              "      <td>NaN</td>\n",
              "      <td>0.1257</td>\n",
              "      <td>NaN</td>\n",
              "      <td>NaN</td>\n",
              "      <td>CPU</td>\n",
              "      <td>892.23</td>\n",
              "      <td>YYYY-MM-DD</td>\n",
              "      <td>Date</td>\n",
              "      <td>287</td>\n",
              "      <td>Kaggle</td>\n",
              "      <td>12 months ago</td>\n",
              "      <td>1</td>\n",
              "    </tr>\n",
              "    <tr>\n",
              "      <th>Ex14_Nb14</th>\n",
              "      <td>NaN</td>\n",
              "      <td>NaN</td>\n",
              "      <td>NaN</td>\n",
              "      <td>NaN</td>\n",
              "      <td>NaN</td>\n",
              "      <td>NaN</td>\n",
              "      <td>NaN</td>\n",
              "      <td>NaN</td>\n",
              "      <td>NaN</td>\n",
              "      <td>NaN</td>\n",
              "      <td>NaN</td>\n",
              "      <td>NaN</td>\n",
              "      <td>NaN</td>\n",
              "      <td>NaN</td>\n",
              "      <td>NaN</td>\n",
              "      <td>NaN</td>\n",
              "      <td>NaN</td>\n",
              "      <td>NaN</td>\n",
              "      <td>NaN</td>\n",
              "      <td>NaN</td>\n",
              "      <td>NaN</td>\n",
              "      <td>NaN</td>\n",
              "      <td>NaN</td>\n",
              "      <td>NaN</td>\n",
              "      <td>NaN</td>\n",
              "      <td>CPU</td>\n",
              "      <td>2.04</td>\n",
              "      <td>YYYY-MM-DD</td>\n",
              "      <td>Date</td>\n",
              "      <td>756</td>\n",
              "      <td>Kaggle</td>\n",
              "      <td>12 months ago</td>\n",
              "      <td>5</td>\n",
              "    </tr>\n",
              "    <tr>\n",
              "      <th>Ex15_Nb15</th>\n",
              "      <td>NaN</td>\n",
              "      <td>NaN</td>\n",
              "      <td>NaN</td>\n",
              "      <td>NaN</td>\n",
              "      <td>NaN</td>\n",
              "      <td>NaN</td>\n",
              "      <td>1</td>\n",
              "      <td>NaN</td>\n",
              "      <td>NaN</td>\n",
              "      <td>NaN</td>\n",
              "      <td>NaN</td>\n",
              "      <td>NaN</td>\n",
              "      <td>NaN</td>\n",
              "      <td>NaN</td>\n",
              "      <td>NaN</td>\n",
              "      <td>NaN</td>\n",
              "      <td>NaN</td>\n",
              "      <td>NaN</td>\n",
              "      <td>NaN</td>\n",
              "      <td>NaN</td>\n",
              "      <td>NaN</td>\n",
              "      <td>NaN</td>\n",
              "      <td>NaN</td>\n",
              "      <td>NaN</td>\n",
              "      <td>NaN</td>\n",
              "      <td>CPU</td>\n",
              "      <td>1260</td>\n",
              "      <td>Transaction Date</td>\n",
              "      <td>Date</td>\n",
              "      <td>1044</td>\n",
              "      <td>Kaggle</td>\n",
              "      <td>24 months ago</td>\n",
              "      <td>1</td>\n",
              "    </tr>\n",
              "    <tr>\n",
              "      <th>Ex16_Nb16</th>\n",
              "      <td>NaN</td>\n",
              "      <td>NaN</td>\n",
              "      <td>NaN</td>\n",
              "      <td>NaN</td>\n",
              "      <td>NaN</td>\n",
              "      <td>NaN</td>\n",
              "      <td>NaN</td>\n",
              "      <td>NaN</td>\n",
              "      <td>NaN</td>\n",
              "      <td>NaN</td>\n",
              "      <td>NaN</td>\n",
              "      <td>NaN</td>\n",
              "      <td>NaN</td>\n",
              "      <td>NaN</td>\n",
              "      <td>NaN</td>\n",
              "      <td>NaN</td>\n",
              "      <td>NaN</td>\n",
              "      <td>NaN</td>\n",
              "      <td>NaN</td>\n",
              "      <td>NaN</td>\n",
              "      <td>NaN</td>\n",
              "      <td>NaN</td>\n",
              "      <td>NaN</td>\n",
              "      <td>NaN</td>\n",
              "      <td>NaN</td>\n",
              "      <td>GPU</td>\n",
              "      <td>1260</td>\n",
              "      <td>Transaction Date</td>\n",
              "      <td>Date</td>\n",
              "      <td>467</td>\n",
              "      <td>Kaggle</td>\n",
              "      <td>24 months ago</td>\n",
              "      <td>1</td>\n",
              "    </tr>\n",
              "    <tr>\n",
              "      <th>Ex17_Nb17</th>\n",
              "      <td>NaN</td>\n",
              "      <td>NaN</td>\n",
              "      <td>NaN</td>\n",
              "      <td>NaN</td>\n",
              "      <td>NaN</td>\n",
              "      <td>NaN</td>\n",
              "      <td>1</td>\n",
              "      <td>NaN</td>\n",
              "      <td>NaN</td>\n",
              "      <td>NaN</td>\n",
              "      <td>NaN</td>\n",
              "      <td>NaN</td>\n",
              "      <td>NaN</td>\n",
              "      <td>NaN</td>\n",
              "      <td>NaN</td>\n",
              "      <td>NaN</td>\n",
              "      <td>NaN</td>\n",
              "      <td>NaN</td>\n",
              "      <td>NaN</td>\n",
              "      <td>NaN</td>\n",
              "      <td>NaN</td>\n",
              "      <td>7746113.97</td>\n",
              "      <td>NaN</td>\n",
              "      <td>NaN</td>\n",
              "      <td>NaN</td>\n",
              "      <td>CPU</td>\n",
              "      <td>29100</td>\n",
              "      <td>Seconds</td>\n",
              "      <td>Time</td>\n",
              "      <td>169</td>\n",
              "      <td>Kaggle</td>\n",
              "      <td>7 months ago</td>\n",
              "      <td>4</td>\n",
              "    </tr>\n",
              "    <tr>\n",
              "      <th>Ex18_Nb18</th>\n",
              "      <td>NaN</td>\n",
              "      <td>NaN</td>\n",
              "      <td>NaN</td>\n",
              "      <td>NaN</td>\n",
              "      <td>NaN</td>\n",
              "      <td>NaN</td>\n",
              "      <td>NaN</td>\n",
              "      <td>NaN</td>\n",
              "      <td>NaN</td>\n",
              "      <td>NaN</td>\n",
              "      <td>NaN</td>\n",
              "      <td>0.62</td>\n",
              "      <td>NaN</td>\n",
              "      <td>NaN</td>\n",
              "      <td>NaN</td>\n",
              "      <td>NaN</td>\n",
              "      <td>NaN</td>\n",
              "      <td>NaN</td>\n",
              "      <td>NaN</td>\n",
              "      <td>NaN</td>\n",
              "      <td>NaN</td>\n",
              "      <td>NaN</td>\n",
              "      <td>NaN</td>\n",
              "      <td>NaN</td>\n",
              "      <td>NaN</td>\n",
              "      <td>CPU</td>\n",
              "      <td>139.31</td>\n",
              "      <td>Seconds</td>\n",
              "      <td>Time</td>\n",
              "      <td>489</td>\n",
              "      <td>Kaggle</td>\n",
              "      <td>12 months ago</td>\n",
              "      <td>1</td>\n",
              "    </tr>\n",
              "    <tr>\n",
              "      <th>Ex19_Nb19</th>\n",
              "      <td>NaN</td>\n",
              "      <td>1</td>\n",
              "      <td>NaN</td>\n",
              "      <td>NaN</td>\n",
              "      <td>NaN</td>\n",
              "      <td>NaN</td>\n",
              "      <td>NaN</td>\n",
              "      <td>NaN</td>\n",
              "      <td>NaN</td>\n",
              "      <td>8.83</td>\n",
              "      <td>NaN</td>\n",
              "      <td>0.93841</td>\n",
              "      <td>NaN</td>\n",
              "      <td>NaN</td>\n",
              "      <td>NaN</td>\n",
              "      <td>NaN</td>\n",
              "      <td>NaN</td>\n",
              "      <td>NaN</td>\n",
              "      <td>NaN</td>\n",
              "      <td>NaN</td>\n",
              "      <td>NaN</td>\n",
              "      <td>NaN</td>\n",
              "      <td>NaN</td>\n",
              "      <td>NaN</td>\n",
              "      <td>NaN</td>\n",
              "      <td>GPU</td>\n",
              "      <td>139.31</td>\n",
              "      <td>Seconds</td>\n",
              "      <td>Time</td>\n",
              "      <td>208</td>\n",
              "      <td>Kaggle</td>\n",
              "      <td>12 months ago</td>\n",
              "      <td>1</td>\n",
              "    </tr>\n",
              "    <tr>\n",
              "      <th>Ex20_Nb20</th>\n",
              "      <td>NaN</td>\n",
              "      <td>NaN</td>\n",
              "      <td>NaN</td>\n",
              "      <td>NaN</td>\n",
              "      <td>NaN</td>\n",
              "      <td>NaN</td>\n",
              "      <td>NaN</td>\n",
              "      <td>NaN</td>\n",
              "      <td>NaN</td>\n",
              "      <td>NaN</td>\n",
              "      <td>NaN</td>\n",
              "      <td>NaN</td>\n",
              "      <td>NaN</td>\n",
              "      <td>NaN</td>\n",
              "      <td>NaN</td>\n",
              "      <td>NaN</td>\n",
              "      <td>NaN</td>\n",
              "      <td>NaN</td>\n",
              "      <td>NaN</td>\n",
              "      <td>NaN</td>\n",
              "      <td>NaN</td>\n",
              "      <td>NaN</td>\n",
              "      <td>NaN</td>\n",
              "      <td>NaN</td>\n",
              "      <td>NaN</td>\n",
              "      <td>CPU</td>\n",
              "      <td>2500</td>\n",
              "      <td>Month</td>\n",
              "      <td>Date</td>\n",
              "      <td>641</td>\n",
              "      <td>Kaggle</td>\n",
              "      <td>36 months ago</td>\n",
              "      <td>1</td>\n",
              "    </tr>\n",
              "  </tbody>\n",
              "</table>\n",
              "</div>"
            ],
            "text/plain": [
              "Dimension Binary_Cross_Entropy  ... Number_of_Experiments\n",
              "Ex1_Nb1                    NaN  ...                     7\n",
              "Ex2_Nb2                    NaN  ...                     5\n",
              "Ex3_Nb3                    NaN  ...                     1\n",
              "Ex4_Nb4                    NaN  ...                     1\n",
              "Ex5_Nb5                    NaN  ...                     6\n",
              "Ex6_Nb6                    NaN  ...                     1\n",
              "Ex7_Nb7                    NaN  ...                     1\n",
              "Ex8_Nb8                    NaN  ...                     1\n",
              "Ex9_Nb9                    NaN  ...                     4\n",
              "Ex10_Nb10                  NaN  ...                     1\n",
              "Ex11_Nb11                  NaN  ...                     1\n",
              "Ex12_Nb12                  NaN  ...                     1\n",
              "Ex13_Nb13                  NaN  ...                     1\n",
              "Ex14_Nb14                  NaN  ...                     5\n",
              "Ex15_Nb15                  NaN  ...                     1\n",
              "Ex16_Nb16                  NaN  ...                     1\n",
              "Ex17_Nb17                  NaN  ...                     4\n",
              "Ex18_Nb18                  NaN  ...                     1\n",
              "Ex19_Nb19                  NaN  ...                     1\n",
              "Ex20_Nb20                  NaN  ...                     1\n",
              "\n",
              "[20 rows x 33 columns]"
            ]
          },
          "metadata": {
            "tags": []
          },
          "execution_count": 41
        }
      ]
    },
    {
      "cell_type": "code",
      "metadata": {
        "colab": {
          "base_uri": "https://localhost:8080/"
        },
        "id": "7f4cBt3lh96E",
        "outputId": "cff2344d-45f3-4da7-e221-3f1d7210c911"
      },
      "source": [
        "df_copy.dtypes"
      ],
      "execution_count": 42,
      "outputs": [
        {
          "output_type": "execute_result",
          "data": {
            "text/plain": [
              "Dimension\n",
              "Binary_Cross_Entropy                            object\n",
              "Categorical_Cross_Entropy                       object\n",
              "Accuracy                                        object\n",
              "F1_Score                                        object\n",
              "Mean_Absolute_Error                             object\n",
              "Root_Mean_Squared_Error                         object\n",
              "Model Validation Strategy - KFold               object\n",
              "Model Validation Strategy - Stratified KFold    object\n",
              "Model Validation Strategy - Repeated KFold      object\n",
              "Training Time (1st epoch in seconds)            object\n",
              "Train_Accuracy                                  object\n",
              "Train_F1_Score                                  object\n",
              "Train_Mean_Absolute_Error                       object\n",
              "Train_Mean_Squared_Error                        object\n",
              "Train_Root_Mean_Squared_Error                   object\n",
              "Validation_Accuracy                             object\n",
              "Validation_F1_Score                             object\n",
              "Test_Accuracy                                   object\n",
              "Test_F1_Score                                   object\n",
              "Test_Mean_Absolute_Error                        object\n",
              "Train_Mean_Squared_Error                        object\n",
              "Test_Root_Mean_Squared_Error                    object\n",
              "Test_Root_Mean_Sqaured_Error_Loss               object\n",
              "Delta_Between_Validation_And_Test               object\n",
              "Memory                                          object\n",
              "Processing_Unit                                 object\n",
              "Physical_Size                                   object\n",
              "Length                                          object\n",
              "Type                                            object\n",
              "Vote_Count                                      object\n",
              "Source                                          object\n",
              "Last_Modified_Time                              object\n",
              "Number_of_Experiments                           object\n",
              "dtype: object"
            ]
          },
          "metadata": {
            "tags": []
          },
          "execution_count": 42
        }
      ]
    },
    {
      "cell_type": "code",
      "metadata": {
        "colab": {
          "base_uri": "https://localhost:8080/"
        },
        "id": "zA4miR778uAx",
        "outputId": "af7845a2-f0c8-4374-8121-942f7c394127"
      },
      "source": [
        "df_copy.describe\n",
        "df_copy.head\n",
        "df_copy.columns"
      ],
      "execution_count": 43,
      "outputs": [
        {
          "output_type": "execute_result",
          "data": {
            "text/plain": [
              "Index(['Binary_Cross_Entropy', 'Categorical_Cross_Entropy', 'Accuracy',\n",
              "       'F1_Score', 'Mean_Absolute_Error', 'Root_Mean_Squared_Error',\n",
              "       'Model Validation Strategy - KFold',\n",
              "       'Model Validation Strategy - Stratified KFold',\n",
              "       'Model Validation Strategy - Repeated KFold',\n",
              "       'Training Time (1st epoch in seconds)  ', 'Train_Accuracy',\n",
              "       'Train_F1_Score', 'Train_Mean_Absolute_Error',\n",
              "       'Train_Mean_Squared_Error', 'Train_Root_Mean_Squared_Error',\n",
              "       'Validation_Accuracy', 'Validation_F1_Score', 'Test_Accuracy',\n",
              "       'Test_F1_Score', 'Test_Mean_Absolute_Error', 'Train_Mean_Squared_Error',\n",
              "       'Test_Root_Mean_Squared_Error', 'Test_Root_Mean_Sqaured_Error_Loss',\n",
              "       'Delta_Between_Validation_And_Test', 'Memory', 'Processing_Unit',\n",
              "       'Physical_Size', 'Length', 'Type', 'Vote_Count', 'Source',\n",
              "       'Last_Modified_Time', 'Number_of_Experiments'],\n",
              "      dtype='object', name='Dimension')"
            ]
          },
          "metadata": {
            "tags": []
          },
          "execution_count": 43
        }
      ]
    },
    {
      "cell_type": "code",
      "metadata": {
        "id": "GmqXxAcTiU5t"
      },
      "source": [
        "df_copy[\"Train_Accuracy\"] = pd.to_numeric(df_copy[\"Train_Accuracy\"], errors='coerce');\n",
        "df_copy[\"Train_F1_Score\"] = pd.to_numeric(df_copy[\"Train_F1_Score\"], errors='coerce');\n",
        "df_copy[\"Validation_Accuracy\"] = pd.to_numeric(df_copy[\"Validation_Accuracy\"], errors='coerce');\n",
        "df_copy[\"Validation_F1_Score\"] = pd.to_numeric(df_copy[\"Validation_F1_Score\"], errors='coerce');\n",
        "df_copy[\"Test_Accuracy\"] = pd.to_numeric(df_copy[\"Test_Accuracy\"], errors='coerce');\n",
        "df_copy[\"Test_F1_Score\"] = pd.to_numeric(df_copy[\"Test_F1_Score\"], errors='coerce');\n",
        "df_copy[\"Physical_Size\"] = pd.to_numeric(df_copy[\"Physical_Size\"], errors='coerce');\n",
        "df_copy[\"Vote_Count\"] = pd.to_numeric(df_copy[\"Vote_Count\"], errors='coerce');\n",
        "df_copy[\"Number_Of_Experiments\"] = pd.to_numeric(df_copy[\"Number_of_Experiments\"], errors='coerce');"
      ],
      "execution_count": 44,
      "outputs": []
    },
    {
      "cell_type": "code",
      "metadata": {
        "colab": {
          "base_uri": "https://localhost:8080/",
          "height": 596
        },
        "id": "qT2SOM_T3PkR",
        "outputId": "a715036d-b26e-468b-ffd0-e4fa7a7f2a10"
      },
      "source": [
        "pd.to_numeric(df_copy[\"Training_Time\"])"
      ],
      "execution_count": 27,
      "outputs": [
        {
          "output_type": "error",
          "ename": "KeyError",
          "evalue": "ignored",
          "traceback": [
            "\u001b[0;31m---------------------------------------------------------------------------\u001b[0m",
            "\u001b[0;31mKeyError\u001b[0m                                  Traceback (most recent call last)",
            "\u001b[0;32m/usr/local/lib/python3.7/dist-packages/pandas/core/indexes/base.py\u001b[0m in \u001b[0;36mget_loc\u001b[0;34m(self, key, method, tolerance)\u001b[0m\n\u001b[1;32m   2897\u001b[0m             \u001b[0;32mtry\u001b[0m\u001b[0;34m:\u001b[0m\u001b[0;34m\u001b[0m\u001b[0;34m\u001b[0m\u001b[0m\n\u001b[0;32m-> 2898\u001b[0;31m                 \u001b[0;32mreturn\u001b[0m \u001b[0mself\u001b[0m\u001b[0;34m.\u001b[0m\u001b[0m_engine\u001b[0m\u001b[0;34m.\u001b[0m\u001b[0mget_loc\u001b[0m\u001b[0;34m(\u001b[0m\u001b[0mcasted_key\u001b[0m\u001b[0;34m)\u001b[0m\u001b[0;34m\u001b[0m\u001b[0;34m\u001b[0m\u001b[0m\n\u001b[0m\u001b[1;32m   2899\u001b[0m             \u001b[0;32mexcept\u001b[0m \u001b[0mKeyError\u001b[0m \u001b[0;32mas\u001b[0m \u001b[0merr\u001b[0m\u001b[0;34m:\u001b[0m\u001b[0;34m\u001b[0m\u001b[0;34m\u001b[0m\u001b[0m\n",
            "\u001b[0;32mpandas/_libs/index.pyx\u001b[0m in \u001b[0;36mpandas._libs.index.IndexEngine.get_loc\u001b[0;34m()\u001b[0m\n",
            "\u001b[0;32mpandas/_libs/index.pyx\u001b[0m in \u001b[0;36mpandas._libs.index.IndexEngine.get_loc\u001b[0;34m()\u001b[0m\n",
            "\u001b[0;32mpandas/_libs/index.pyx\u001b[0m in \u001b[0;36mpandas._libs.index.IndexEngine._get_loc_duplicates\u001b[0;34m()\u001b[0m\n",
            "\u001b[0;32mpandas/_libs/index.pyx\u001b[0m in \u001b[0;36mpandas._libs.index.IndexEngine._maybe_get_bool_indexer\u001b[0;34m()\u001b[0m\n",
            "\u001b[0;32mpandas/_libs/index.pyx\u001b[0m in \u001b[0;36mpandas._libs.index.IndexEngine._unpack_bool_indexer\u001b[0;34m()\u001b[0m\n",
            "\u001b[0;31mKeyError\u001b[0m: 'Training_Time'",
            "\nThe above exception was the direct cause of the following exception:\n",
            "\u001b[0;31mKeyError\u001b[0m                                  Traceback (most recent call last)",
            "\u001b[0;32m<ipython-input-27-561cdd32e703>\u001b[0m in \u001b[0;36m<module>\u001b[0;34m()\u001b[0m\n\u001b[0;32m----> 1\u001b[0;31m \u001b[0mpd\u001b[0m\u001b[0;34m.\u001b[0m\u001b[0mto_numeric\u001b[0m\u001b[0;34m(\u001b[0m\u001b[0mdf_transposed\u001b[0m\u001b[0;34m[\u001b[0m\u001b[0;34m\"Training_Time\"\u001b[0m\u001b[0;34m]\u001b[0m\u001b[0;34m)\u001b[0m\u001b[0;34m\u001b[0m\u001b[0;34m\u001b[0m\u001b[0m\n\u001b[0m",
            "\u001b[0;32m/usr/local/lib/python3.7/dist-packages/pandas/core/frame.py\u001b[0m in \u001b[0;36m__getitem__\u001b[0;34m(self, key)\u001b[0m\n\u001b[1;32m   2904\u001b[0m             \u001b[0;32mif\u001b[0m \u001b[0mself\u001b[0m\u001b[0;34m.\u001b[0m\u001b[0mcolumns\u001b[0m\u001b[0;34m.\u001b[0m\u001b[0mnlevels\u001b[0m \u001b[0;34m>\u001b[0m \u001b[0;36m1\u001b[0m\u001b[0;34m:\u001b[0m\u001b[0;34m\u001b[0m\u001b[0;34m\u001b[0m\u001b[0m\n\u001b[1;32m   2905\u001b[0m                 \u001b[0;32mreturn\u001b[0m \u001b[0mself\u001b[0m\u001b[0;34m.\u001b[0m\u001b[0m_getitem_multilevel\u001b[0m\u001b[0;34m(\u001b[0m\u001b[0mkey\u001b[0m\u001b[0;34m)\u001b[0m\u001b[0;34m\u001b[0m\u001b[0;34m\u001b[0m\u001b[0m\n\u001b[0;32m-> 2906\u001b[0;31m             \u001b[0mindexer\u001b[0m \u001b[0;34m=\u001b[0m \u001b[0mself\u001b[0m\u001b[0;34m.\u001b[0m\u001b[0mcolumns\u001b[0m\u001b[0;34m.\u001b[0m\u001b[0mget_loc\u001b[0m\u001b[0;34m(\u001b[0m\u001b[0mkey\u001b[0m\u001b[0;34m)\u001b[0m\u001b[0;34m\u001b[0m\u001b[0;34m\u001b[0m\u001b[0m\n\u001b[0m\u001b[1;32m   2907\u001b[0m             \u001b[0;32mif\u001b[0m \u001b[0mis_integer\u001b[0m\u001b[0;34m(\u001b[0m\u001b[0mindexer\u001b[0m\u001b[0;34m)\u001b[0m\u001b[0;34m:\u001b[0m\u001b[0;34m\u001b[0m\u001b[0;34m\u001b[0m\u001b[0m\n\u001b[1;32m   2908\u001b[0m                 \u001b[0mindexer\u001b[0m \u001b[0;34m=\u001b[0m \u001b[0;34m[\u001b[0m\u001b[0mindexer\u001b[0m\u001b[0;34m]\u001b[0m\u001b[0;34m\u001b[0m\u001b[0;34m\u001b[0m\u001b[0m\n",
            "\u001b[0;32m/usr/local/lib/python3.7/dist-packages/pandas/core/indexes/base.py\u001b[0m in \u001b[0;36mget_loc\u001b[0;34m(self, key, method, tolerance)\u001b[0m\n\u001b[1;32m   2898\u001b[0m                 \u001b[0;32mreturn\u001b[0m \u001b[0mself\u001b[0m\u001b[0;34m.\u001b[0m\u001b[0m_engine\u001b[0m\u001b[0;34m.\u001b[0m\u001b[0mget_loc\u001b[0m\u001b[0;34m(\u001b[0m\u001b[0mcasted_key\u001b[0m\u001b[0;34m)\u001b[0m\u001b[0;34m\u001b[0m\u001b[0;34m\u001b[0m\u001b[0m\n\u001b[1;32m   2899\u001b[0m             \u001b[0;32mexcept\u001b[0m \u001b[0mKeyError\u001b[0m \u001b[0;32mas\u001b[0m \u001b[0merr\u001b[0m\u001b[0;34m:\u001b[0m\u001b[0;34m\u001b[0m\u001b[0;34m\u001b[0m\u001b[0m\n\u001b[0;32m-> 2900\u001b[0;31m                 \u001b[0;32mraise\u001b[0m \u001b[0mKeyError\u001b[0m\u001b[0;34m(\u001b[0m\u001b[0mkey\u001b[0m\u001b[0;34m)\u001b[0m \u001b[0;32mfrom\u001b[0m \u001b[0merr\u001b[0m\u001b[0;34m\u001b[0m\u001b[0;34m\u001b[0m\u001b[0m\n\u001b[0m\u001b[1;32m   2901\u001b[0m \u001b[0;34m\u001b[0m\u001b[0m\n\u001b[1;32m   2902\u001b[0m         \u001b[0;32mif\u001b[0m \u001b[0mtolerance\u001b[0m \u001b[0;32mis\u001b[0m \u001b[0;32mnot\u001b[0m \u001b[0;32mNone\u001b[0m\u001b[0;34m:\u001b[0m\u001b[0;34m\u001b[0m\u001b[0;34m\u001b[0m\u001b[0m\n",
            "\u001b[0;31mKeyError\u001b[0m: 'Training_Time'"
          ]
        }
      ]
    },
    {
      "cell_type": "code",
      "metadata": {
        "colab": {
          "base_uri": "https://localhost:8080/",
          "height": 596
        },
        "id": "6Briwfa53PkR",
        "outputId": "68871dd8-1eab-4611-ffc2-5ea72b1fb2e4"
      },
      "source": [
        "res = df_copy[\"Training_Time\"]\n",
        "res"
      ],
      "execution_count": 28,
      "outputs": [
        {
          "output_type": "error",
          "ename": "KeyError",
          "evalue": "ignored",
          "traceback": [
            "\u001b[0;31m---------------------------------------------------------------------------\u001b[0m",
            "\u001b[0;31mKeyError\u001b[0m                                  Traceback (most recent call last)",
            "\u001b[0;32m/usr/local/lib/python3.7/dist-packages/pandas/core/indexes/base.py\u001b[0m in \u001b[0;36mget_loc\u001b[0;34m(self, key, method, tolerance)\u001b[0m\n\u001b[1;32m   2897\u001b[0m             \u001b[0;32mtry\u001b[0m\u001b[0;34m:\u001b[0m\u001b[0;34m\u001b[0m\u001b[0;34m\u001b[0m\u001b[0m\n\u001b[0;32m-> 2898\u001b[0;31m                 \u001b[0;32mreturn\u001b[0m \u001b[0mself\u001b[0m\u001b[0;34m.\u001b[0m\u001b[0m_engine\u001b[0m\u001b[0;34m.\u001b[0m\u001b[0mget_loc\u001b[0m\u001b[0;34m(\u001b[0m\u001b[0mcasted_key\u001b[0m\u001b[0;34m)\u001b[0m\u001b[0;34m\u001b[0m\u001b[0;34m\u001b[0m\u001b[0m\n\u001b[0m\u001b[1;32m   2899\u001b[0m             \u001b[0;32mexcept\u001b[0m \u001b[0mKeyError\u001b[0m \u001b[0;32mas\u001b[0m \u001b[0merr\u001b[0m\u001b[0;34m:\u001b[0m\u001b[0;34m\u001b[0m\u001b[0;34m\u001b[0m\u001b[0m\n",
            "\u001b[0;32mpandas/_libs/index.pyx\u001b[0m in \u001b[0;36mpandas._libs.index.IndexEngine.get_loc\u001b[0;34m()\u001b[0m\n",
            "\u001b[0;32mpandas/_libs/index.pyx\u001b[0m in \u001b[0;36mpandas._libs.index.IndexEngine.get_loc\u001b[0;34m()\u001b[0m\n",
            "\u001b[0;32mpandas/_libs/index.pyx\u001b[0m in \u001b[0;36mpandas._libs.index.IndexEngine._get_loc_duplicates\u001b[0;34m()\u001b[0m\n",
            "\u001b[0;32mpandas/_libs/index.pyx\u001b[0m in \u001b[0;36mpandas._libs.index.IndexEngine._maybe_get_bool_indexer\u001b[0;34m()\u001b[0m\n",
            "\u001b[0;32mpandas/_libs/index.pyx\u001b[0m in \u001b[0;36mpandas._libs.index.IndexEngine._unpack_bool_indexer\u001b[0;34m()\u001b[0m\n",
            "\u001b[0;31mKeyError\u001b[0m: 'Training_Time'",
            "\nThe above exception was the direct cause of the following exception:\n",
            "\u001b[0;31mKeyError\u001b[0m                                  Traceback (most recent call last)",
            "\u001b[0;32m<ipython-input-28-7b17edf80a53>\u001b[0m in \u001b[0;36m<module>\u001b[0;34m()\u001b[0m\n\u001b[0;32m----> 1\u001b[0;31m \u001b[0mres\u001b[0m \u001b[0;34m=\u001b[0m \u001b[0mdf_transposed\u001b[0m\u001b[0;34m[\u001b[0m\u001b[0;34m\"Training_Time\"\u001b[0m\u001b[0;34m]\u001b[0m\u001b[0;34m\u001b[0m\u001b[0;34m\u001b[0m\u001b[0m\n\u001b[0m\u001b[1;32m      2\u001b[0m \u001b[0mres\u001b[0m\u001b[0;34m\u001b[0m\u001b[0;34m\u001b[0m\u001b[0m\n",
            "\u001b[0;32m/usr/local/lib/python3.7/dist-packages/pandas/core/frame.py\u001b[0m in \u001b[0;36m__getitem__\u001b[0;34m(self, key)\u001b[0m\n\u001b[1;32m   2904\u001b[0m             \u001b[0;32mif\u001b[0m \u001b[0mself\u001b[0m\u001b[0;34m.\u001b[0m\u001b[0mcolumns\u001b[0m\u001b[0;34m.\u001b[0m\u001b[0mnlevels\u001b[0m \u001b[0;34m>\u001b[0m \u001b[0;36m1\u001b[0m\u001b[0;34m:\u001b[0m\u001b[0;34m\u001b[0m\u001b[0;34m\u001b[0m\u001b[0m\n\u001b[1;32m   2905\u001b[0m                 \u001b[0;32mreturn\u001b[0m \u001b[0mself\u001b[0m\u001b[0;34m.\u001b[0m\u001b[0m_getitem_multilevel\u001b[0m\u001b[0;34m(\u001b[0m\u001b[0mkey\u001b[0m\u001b[0;34m)\u001b[0m\u001b[0;34m\u001b[0m\u001b[0;34m\u001b[0m\u001b[0m\n\u001b[0;32m-> 2906\u001b[0;31m             \u001b[0mindexer\u001b[0m \u001b[0;34m=\u001b[0m \u001b[0mself\u001b[0m\u001b[0;34m.\u001b[0m\u001b[0mcolumns\u001b[0m\u001b[0;34m.\u001b[0m\u001b[0mget_loc\u001b[0m\u001b[0;34m(\u001b[0m\u001b[0mkey\u001b[0m\u001b[0;34m)\u001b[0m\u001b[0;34m\u001b[0m\u001b[0;34m\u001b[0m\u001b[0m\n\u001b[0m\u001b[1;32m   2907\u001b[0m             \u001b[0;32mif\u001b[0m \u001b[0mis_integer\u001b[0m\u001b[0;34m(\u001b[0m\u001b[0mindexer\u001b[0m\u001b[0;34m)\u001b[0m\u001b[0;34m:\u001b[0m\u001b[0;34m\u001b[0m\u001b[0;34m\u001b[0m\u001b[0m\n\u001b[1;32m   2908\u001b[0m                 \u001b[0mindexer\u001b[0m \u001b[0;34m=\u001b[0m \u001b[0;34m[\u001b[0m\u001b[0mindexer\u001b[0m\u001b[0;34m]\u001b[0m\u001b[0;34m\u001b[0m\u001b[0;34m\u001b[0m\u001b[0m\n",
            "\u001b[0;32m/usr/local/lib/python3.7/dist-packages/pandas/core/indexes/base.py\u001b[0m in \u001b[0;36mget_loc\u001b[0;34m(self, key, method, tolerance)\u001b[0m\n\u001b[1;32m   2898\u001b[0m                 \u001b[0;32mreturn\u001b[0m \u001b[0mself\u001b[0m\u001b[0;34m.\u001b[0m\u001b[0m_engine\u001b[0m\u001b[0;34m.\u001b[0m\u001b[0mget_loc\u001b[0m\u001b[0;34m(\u001b[0m\u001b[0mcasted_key\u001b[0m\u001b[0;34m)\u001b[0m\u001b[0;34m\u001b[0m\u001b[0;34m\u001b[0m\u001b[0m\n\u001b[1;32m   2899\u001b[0m             \u001b[0;32mexcept\u001b[0m \u001b[0mKeyError\u001b[0m \u001b[0;32mas\u001b[0m \u001b[0merr\u001b[0m\u001b[0;34m:\u001b[0m\u001b[0;34m\u001b[0m\u001b[0;34m\u001b[0m\u001b[0m\n\u001b[0;32m-> 2900\u001b[0;31m                 \u001b[0;32mraise\u001b[0m \u001b[0mKeyError\u001b[0m\u001b[0;34m(\u001b[0m\u001b[0mkey\u001b[0m\u001b[0;34m)\u001b[0m \u001b[0;32mfrom\u001b[0m \u001b[0merr\u001b[0m\u001b[0;34m\u001b[0m\u001b[0;34m\u001b[0m\u001b[0m\n\u001b[0m\u001b[1;32m   2901\u001b[0m \u001b[0;34m\u001b[0m\u001b[0m\n\u001b[1;32m   2902\u001b[0m         \u001b[0;32mif\u001b[0m \u001b[0mtolerance\u001b[0m \u001b[0;32mis\u001b[0m \u001b[0;32mnot\u001b[0m \u001b[0;32mNone\u001b[0m\u001b[0;34m:\u001b[0m\u001b[0;34m\u001b[0m\u001b[0;34m\u001b[0m\u001b[0m\n",
            "\u001b[0;31mKeyError\u001b[0m: 'Training_Time'"
          ]
        }
      ]
    },
    {
      "cell_type": "code",
      "metadata": {
        "colab": {
          "base_uri": "https://localhost:8080/"
        },
        "id": "YyzqzIq95j9T",
        "outputId": "53fa12dd-7a27-48c0-f004-4b841386e074"
      },
      "source": [
        "print(\"Median of Training Time\", res.median())\n",
        "print(\"Max of Training Time\", res.max())\n",
        "print(\"Min of Training Time\", res.min())"
      ],
      "execution_count": null,
      "outputs": [
        {
          "output_type": "stream",
          "text": [
            "Median of Training Time 240.0\n",
            "Max of Training Time 3121.0\n",
            "Min of Training Time 55.0\n"
          ],
          "name": "stdout"
        }
      ]
    },
    {
      "cell_type": "code",
      "metadata": {
        "colab": {
          "base_uri": "https://localhost:8080/"
        },
        "id": "VK5FF2kEDzBL",
        "outputId": "1be8c502-81eb-4841-b1aa-ed4fc50e5ec4"
      },
      "source": [
        "#MinMax Scaling\n",
        "import numpy as np\n",
        " \n",
        "x = np.arange(start=0, stop=df_transposed[\"Training_Time\"].size, step=1)\n",
        "print(x)\n",
        "\n",
        "for i in x:\n",
        "  y = df_transposed[\"Training_Time\"][i]\n",
        "  print(\"i is \", i)\n",
        "  print(\"y is \", y)\n",
        "  y_std = (y - res.min())/(res.max() - res.min())\n",
        "  y_scaled = y_std * (2 - (-2)) + (-2)  #latest scale is max = 2 and min (-2)\n",
        "  print(\"rank is \", y_scaled)"
      ],
      "execution_count": null,
      "outputs": [
        {
          "output_type": "stream",
          "text": [
            "[ 0  1  2  3  4  5  6  7  8  9 10 11 12 13 14 15 16 17 18 19]\n",
            "i is  0\n",
            "y is  nan\n",
            "rank is  nan\n",
            "i is  1\n",
            "y is  72.0\n",
            "rank is  -1.9778212654924983\n",
            "i is  2\n",
            "y is  248.0\n",
            "rank is  -1.7482061317677755\n",
            "i is  3\n",
            "y is  146.0\n",
            "rank is  -1.8812785388127855\n",
            "i is  4\n",
            "y is  nan\n",
            "rank is  nan\n",
            "i is  5\n",
            "y is  275.0\n",
            "rank is  -1.7129810828440966\n",
            "i is  6\n",
            "y is  2470.0\n",
            "rank is  1.1506849315068495\n",
            "i is  7\n",
            "y is  240.0\n",
            "rank is  -1.7586431833007174\n",
            "i is  8\n",
            "y is  nan\n",
            "rank is  nan\n",
            "i is  9\n",
            "y is  206.0\n",
            "rank is  -1.803000652315721\n",
            "i is  10\n",
            "y is  55.0\n",
            "rank is  -2.0\n",
            "i is  11\n",
            "y is  92.0\n",
            "rank is  -1.9517286366601434\n",
            "i is  12\n",
            "y is  138.0\n",
            "rank is  -1.8917155903457274\n",
            "i is  13\n",
            "y is  nan\n",
            "rank is  nan\n",
            "i is  14\n",
            "y is  3121.0\n",
            "rank is  2.0\n",
            "i is  15\n",
            "y is  141.0\n",
            "rank is  -1.887801696020874\n",
            "i is  16\n",
            "y is  1731.0\n",
            "rank is  0.18656229615133713\n",
            "i is  17\n",
            "y is  1475.0\n",
            "rank is  -0.14742335290280506\n",
            "i is  18\n",
            "y is  591.0\n",
            "rank is  -1.3007175472928898\n",
            "i is  19\n",
            "y is  nan\n",
            "rank is  nan\n"
          ],
          "name": "stdout"
        }
      ]
    },
    {
      "cell_type": "code",
      "metadata": {
        "id": "bCzzeLXMk4XQ"
      },
      "source": [
        "#X_std = (X - X.min(axis=0)) / (X.max(axis=0) - X.min(axis=0))\n",
        "#X_scaled = X_std * (max - min) + min"
      ],
      "execution_count": null,
      "outputs": []
    },
    {
      "cell_type": "code",
      "metadata": {
        "colab": {
          "base_uri": "https://localhost:8080/"
        },
        "id": "v3qw6EpzDNpe",
        "outputId": "38b4512a-ec4c-439d-a922-94baf345d242"
      },
      "source": [
        "df_copy['Train_Accuracy']"
      ],
      "execution_count": 30,
      "outputs": [
        {
          "output_type": "execute_result",
          "data": {
            "text/plain": [
              "Ex1_Nb1     NaN\n",
              "Ex2_Nb2     NaN\n",
              "Ex3_Nb3     NaN\n",
              "Ex4_Nb4     NaN\n",
              "Ex5_Nb5     NaN\n",
              "Ex6_Nb6     NaN\n",
              "Ex7_Nb7     NaN\n",
              "Ex8_Nb8     NaN\n",
              "Ex9_Nb9     NaN\n",
              "Ex10_Nb10   NaN\n",
              "Ex11_Nb11   NaN\n",
              "Ex12_Nb12   NaN\n",
              "Ex13_Nb13   NaN\n",
              "Ex14_Nb14   NaN\n",
              "Ex15_Nb15   NaN\n",
              "Ex16_Nb16   NaN\n",
              "Ex17_Nb17   NaN\n",
              "Ex18_Nb18   NaN\n",
              "Ex19_Nb19   NaN\n",
              "Ex20_Nb20   NaN\n",
              "Name: Train_Accuracy, dtype: float64"
            ]
          },
          "metadata": {
            "tags": []
          },
          "execution_count": 30
        }
      ]
    },
    {
      "cell_type": "code",
      "metadata": {
        "colab": {
          "base_uri": "https://localhost:8080/"
        },
        "id": "8POfWU65ExNj",
        "outputId": "2c5f95db-07cc-4384-cb36-b82721bdbb14"
      },
      "source": [
        "df_copy['Train_Accuracy'].mean()"
      ],
      "execution_count": 45,
      "outputs": [
        {
          "output_type": "execute_result",
          "data": {
            "text/plain": [
              "nan"
            ]
          },
          "metadata": {
            "tags": []
          },
          "execution_count": 45
        }
      ]
    },
    {
      "cell_type": "code",
      "metadata": {
        "colab": {
          "base_uri": "https://localhost:8080/"
        },
        "id": "6FbVcus9FRZt",
        "outputId": "a8e2867c-53a4-4a6a-9ad6-7cb6be897396"
      },
      "source": [
        "df_copy['Train_F1_Score']"
      ],
      "execution_count": 46,
      "outputs": [
        {
          "output_type": "execute_result",
          "data": {
            "text/plain": [
              "Ex1_Nb1          NaN\n",
              "Ex2_Nb2          NaN\n",
              "Ex3_Nb3          NaN\n",
              "Ex4_Nb4          NaN\n",
              "Ex5_Nb5          NaN\n",
              "Ex6_Nb6          NaN\n",
              "Ex7_Nb7          NaN\n",
              "Ex8_Nb8          NaN\n",
              "Ex9_Nb9          NaN\n",
              "Ex10_Nb10        NaN\n",
              "Ex11_Nb11        NaN\n",
              "Ex12_Nb12        NaN\n",
              "Ex13_Nb13        NaN\n",
              "Ex14_Nb14        NaN\n",
              "Ex15_Nb15        NaN\n",
              "Ex16_Nb16        NaN\n",
              "Ex17_Nb17        NaN\n",
              "Ex18_Nb18    0.62000\n",
              "Ex19_Nb19    0.93841\n",
              "Ex20_Nb20        NaN\n",
              "Name: Train_F1_Score, dtype: float64"
            ]
          },
          "metadata": {
            "tags": []
          },
          "execution_count": 46
        }
      ]
    },
    {
      "cell_type": "code",
      "metadata": {
        "colab": {
          "base_uri": "https://localhost:8080/"
        },
        "id": "J3IgW5bQFaC7",
        "outputId": "37226c96-bf90-4a6c-b3e9-5ec6cd6cbbfb"
      },
      "source": [
        "df_copy['Train_F1_Score'].mean()"
      ],
      "execution_count": 47,
      "outputs": [
        {
          "output_type": "execute_result",
          "data": {
            "text/plain": [
              "0.779205"
            ]
          },
          "metadata": {
            "tags": []
          },
          "execution_count": 47
        }
      ]
    },
    {
      "cell_type": "code",
      "metadata": {
        "colab": {
          "base_uri": "https://localhost:8080/"
        },
        "id": "seqaL9LuRrZp",
        "outputId": "fb45c470-a468-4e6f-bbcc-ae5b427a7a1c"
      },
      "source": [
        "df_copy['Validation_Accuracy']"
      ],
      "execution_count": 49,
      "outputs": [
        {
          "output_type": "execute_result",
          "data": {
            "text/plain": [
              "Ex1_Nb1     NaN\n",
              "Ex2_Nb2     NaN\n",
              "Ex3_Nb3     NaN\n",
              "Ex4_Nb4     NaN\n",
              "Ex5_Nb5     NaN\n",
              "Ex6_Nb6     NaN\n",
              "Ex7_Nb7     NaN\n",
              "Ex8_Nb8     NaN\n",
              "Ex9_Nb9     NaN\n",
              "Ex10_Nb10   NaN\n",
              "Ex11_Nb11   NaN\n",
              "Ex12_Nb12   NaN\n",
              "Ex13_Nb13   NaN\n",
              "Ex14_Nb14   NaN\n",
              "Ex15_Nb15   NaN\n",
              "Ex16_Nb16   NaN\n",
              "Ex17_Nb17   NaN\n",
              "Ex18_Nb18   NaN\n",
              "Ex19_Nb19   NaN\n",
              "Ex20_Nb20   NaN\n",
              "Name: Validation_Accuracy, dtype: float64"
            ]
          },
          "metadata": {
            "tags": []
          },
          "execution_count": 49
        }
      ]
    },
    {
      "cell_type": "code",
      "metadata": {
        "colab": {
          "base_uri": "https://localhost:8080/"
        },
        "id": "tKyJvQHtR9Zn",
        "outputId": "596467c4-8991-4af9-d347-f3b1698152f8"
      },
      "source": [
        "df_copy['Validation_Accuracy'].mean()"
      ],
      "execution_count": 50,
      "outputs": [
        {
          "output_type": "execute_result",
          "data": {
            "text/plain": [
              "nan"
            ]
          },
          "metadata": {
            "tags": []
          },
          "execution_count": 50
        }
      ]
    },
    {
      "cell_type": "code",
      "metadata": {
        "colab": {
          "base_uri": "https://localhost:8080/"
        },
        "id": "VQFiWaL2TiGe",
        "outputId": "a68c5b60-f39f-49a7-c266-ce5a169eeff4"
      },
      "source": [
        "df_copy['Validation_F1_Score']"
      ],
      "execution_count": 52,
      "outputs": [
        {
          "output_type": "execute_result",
          "data": {
            "text/plain": [
              "Ex1_Nb1     NaN\n",
              "Ex2_Nb2     NaN\n",
              "Ex3_Nb3     NaN\n",
              "Ex4_Nb4     NaN\n",
              "Ex5_Nb5     NaN\n",
              "Ex6_Nb6     NaN\n",
              "Ex7_Nb7     NaN\n",
              "Ex8_Nb8     NaN\n",
              "Ex9_Nb9     NaN\n",
              "Ex10_Nb10   NaN\n",
              "Ex11_Nb11   NaN\n",
              "Ex12_Nb12   NaN\n",
              "Ex13_Nb13   NaN\n",
              "Ex14_Nb14   NaN\n",
              "Ex15_Nb15   NaN\n",
              "Ex16_Nb16   NaN\n",
              "Ex17_Nb17   NaN\n",
              "Ex18_Nb18   NaN\n",
              "Ex19_Nb19   NaN\n",
              "Ex20_Nb20   NaN\n",
              "Name: Validation_F1_Score, dtype: float64"
            ]
          },
          "metadata": {
            "tags": []
          },
          "execution_count": 52
        }
      ]
    },
    {
      "cell_type": "code",
      "metadata": {
        "colab": {
          "base_uri": "https://localhost:8080/"
        },
        "id": "AvOSPdha_Adc",
        "outputId": "79b5903c-7eea-459e-893d-63c59e29c885"
      },
      "source": [
        "df_copy['Validation_F1_Score'].mean()"
      ],
      "execution_count": 53,
      "outputs": [
        {
          "output_type": "execute_result",
          "data": {
            "text/plain": [
              "nan"
            ]
          },
          "metadata": {
            "tags": []
          },
          "execution_count": 53
        }
      ]
    },
    {
      "cell_type": "code",
      "metadata": {
        "colab": {
          "base_uri": "https://localhost:8080/"
        },
        "id": "moS3RJYtTnvK",
        "outputId": "79d47cb3-720c-4272-c66c-d37e35c3108f"
      },
      "source": [
        "df_copy['Test_Accuracy']"
      ],
      "execution_count": 54,
      "outputs": [
        {
          "output_type": "execute_result",
          "data": {
            "text/plain": [
              "Ex1_Nb1     NaN\n",
              "Ex2_Nb2     NaN\n",
              "Ex3_Nb3     NaN\n",
              "Ex4_Nb4     NaN\n",
              "Ex5_Nb5     NaN\n",
              "Ex6_Nb6     NaN\n",
              "Ex7_Nb7     NaN\n",
              "Ex8_Nb8     NaN\n",
              "Ex9_Nb9     NaN\n",
              "Ex10_Nb10   NaN\n",
              "Ex11_Nb11   NaN\n",
              "Ex12_Nb12   NaN\n",
              "Ex13_Nb13   NaN\n",
              "Ex14_Nb14   NaN\n",
              "Ex15_Nb15   NaN\n",
              "Ex16_Nb16   NaN\n",
              "Ex17_Nb17   NaN\n",
              "Ex18_Nb18   NaN\n",
              "Ex19_Nb19   NaN\n",
              "Ex20_Nb20   NaN\n",
              "Name: Test_Accuracy, dtype: float64"
            ]
          },
          "metadata": {
            "tags": []
          },
          "execution_count": 54
        }
      ]
    },
    {
      "cell_type": "code",
      "metadata": {
        "colab": {
          "base_uri": "https://localhost:8080/"
        },
        "id": "rgp4OPR1UMLI",
        "outputId": "fc0fe20a-6433-4783-e0d3-905b0fc93f32"
      },
      "source": [
        "df_copy['Test_F1_Score']"
      ],
      "execution_count": 55,
      "outputs": [
        {
          "output_type": "execute_result",
          "data": {
            "text/plain": [
              "Ex1_Nb1     NaN\n",
              "Ex2_Nb2     NaN\n",
              "Ex3_Nb3     NaN\n",
              "Ex4_Nb4     NaN\n",
              "Ex5_Nb5     NaN\n",
              "Ex6_Nb6     NaN\n",
              "Ex7_Nb7     NaN\n",
              "Ex8_Nb8     NaN\n",
              "Ex9_Nb9     NaN\n",
              "Ex10_Nb10   NaN\n",
              "Ex11_Nb11   NaN\n",
              "Ex12_Nb12   NaN\n",
              "Ex13_Nb13   NaN\n",
              "Ex14_Nb14   NaN\n",
              "Ex15_Nb15   NaN\n",
              "Ex16_Nb16   NaN\n",
              "Ex17_Nb17   NaN\n",
              "Ex18_Nb18   NaN\n",
              "Ex19_Nb19   NaN\n",
              "Ex20_Nb20   NaN\n",
              "Name: Test_F1_Score, dtype: float64"
            ]
          },
          "metadata": {
            "tags": []
          },
          "execution_count": 55
        }
      ]
    },
    {
      "cell_type": "code",
      "metadata": {
        "colab": {
          "base_uri": "https://localhost:8080/"
        },
        "id": "cMXq5NF0UUqe",
        "outputId": "251f8312-6ac1-4d38-bcb1-f73901cab9b5"
      },
      "source": [
        "df_copy['Delta_Between_Validation_And_Test']"
      ],
      "execution_count": 57,
      "outputs": [
        {
          "output_type": "execute_result",
          "data": {
            "text/plain": [
              "Ex1_Nb1      NaN\n",
              "Ex2_Nb2      NaN\n",
              "Ex3_Nb3      NaN\n",
              "Ex4_Nb4      NaN\n",
              "Ex5_Nb5      NaN\n",
              "Ex6_Nb6      NaN\n",
              "Ex7_Nb7      NaN\n",
              "Ex8_Nb8      NaN\n",
              "Ex9_Nb9      NaN\n",
              "Ex10_Nb10    NaN\n",
              "Ex11_Nb11    NaN\n",
              "Ex12_Nb12    NaN\n",
              "Ex13_Nb13    NaN\n",
              "Ex14_Nb14    NaN\n",
              "Ex15_Nb15    NaN\n",
              "Ex16_Nb16    NaN\n",
              "Ex17_Nb17    NaN\n",
              "Ex18_Nb18    NaN\n",
              "Ex19_Nb19    NaN\n",
              "Ex20_Nb20    NaN\n",
              "Name: Delta_Between_Validation_And_Test, dtype: object"
            ]
          },
          "metadata": {
            "tags": []
          },
          "execution_count": 57
        }
      ]
    },
    {
      "cell_type": "code",
      "metadata": {
        "colab": {
          "base_uri": "https://localhost:8080/"
        },
        "id": "T-KqLk3cUchk",
        "outputId": "824e2f54-2569-47f7-e0cf-e6bea6a17afa"
      },
      "source": [
        "df_copy['Memory']"
      ],
      "execution_count": 58,
      "outputs": [
        {
          "output_type": "execute_result",
          "data": {
            "text/plain": [
              "Ex1_Nb1      NaN\n",
              "Ex2_Nb2      NaN\n",
              "Ex3_Nb3      NaN\n",
              "Ex4_Nb4      NaN\n",
              "Ex5_Nb5      NaN\n",
              "Ex6_Nb6      NaN\n",
              "Ex7_Nb7      NaN\n",
              "Ex8_Nb8      NaN\n",
              "Ex9_Nb9      NaN\n",
              "Ex10_Nb10    NaN\n",
              "Ex11_Nb11    NaN\n",
              "Ex12_Nb12    NaN\n",
              "Ex13_Nb13    NaN\n",
              "Ex14_Nb14    NaN\n",
              "Ex15_Nb15    NaN\n",
              "Ex16_Nb16    NaN\n",
              "Ex17_Nb17    NaN\n",
              "Ex18_Nb18    NaN\n",
              "Ex19_Nb19    NaN\n",
              "Ex20_Nb20    NaN\n",
              "Name: Memory, dtype: object"
            ]
          },
          "metadata": {
            "tags": []
          },
          "execution_count": 58
        }
      ]
    },
    {
      "cell_type": "code",
      "metadata": {
        "colab": {
          "base_uri": "https://localhost:8080/"
        },
        "id": "t2RM1YC0VKMf",
        "outputId": "498eb613-3ef6-490f-ff29-2bf901d39cef"
      },
      "source": [
        "df_copy['Physical_Size'] #Physical size of data set in hard disk"
      ],
      "execution_count": 59,
      "outputs": [
        {
          "output_type": "execute_result",
          "data": {
            "text/plain": [
              "Ex1_Nb1          3.29\n",
              "Ex2_Nb2          3.29\n",
              "Ex3_Nb3      26830.00\n",
              "Ex4_Nb4        429.60\n",
              "Ex5_Nb5        429.60\n",
              "Ex6_Nb6           NaN\n",
              "Ex7_Nb7      33430.00\n",
              "Ex8_Nb8        583.50\n",
              "Ex9_Nb9        583.50\n",
              "Ex10_Nb10      309.21\n",
              "Ex11_Nb11      276.47\n",
              "Ex12_Nb12      276.47\n",
              "Ex13_Nb13      892.23\n",
              "Ex14_Nb14        2.04\n",
              "Ex15_Nb15     1260.00\n",
              "Ex16_Nb16     1260.00\n",
              "Ex17_Nb17    29100.00\n",
              "Ex18_Nb18      139.31\n",
              "Ex19_Nb19      139.31\n",
              "Ex20_Nb20     2500.00\n",
              "Name: Physical_Size, dtype: float64"
            ]
          },
          "metadata": {
            "tags": []
          },
          "execution_count": 59
        }
      ]
    },
    {
      "cell_type": "code",
      "metadata": {
        "colab": {
          "base_uri": "https://localhost:8080/"
        },
        "id": "0O9xrKELVXc3",
        "outputId": "59ce7650-6138-484c-bf5c-93600b54942c"
      },
      "source": [
        "df_copy['Physical_Size'].mean()"
      ],
      "execution_count": 60,
      "outputs": [
        {
          "output_type": "execute_result",
          "data": {
            "text/plain": [
              "5181.4642105263165"
            ]
          },
          "metadata": {
            "tags": []
          },
          "execution_count": 60
        }
      ]
    },
    {
      "cell_type": "code",
      "metadata": {
        "colab": {
          "base_uri": "https://localhost:8080/"
        },
        "id": "zhiC-viFWtke",
        "outputId": "7b459169-b19f-47fc-ede8-b68370692a3b"
      },
      "source": [
        "df_copy['Vote_Count']"
      ],
      "execution_count": 62,
      "outputs": [
        {
          "output_type": "execute_result",
          "data": {
            "text/plain": [
              "Ex1_Nb1       254\n",
              "Ex2_Nb2       245\n",
              "Ex3_Nb3       280\n",
              "Ex4_Nb4       765\n",
              "Ex5_Nb5       685\n",
              "Ex6_Nb6       991\n",
              "Ex7_Nb7       435\n",
              "Ex8_Nb8       280\n",
              "Ex9_Nb9       237\n",
              "Ex10_Nb10     206\n",
              "Ex11_Nb11     505\n",
              "Ex12_Nb12     316\n",
              "Ex13_Nb13     287\n",
              "Ex14_Nb14     756\n",
              "Ex15_Nb15    1044\n",
              "Ex16_Nb16     467\n",
              "Ex17_Nb17     169\n",
              "Ex18_Nb18     489\n",
              "Ex19_Nb19     208\n",
              "Ex20_Nb20     641\n",
              "Name: Vote_Count, dtype: int64"
            ]
          },
          "metadata": {
            "tags": []
          },
          "execution_count": 62
        }
      ]
    },
    {
      "cell_type": "code",
      "metadata": {
        "colab": {
          "base_uri": "https://localhost:8080/"
        },
        "id": "o_Hu6pQEW0SW",
        "outputId": "c4bb35dd-9bd3-48b2-b1de-c115bcf6fe4c"
      },
      "source": [
        "df_copy['Vote_Count'].mean()"
      ],
      "execution_count": 63,
      "outputs": [
        {
          "output_type": "execute_result",
          "data": {
            "text/plain": [
              "463.0"
            ]
          },
          "metadata": {
            "tags": []
          },
          "execution_count": 63
        }
      ]
    },
    {
      "cell_type": "code",
      "metadata": {
        "colab": {
          "base_uri": "https://localhost:8080/"
        },
        "id": "t6FzNPYXYHjd",
        "outputId": "86b80376-5ee3-4b33-eb52-a31e232937fc"
      },
      "source": [
        "df_copy['Last_Modified_Time'].value_counts() #Based on value counts, mean is 20.35 months"
      ],
      "execution_count": 66,
      "outputs": [
        {
          "output_type": "execute_result",
          "data": {
            "text/plain": [
              "12 months ago    6\n",
              "24 months ago    5\n",
              "36 months ago    4\n",
              "7 months ago     2\n",
              "4 months ago     1\n",
              "48 months ago    1\n",
              "5 months ago     1\n",
              "Name: Last_Modified_Time, dtype: int64"
            ]
          },
          "metadata": {
            "tags": []
          },
          "execution_count": 66
        }
      ]
    },
    {
      "cell_type": "code",
      "metadata": {
        "colab": {
          "base_uri": "https://localhost:8080/"
        },
        "id": "jaPLVFF7ZWMV",
        "outputId": "930eee40-69b1-41e3-d2c9-1d99189fc57c"
      },
      "source": [
        "df_copy['Number_Of_Experiments'] #This is for notebook level"
      ],
      "execution_count": 67,
      "outputs": [
        {
          "output_type": "execute_result",
          "data": {
            "text/plain": [
              "Ex1_Nb1      7\n",
              "Ex2_Nb2      5\n",
              "Ex3_Nb3      1\n",
              "Ex4_Nb4      1\n",
              "Ex5_Nb5      6\n",
              "Ex6_Nb6      1\n",
              "Ex7_Nb7      1\n",
              "Ex8_Nb8      1\n",
              "Ex9_Nb9      4\n",
              "Ex10_Nb10    1\n",
              "Ex11_Nb11    1\n",
              "Ex12_Nb12    1\n",
              "Ex13_Nb13    1\n",
              "Ex14_Nb14    5\n",
              "Ex15_Nb15    1\n",
              "Ex16_Nb16    1\n",
              "Ex17_Nb17    4\n",
              "Ex18_Nb18    1\n",
              "Ex19_Nb19    1\n",
              "Ex20_Nb20    1\n",
              "Name: Number_Of_Experiments, dtype: int64"
            ]
          },
          "metadata": {
            "tags": []
          },
          "execution_count": 67
        }
      ]
    },
    {
      "cell_type": "code",
      "metadata": {
        "colab": {
          "base_uri": "https://localhost:8080/"
        },
        "id": "x9QNmjCtZizd",
        "outputId": "defbad16-8ca3-46f0-bb87-6548c3b803da"
      },
      "source": [
        "df_copy['Number_Of_Experiments'].mean()"
      ],
      "execution_count": 68,
      "outputs": [
        {
          "output_type": "execute_result",
          "data": {
            "text/plain": [
              "2.25"
            ]
          },
          "metadata": {
            "tags": []
          },
          "execution_count": 68
        }
      ]
    },
    {
      "cell_type": "code",
      "metadata": {
        "id": "79HeQfVVf-dD",
        "colab": {
          "base_uri": "https://localhost:8080/"
        },
        "outputId": "a367e030-fa99-4432-8149-8a9763d2042c"
      },
      "source": [
        "df_copy['Train_Mean_Absolute_Error']"
      ],
      "execution_count": 71,
      "outputs": [
        {
          "output_type": "execute_result",
          "data": {
            "text/plain": [
              "Ex1_Nb1        NaN\n",
              "Ex2_Nb2        NaN\n",
              "Ex3_Nb3        NaN\n",
              "Ex4_Nb4        NaN\n",
              "Ex5_Nb5        NaN\n",
              "Ex6_Nb6        NaN\n",
              "Ex7_Nb7        NaN\n",
              "Ex8_Nb8        NaN\n",
              "Ex9_Nb9      65.84\n",
              "Ex10_Nb10      NaN\n",
              "Ex11_Nb11      NaN\n",
              "Ex12_Nb12      NaN\n",
              "Ex13_Nb13      NaN\n",
              "Ex14_Nb14      NaN\n",
              "Ex15_Nb15      NaN\n",
              "Ex16_Nb16      NaN\n",
              "Ex17_Nb17      NaN\n",
              "Ex18_Nb18      NaN\n",
              "Ex19_Nb19      NaN\n",
              "Ex20_Nb20      NaN\n",
              "Name: Train_Mean_Absolute_Error, dtype: object"
            ]
          },
          "metadata": {
            "tags": []
          },
          "execution_count": 71
        }
      ]
    },
    {
      "cell_type": "code",
      "metadata": {
        "colab": {
          "base_uri": "https://localhost:8080/",
          "height": 669
        },
        "id": "CQcRoV7mEzKf",
        "outputId": "f82ed0f5-5e8b-4a6a-dc88-44b6c1285760"
      },
      "source": [
        "df_copy['Train_Mean_Squared_Error']"
      ],
      "execution_count": 72,
      "outputs": [
        {
          "output_type": "execute_result",
          "data": {
            "text/html": [
              "<div>\n",
              "<style scoped>\n",
              "    .dataframe tbody tr th:only-of-type {\n",
              "        vertical-align: middle;\n",
              "    }\n",
              "\n",
              "    .dataframe tbody tr th {\n",
              "        vertical-align: top;\n",
              "    }\n",
              "\n",
              "    .dataframe thead th {\n",
              "        text-align: right;\n",
              "    }\n",
              "</style>\n",
              "<table border=\"1\" class=\"dataframe\">\n",
              "  <thead>\n",
              "    <tr style=\"text-align: right;\">\n",
              "      <th>Dimension</th>\n",
              "      <th>Train_Mean_Squared_Error</th>\n",
              "      <th>Train_Mean_Squared_Error</th>\n",
              "    </tr>\n",
              "  </thead>\n",
              "  <tbody>\n",
              "    <tr>\n",
              "      <th>Ex1_Nb1</th>\n",
              "      <td>NaN</td>\n",
              "      <td>NaN</td>\n",
              "    </tr>\n",
              "    <tr>\n",
              "      <th>Ex2_Nb2</th>\n",
              "      <td>NaN</td>\n",
              "      <td>NaN</td>\n",
              "    </tr>\n",
              "    <tr>\n",
              "      <th>Ex3_Nb3</th>\n",
              "      <td>NaN</td>\n",
              "      <td>NaN</td>\n",
              "    </tr>\n",
              "    <tr>\n",
              "      <th>Ex4_Nb4</th>\n",
              "      <td>NaN</td>\n",
              "      <td>NaN</td>\n",
              "    </tr>\n",
              "    <tr>\n",
              "      <th>Ex5_Nb5</th>\n",
              "      <td>NaN</td>\n",
              "      <td>NaN</td>\n",
              "    </tr>\n",
              "    <tr>\n",
              "      <th>Ex6_Nb6</th>\n",
              "      <td>NaN</td>\n",
              "      <td>NaN</td>\n",
              "    </tr>\n",
              "    <tr>\n",
              "      <th>Ex7_Nb7</th>\n",
              "      <td>NaN</td>\n",
              "      <td>NaN</td>\n",
              "    </tr>\n",
              "    <tr>\n",
              "      <th>Ex8_Nb8</th>\n",
              "      <td>NaN</td>\n",
              "      <td>NaN</td>\n",
              "    </tr>\n",
              "    <tr>\n",
              "      <th>Ex9_Nb9</th>\n",
              "      <td>65.84</td>\n",
              "      <td>81.51</td>\n",
              "    </tr>\n",
              "    <tr>\n",
              "      <th>Ex10_Nb10</th>\n",
              "      <td>NaN</td>\n",
              "      <td>NaN</td>\n",
              "    </tr>\n",
              "    <tr>\n",
              "      <th>Ex11_Nb11</th>\n",
              "      <td>NaN</td>\n",
              "      <td>NaN</td>\n",
              "    </tr>\n",
              "    <tr>\n",
              "      <th>Ex12_Nb12</th>\n",
              "      <td>NaN</td>\n",
              "      <td>NaN</td>\n",
              "    </tr>\n",
              "    <tr>\n",
              "      <th>Ex13_Nb13</th>\n",
              "      <td>NaN</td>\n",
              "      <td>NaN</td>\n",
              "    </tr>\n",
              "    <tr>\n",
              "      <th>Ex14_Nb14</th>\n",
              "      <td>NaN</td>\n",
              "      <td>NaN</td>\n",
              "    </tr>\n",
              "    <tr>\n",
              "      <th>Ex15_Nb15</th>\n",
              "      <td>NaN</td>\n",
              "      <td>NaN</td>\n",
              "    </tr>\n",
              "    <tr>\n",
              "      <th>Ex16_Nb16</th>\n",
              "      <td>NaN</td>\n",
              "      <td>NaN</td>\n",
              "    </tr>\n",
              "    <tr>\n",
              "      <th>Ex17_Nb17</th>\n",
              "      <td>NaN</td>\n",
              "      <td>NaN</td>\n",
              "    </tr>\n",
              "    <tr>\n",
              "      <th>Ex18_Nb18</th>\n",
              "      <td>NaN</td>\n",
              "      <td>NaN</td>\n",
              "    </tr>\n",
              "    <tr>\n",
              "      <th>Ex19_Nb19</th>\n",
              "      <td>NaN</td>\n",
              "      <td>NaN</td>\n",
              "    </tr>\n",
              "    <tr>\n",
              "      <th>Ex20_Nb20</th>\n",
              "      <td>NaN</td>\n",
              "      <td>NaN</td>\n",
              "    </tr>\n",
              "  </tbody>\n",
              "</table>\n",
              "</div>"
            ],
            "text/plain": [
              "Dimension Train_Mean_Squared_Error Train_Mean_Squared_Error\n",
              "Ex1_Nb1                        NaN                      NaN\n",
              "Ex2_Nb2                        NaN                      NaN\n",
              "Ex3_Nb3                        NaN                      NaN\n",
              "Ex4_Nb4                        NaN                      NaN\n",
              "Ex5_Nb5                        NaN                      NaN\n",
              "Ex6_Nb6                        NaN                      NaN\n",
              "Ex7_Nb7                        NaN                      NaN\n",
              "Ex8_Nb8                        NaN                      NaN\n",
              "Ex9_Nb9                      65.84                    81.51\n",
              "Ex10_Nb10                      NaN                      NaN\n",
              "Ex11_Nb11                      NaN                      NaN\n",
              "Ex12_Nb12                      NaN                      NaN\n",
              "Ex13_Nb13                      NaN                      NaN\n",
              "Ex14_Nb14                      NaN                      NaN\n",
              "Ex15_Nb15                      NaN                      NaN\n",
              "Ex16_Nb16                      NaN                      NaN\n",
              "Ex17_Nb17                      NaN                      NaN\n",
              "Ex18_Nb18                      NaN                      NaN\n",
              "Ex19_Nb19                      NaN                      NaN\n",
              "Ex20_Nb20                      NaN                      NaN"
            ]
          },
          "metadata": {
            "tags": []
          },
          "execution_count": 72
        }
      ]
    },
    {
      "cell_type": "code",
      "metadata": {
        "colab": {
          "base_uri": "https://localhost:8080/"
        },
        "id": "rIxuyDlZJcAL",
        "outputId": "e2228b80-564b-490b-aa1a-d605c82863fc"
      },
      "source": [
        "df_copy['Train_Root_Mean_Squared_Error']"
      ],
      "execution_count": 73,
      "outputs": [
        {
          "output_type": "execute_result",
          "data": {
            "text/plain": [
              "Ex1_Nb1          NaN\n",
              "Ex2_Nb2          NaN\n",
              "Ex3_Nb3          NaN\n",
              "Ex4_Nb4          NaN\n",
              "Ex5_Nb5          NaN\n",
              "Ex6_Nb6          NaN\n",
              "Ex7_Nb7          NaN\n",
              "Ex8_Nb8          NaN\n",
              "Ex9_Nb9          NaN\n",
              "Ex10_Nb10    5.47704\n",
              "Ex11_Nb11        NaN\n",
              "Ex12_Nb12        NaN\n",
              "Ex13_Nb13        NaN\n",
              "Ex14_Nb14        NaN\n",
              "Ex15_Nb15        NaN\n",
              "Ex16_Nb16        NaN\n",
              "Ex17_Nb17        NaN\n",
              "Ex18_Nb18        NaN\n",
              "Ex19_Nb19        NaN\n",
              "Ex20_Nb20        NaN\n",
              "Name: Train_Root_Mean_Squared_Error, dtype: object"
            ]
          },
          "metadata": {
            "tags": []
          },
          "execution_count": 73
        }
      ]
    },
    {
      "cell_type": "code",
      "metadata": {
        "colab": {
          "base_uri": "https://localhost:8080/"
        },
        "id": "3F24ky_1JnXv",
        "outputId": "225feea1-f055-4de1-ced4-627e02afee08"
      },
      "source": [
        "df_copy['Test_Root_Mean_Squared_Error']"
      ],
      "execution_count": 74,
      "outputs": [
        {
          "output_type": "execute_result",
          "data": {
            "text/plain": [
              "Ex1_Nb1            0.27\n",
              "Ex2_Nb2            0.99\n",
              "Ex3_Nb3             NaN\n",
              "Ex4_Nb4             NaN\n",
              "Ex5_Nb5             NaN\n",
              "Ex6_Nb6             NaN\n",
              "Ex7_Nb7             NaN\n",
              "Ex8_Nb8             NaN\n",
              "Ex9_Nb9             NaN\n",
              "Ex10_Nb10           NaN\n",
              "Ex11_Nb11           NaN\n",
              "Ex12_Nb12           NaN\n",
              "Ex13_Nb13           NaN\n",
              "Ex14_Nb14           NaN\n",
              "Ex15_Nb15           NaN\n",
              "Ex16_Nb16           NaN\n",
              "Ex17_Nb17    7746113.97\n",
              "Ex18_Nb18           NaN\n",
              "Ex19_Nb19           NaN\n",
              "Ex20_Nb20           NaN\n",
              "Name: Test_Root_Mean_Squared_Error, dtype: object"
            ]
          },
          "metadata": {
            "tags": []
          },
          "execution_count": 74
        }
      ]
    },
    {
      "cell_type": "code",
      "metadata": {
        "colab": {
          "base_uri": "https://localhost:8080/"
        },
        "id": "XKWxgCw8J9HB",
        "outputId": "2e7344e2-c434-403f-b85d-666fc0d68aae"
      },
      "source": [
        "df_copy['Test_Root_Mean_Sqaured_Error_Loss']"
      ],
      "execution_count": 77,
      "outputs": [
        {
          "output_type": "execute_result",
          "data": {
            "text/plain": [
              "Ex1_Nb1         NaN\n",
              "Ex2_Nb2         NaN\n",
              "Ex3_Nb3         NaN\n",
              "Ex4_Nb4         NaN\n",
              "Ex5_Nb5       0.243\n",
              "Ex6_Nb6         NaN\n",
              "Ex7_Nb7         NaN\n",
              "Ex8_Nb8         NaN\n",
              "Ex9_Nb9         NaN\n",
              "Ex10_Nb10       NaN\n",
              "Ex11_Nb11       NaN\n",
              "Ex12_Nb12       NaN\n",
              "Ex13_Nb13    0.1257\n",
              "Ex14_Nb14       NaN\n",
              "Ex15_Nb15       NaN\n",
              "Ex16_Nb16       NaN\n",
              "Ex17_Nb17       NaN\n",
              "Ex18_Nb18       NaN\n",
              "Ex19_Nb19       NaN\n",
              "Ex20_Nb20       NaN\n",
              "Name: Test_Root_Mean_Sqaured_Error_Loss, dtype: object"
            ]
          },
          "metadata": {
            "tags": []
          },
          "execution_count": 77
        }
      ]
    }
  ]
}