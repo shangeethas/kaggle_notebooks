{
  "nbformat": 4,
  "nbformat_minor": 0,
  "metadata": {
    "kernelspec": {
      "display_name": "Python 3",
      "language": "python",
      "name": "python3"
    },
    "language_info": {
      "codemirror_mode": {
        "name": "ipython",
        "version": 3
      },
      "file_extension": ".py",
      "mimetype": "text/x-python",
      "name": "python",
      "nbconvert_exporter": "python",
      "pygments_lexer": "ipython3",
      "version": "3.8.5"
    },
    "colab": {
      "name": "NLP_Notebooks_Analysis.ipynb",
      "provenance": []
    }
  },
  "cells": [
    {
      "cell_type": "code",
      "metadata": {
        "colab": {
          "base_uri": "https://localhost:8080/"
        },
        "id": "eBFtSs-Z8cnJ",
        "outputId": "62fd90e6-49c9-4416-a672-3412a31427d4"
      },
      "source": [
        "from google.colab import drive\n",
        "drive.mount('/content/gdrive')"
      ],
      "execution_count": null,
      "outputs": [
        {
          "output_type": "stream",
          "text": [
            "Mounted at /content/gdrive\n"
          ],
          "name": "stdout"
        }
      ]
    },
    {
      "cell_type": "markdown",
      "metadata": {
        "id": "Fewj95AqfIL1"
      },
      "source": [
        "## **NLP Experiments - Feature Engineering**"
      ]
    },
    {
      "cell_type": "code",
      "metadata": {
        "colab": {
          "base_uri": "https://localhost:8080/",
          "height": 411
        },
        "id": "t2BjpGoh3PkH",
        "outputId": "1500b73d-3a17-47df-e8c4-3e969f17ab52"
      },
      "source": [
        "import pandas as pd\n",
        "import numpy as np\n",
        "df= pd.read_csv('/content/gdrive/MyDrive/Colab Notebooks/NLP_Experiments_Feature_Engineering_Actual_Values.csv', encoding='ISO-8859-1')\n",
        "df.head()"
      ],
      "execution_count": null,
      "outputs": [
        {
          "output_type": "execute_result",
          "data": {
            "text/html": [
              "<div>\n",
              "<style scoped>\n",
              "    .dataframe tbody tr th:only-of-type {\n",
              "        vertical-align: middle;\n",
              "    }\n",
              "\n",
              "    .dataframe tbody tr th {\n",
              "        vertical-align: top;\n",
              "    }\n",
              "\n",
              "    .dataframe thead th {\n",
              "        text-align: right;\n",
              "    }\n",
              "</style>\n",
              "<table border=\"1\" class=\"dataframe\">\n",
              "  <thead>\n",
              "    <tr style=\"text-align: right;\">\n",
              "      <th></th>\n",
              "      <th>Property</th>\n",
              "      <th>Dimension</th>\n",
              "      <th>Ex1_Nb4</th>\n",
              "      <th>Ex2_Nb42</th>\n",
              "      <th>Ex3_Nb45</th>\n",
              "      <th>Ex4_Nb46</th>\n",
              "      <th>Ex5_Nb8</th>\n",
              "      <th>Ex6_Nb12</th>\n",
              "      <th>Ex7_Nb20</th>\n",
              "      <th>Ex8_Nb48</th>\n",
              "      <th>Ex9_Nb49</th>\n",
              "      <th>Ex10_Nb9</th>\n",
              "      <th>Ex11_Nb10</th>\n",
              "      <th>Ex12_Nb30</th>\n",
              "      <th>Ex13_Nb32</th>\n",
              "      <th>Ex14_Nb34</th>\n",
              "      <th>Ex15_Nb41</th>\n",
              "      <th>Ex16_Nb13</th>\n",
              "      <th>Ex17_Nb19</th>\n",
              "      <th>Ex18_Nb21</th>\n",
              "      <th>Ex19_Nb26</th>\n",
              "      <th>Ex20_Nb29</th>\n",
              "    </tr>\n",
              "  </thead>\n",
              "  <tbody>\n",
              "    <tr>\n",
              "      <th>0</th>\n",
              "      <td>Construction</td>\n",
              "      <td>Word Embedding - Glove/FastText/Paragram/Word2Vec</td>\n",
              "      <td>Glove, FastText, Paragram</td>\n",
              "      <td>FastText</td>\n",
              "      <td>Glove, FastText, Paragram</td>\n",
              "      <td>NaN</td>\n",
              "      <td>Glove, FastText, Paragram</td>\n",
              "      <td>Glove, Paragram</td>\n",
              "      <td>Glove</td>\n",
              "      <td>NaN</td>\n",
              "      <td>Glove, FastText, Paragram</td>\n",
              "      <td>Glove, Paragram</td>\n",
              "      <td>Glove</td>\n",
              "      <td>Glove</td>\n",
              "      <td>FastText</td>\n",
              "      <td>NaN</td>\n",
              "      <td>Glove</td>\n",
              "      <td>Glove, Paragram</td>\n",
              "      <td>NaN</td>\n",
              "      <td>Glove</td>\n",
              "      <td>NaN</td>\n",
              "      <td>NaN</td>\n",
              "    </tr>\n",
              "    <tr>\n",
              "      <th>1</th>\n",
              "      <td>Construction</td>\n",
              "      <td>Data cleaning steps</td>\n",
              "      <td>Filling NaN/Null Values</td>\n",
              "      <td>Create Trigrams, Stop Words Removal, Padding S...</td>\n",
              "      <td>Correcting Spellings, Replacing Punctuations, ...</td>\n",
              "      <td>Filling NaN/Null Values, Padding Sequences</td>\n",
              "      <td>Filling NaN/Null Values</td>\n",
              "      <td>NaN</td>\n",
              "      <td>NaN</td>\n",
              "      <td>Expand Contractions, Correcting Spellings, Rep...</td>\n",
              "      <td>Replacing Punctuations, Padding Sequences</td>\n",
              "      <td>Filling NaN/Null Values, Replacing Punctuations</td>\n",
              "      <td>NaN</td>\n",
              "      <td>NaN</td>\n",
              "      <td>NaN</td>\n",
              "      <td>NaN</td>\n",
              "      <td>Filling NaN/Null Values</td>\n",
              "      <td>Replacing Punctuations, Replacing Numbers, Cor...</td>\n",
              "      <td>NaN</td>\n",
              "      <td>Replacing Punctuations, Replacing Numbers, Cor...</td>\n",
              "      <td>NaN</td>\n",
              "      <td>Filling NaN/Null Values, Cleaning Special Char...</td>\n",
              "    </tr>\n",
              "    <tr>\n",
              "      <th>2</th>\n",
              "      <td>Construction</td>\n",
              "      <td>Training Time (1st epoch in seconds)</td>\n",
              "      <td>NaN</td>\n",
              "      <td>72</td>\n",
              "      <td>248</td>\n",
              "      <td>146</td>\n",
              "      <td>NaN</td>\n",
              "      <td>275</td>\n",
              "      <td>2470</td>\n",
              "      <td>240</td>\n",
              "      <td>NaN</td>\n",
              "      <td>206</td>\n",
              "      <td>55</td>\n",
              "      <td>92</td>\n",
              "      <td>138</td>\n",
              "      <td>NaN</td>\n",
              "      <td>3121</td>\n",
              "      <td>141</td>\n",
              "      <td>1731</td>\n",
              "      <td>1475</td>\n",
              "      <td>591</td>\n",
              "      <td>NaN</td>\n",
              "    </tr>\n",
              "    <tr>\n",
              "      <th>3</th>\n",
              "      <td>Construction</td>\n",
              "      <td>Evaluation Metrics (Train) - Accuracy at last ...</td>\n",
              "      <td>NaN</td>\n",
              "      <td>0.8734</td>\n",
              "      <td>NaN</td>\n",
              "      <td>0.9506</td>\n",
              "      <td>NaN</td>\n",
              "      <td>NaN</td>\n",
              "      <td>0.976</td>\n",
              "      <td>NaN</td>\n",
              "      <td>NaN</td>\n",
              "      <td>NaN</td>\n",
              "      <td>0.9612</td>\n",
              "      <td>0.9478</td>\n",
              "      <td>0.9642</td>\n",
              "      <td>NaN</td>\n",
              "      <td>0.9829</td>\n",
              "      <td>NaN</td>\n",
              "      <td>0.9832</td>\n",
              "      <td>0.9792</td>\n",
              "      <td>NaN</td>\n",
              "      <td>NaN</td>\n",
              "    </tr>\n",
              "    <tr>\n",
              "      <th>4</th>\n",
              "      <td>Construction</td>\n",
              "      <td>Evaluation Metrics (Train) - F1 Score At thres...</td>\n",
              "      <td>0.6569</td>\n",
              "      <td>NaN</td>\n",
              "      <td>NaN</td>\n",
              "      <td>NaN</td>\n",
              "      <td>NaN</td>\n",
              "      <td>NaN</td>\n",
              "      <td>NaN</td>\n",
              "      <td>NaN</td>\n",
              "      <td>NaN</td>\n",
              "      <td>NaN</td>\n",
              "      <td>NaN</td>\n",
              "      <td>NaN</td>\n",
              "      <td>NaN</td>\n",
              "      <td>NaN</td>\n",
              "      <td>NaN</td>\n",
              "      <td>NaN</td>\n",
              "      <td>NaN</td>\n",
              "      <td>NaN</td>\n",
              "      <td>NaN</td>\n",
              "      <td>NaN</td>\n",
              "    </tr>\n",
              "  </tbody>\n",
              "</table>\n",
              "</div>"
            ],
            "text/plain": [
              "       Property  ...                                          Ex20_Nb29\n",
              "0  Construction  ...                                                NaN\n",
              "1  Construction  ...  Filling NaN/Null Values, Cleaning Special Char...\n",
              "2  Construction  ...                                                NaN\n",
              "3  Construction  ...                                                NaN\n",
              "4  Construction  ...                                                NaN\n",
              "\n",
              "[5 rows x 22 columns]"
            ]
          },
          "metadata": {
            "tags": []
          },
          "execution_count": 2
        }
      ]
    },
    {
      "cell_type": "code",
      "metadata": {
        "colab": {
          "base_uri": "https://localhost:8080/"
        },
        "id": "D5ERfRUe3PkP",
        "outputId": "387a7a42-a1c0-4125-b251-df40c5ac0865"
      },
      "source": [
        "#Calculating sparseness of experiment data\n",
        "df.isnull().sum()/len(df)*100"
      ],
      "execution_count": null,
      "outputs": [
        {
          "output_type": "execute_result",
          "data": {
            "text/plain": [
              "Property      0.000000\n",
              "Dimension     0.000000\n",
              "Ex1_Nb4      42.105263\n",
              "Ex2_Nb42     31.578947\n",
              "Ex3_Nb45     42.105263\n",
              "Ex4_Nb46     36.842105\n",
              "Ex5_Nb8      36.842105\n",
              "Ex6_Nb12     47.368421\n",
              "Ex7_Nb20     36.842105\n",
              "Ex8_Nb48     47.368421\n",
              "Ex9_Nb49     36.842105\n",
              "Ex10_Nb9     42.105263\n",
              "Ex11_Nb10    36.842105\n",
              "Ex12_Nb30    36.842105\n",
              "Ex13_Nb32    36.842105\n",
              "Ex14_Nb34    57.894737\n",
              "Ex15_Nb41    31.578947\n",
              "Ex16_Nb13    42.105263\n",
              "Ex17_Nb19    47.368421\n",
              "Ex18_Nb21    31.578947\n",
              "Ex19_Nb26    52.631579\n",
              "Ex20_Nb29    52.631579\n",
              "dtype: float64"
            ]
          },
          "metadata": {
            "tags": []
          },
          "execution_count": 3
        }
      ]
    },
    {
      "cell_type": "code",
      "metadata": {
        "colab": {
          "base_uri": "https://localhost:8080/"
        },
        "id": "qkUhYAEm3PkQ",
        "outputId": "58962882-0ad5-44ab-f3a5-05a914d8430b"
      },
      "source": [
        "for col in df.columns:\n",
        "    print(col)"
      ],
      "execution_count": null,
      "outputs": [
        {
          "output_type": "stream",
          "text": [
            "Property\n",
            "Dimension\n",
            "Ex1_Nb4\n",
            "Ex2_Nb42\n",
            "Ex3_Nb45\n",
            "Ex4_Nb46\n",
            "Ex5_Nb8\n",
            "Ex6_Nb12\n",
            "Ex7_Nb20\n",
            "Ex8_Nb48\n",
            "Ex9_Nb49\n",
            "Ex10_Nb9\n",
            "Ex11_Nb10\n",
            "Ex12_Nb30\n",
            "Ex13_Nb32\n",
            "Ex14_Nb34\n",
            "Ex15_Nb41\n",
            "Ex16_Nb13\n",
            "Ex17_Nb19\n",
            "Ex18_Nb21\n",
            "Ex19_Nb26\n",
            "Ex20_Nb29\n"
          ],
          "name": "stdout"
        }
      ]
    },
    {
      "cell_type": "code",
      "metadata": {
        "colab": {
          "base_uri": "https://localhost:8080/",
          "height": 598
        },
        "id": "uSgD8jeE3PkQ",
        "outputId": "d40fccd7-ecee-4d70-9c39-1b39fbb7057e"
      },
      "source": [
        "df_dropped_property = df.drop(columns=\"Property\")\n",
        "df_dropped_property = df_dropped_property.set_index(\"Dimension\")\n",
        "df_transposed = df_dropped_property.T\n",
        "df_transposed.head()"
      ],
      "execution_count": null,
      "outputs": [
        {
          "output_type": "execute_result",
          "data": {
            "text/html": [
              "<div>\n",
              "<style scoped>\n",
              "    .dataframe tbody tr th:only-of-type {\n",
              "        vertical-align: middle;\n",
              "    }\n",
              "\n",
              "    .dataframe tbody tr th {\n",
              "        vertical-align: top;\n",
              "    }\n",
              "\n",
              "    .dataframe thead th {\n",
              "        text-align: right;\n",
              "    }\n",
              "</style>\n",
              "<table border=\"1\" class=\"dataframe\">\n",
              "  <thead>\n",
              "    <tr style=\"text-align: right;\">\n",
              "      <th>Dimension</th>\n",
              "      <th>Word Embedding - Glove/FastText/Paragram/Word2Vec</th>\n",
              "      <th>Data cleaning steps</th>\n",
              "      <th>Training Time (1st epoch in seconds)</th>\n",
              "      <th>Evaluation Metrics (Train) - Accuracy at last epoch of last batch</th>\n",
              "      <th>Evaluation Metrics (Train) - F1 Score At threshold level 0.5</th>\n",
              "      <th>Evaluation Metrics (Validation) - Accuracy at last epoch of last batch</th>\n",
              "      <th>Evaluation Metrics (Validation) - F1 Score At threshold level 0.5</th>\n",
              "      <th>Evaluation Metrics (Test) - Accuracy at last epoch of last batch</th>\n",
              "      <th>Evaluation Metrics (Test) - F1 Score At threshold level 0.5</th>\n",
              "      <th>Delta between Validation and Test</th>\n",
              "      <th>Memory</th>\n",
              "      <th>Processing Unit (CPU/GPU/TPU)</th>\n",
              "      <th>Actual Size in Disk (GB)</th>\n",
              "      <th>Length</th>\n",
              "      <th>Type</th>\n",
              "      <th>Popularity - Number of Votes</th>\n",
              "      <th>Source</th>\n",
              "      <th>Last Modified Time</th>\n",
              "      <th>Number of Experiments</th>\n",
              "    </tr>\n",
              "  </thead>\n",
              "  <tbody>\n",
              "    <tr>\n",
              "      <th>Ex1_Nb4</th>\n",
              "      <td>Glove, FastText, Paragram</td>\n",
              "      <td>Filling NaN/Null Values</td>\n",
              "      <td>NaN</td>\n",
              "      <td>NaN</td>\n",
              "      <td>0.6569</td>\n",
              "      <td>NaN</td>\n",
              "      <td>NaN</td>\n",
              "      <td>NaN</td>\n",
              "      <td>NaN</td>\n",
              "      <td>NaN</td>\n",
              "      <td>NaN</td>\n",
              "      <td>GPU</td>\n",
              "      <td>6.11</td>\n",
              "      <td>Long Text</td>\n",
              "      <td>Text</td>\n",
              "      <td>1029</td>\n",
              "      <td>Kaggle</td>\n",
              "      <td>2 years ago</td>\n",
              "      <td>5</td>\n",
              "    </tr>\n",
              "    <tr>\n",
              "      <th>Ex2_Nb42</th>\n",
              "      <td>FastText</td>\n",
              "      <td>Create Trigrams, Stop Words Removal, Padding S...</td>\n",
              "      <td>72</td>\n",
              "      <td>0.8734</td>\n",
              "      <td>NaN</td>\n",
              "      <td>0.8618</td>\n",
              "      <td>NaN</td>\n",
              "      <td>NaN</td>\n",
              "      <td>NaN</td>\n",
              "      <td>NaN</td>\n",
              "      <td>NaN</td>\n",
              "      <td>GPU</td>\n",
              "      <td>4.45</td>\n",
              "      <td>Long Text</td>\n",
              "      <td>Text</td>\n",
              "      <td>218</td>\n",
              "      <td>Kaggle</td>\n",
              "      <td>2 years ago</td>\n",
              "      <td>5</td>\n",
              "    </tr>\n",
              "    <tr>\n",
              "      <th>Ex3_Nb45</th>\n",
              "      <td>Glove, FastText, Paragram</td>\n",
              "      <td>Correcting Spellings, Replacing Punctuations, ...</td>\n",
              "      <td>248</td>\n",
              "      <td>NaN</td>\n",
              "      <td>NaN</td>\n",
              "      <td>NaN</td>\n",
              "      <td>NaN</td>\n",
              "      <td>NaN</td>\n",
              "      <td>NaN</td>\n",
              "      <td>NaN</td>\n",
              "      <td>NaN</td>\n",
              "      <td>GPU</td>\n",
              "      <td>6.11</td>\n",
              "      <td>Long Text</td>\n",
              "      <td>Text</td>\n",
              "      <td>190</td>\n",
              "      <td>Kaggle</td>\n",
              "      <td>2 years ago</td>\n",
              "      <td>1</td>\n",
              "    </tr>\n",
              "    <tr>\n",
              "      <th>Ex4_Nb46</th>\n",
              "      <td>NaN</td>\n",
              "      <td>Filling NaN/Null Values, Padding Sequences</td>\n",
              "      <td>146</td>\n",
              "      <td>0.9506</td>\n",
              "      <td>NaN</td>\n",
              "      <td>0.9528</td>\n",
              "      <td>NaN</td>\n",
              "      <td>NaN</td>\n",
              "      <td>NaN</td>\n",
              "      <td>NaN</td>\n",
              "      <td>NaN</td>\n",
              "      <td>GPU</td>\n",
              "      <td>6.11</td>\n",
              "      <td>Long Text</td>\n",
              "      <td>Text</td>\n",
              "      <td>182</td>\n",
              "      <td>Kaggle</td>\n",
              "      <td>3 years ago</td>\n",
              "      <td>4</td>\n",
              "    </tr>\n",
              "    <tr>\n",
              "      <th>Ex5_Nb8</th>\n",
              "      <td>Glove, FastText, Paragram</td>\n",
              "      <td>Filling NaN/Null Values</td>\n",
              "      <td>NaN</td>\n",
              "      <td>NaN</td>\n",
              "      <td>NaN</td>\n",
              "      <td>NaN</td>\n",
              "      <td>0.6745</td>\n",
              "      <td>NaN</td>\n",
              "      <td>0.6539</td>\n",
              "      <td>NaN</td>\n",
              "      <td>NaN</td>\n",
              "      <td>GPU</td>\n",
              "      <td>6.11</td>\n",
              "      <td>Long Text</td>\n",
              "      <td>Text</td>\n",
              "      <td>412</td>\n",
              "      <td>Kaggle</td>\n",
              "      <td>2 years ago</td>\n",
              "      <td>1</td>\n",
              "    </tr>\n",
              "  </tbody>\n",
              "</table>\n",
              "</div>"
            ],
            "text/plain": [
              "Dimension Word Embedding - Glove/FastText/Paragram/Word2Vec  ... Number of Experiments\n",
              "Ex1_Nb4                           Glove, FastText, Paragram  ...                     5\n",
              "Ex2_Nb42                                           FastText  ...                     5\n",
              "Ex3_Nb45                          Glove, FastText, Paragram  ...                     1\n",
              "Ex4_Nb46                                                NaN  ...                     4\n",
              "Ex5_Nb8                           Glove, FastText, Paragram  ...                     1\n",
              "\n",
              "[5 rows x 19 columns]"
            ]
          },
          "metadata": {
            "tags": []
          },
          "execution_count": 5
        }
      ]
    },
    {
      "cell_type": "code",
      "metadata": {
        "id": "uZmXrzSZ41ND"
      },
      "source": [
        "df_transposed.columns = ['Word_Embedding', 'Data_Cleaning_Steps', 'Training_Time',\n",
        "       'Train_Accuracy', 'Train_F1_Score', 'Validation_Accuracy',\n",
        "       'Validation_F1_Score', 'Test_Accuracy', 'Test_F1_Score',\n",
        "       'Delta_Between_Validation_Test', 'Memory', 'Processing_Unit',\n",
        "       'Physical_Size', 'Length', 'Type', 'Vote_Count', 'Source',\n",
        "       'Last_Modified_Time', 'Number_Of_Experiments']"
      ],
      "execution_count": null,
      "outputs": []
    },
    {
      "cell_type": "code",
      "metadata": {
        "colab": {
          "base_uri": "https://localhost:8080/"
        },
        "id": "7f4cBt3lh96E",
        "outputId": "d64da9c0-8c3b-4d5c-ec92-b69bc14250e5"
      },
      "source": [
        "df_transposed.dtypes"
      ],
      "execution_count": null,
      "outputs": [
        {
          "output_type": "execute_result",
          "data": {
            "text/plain": [
              "Word_Embedding                   object\n",
              "Data_Cleaning_Steps              object\n",
              "Training_Time                    object\n",
              "Train_Accuracy                   object\n",
              "Train_F1_Score                   object\n",
              "Validation_Accuracy              object\n",
              "Validation_F1_Score              object\n",
              "Test_Accuracy                    object\n",
              "Test_F1_Score                    object\n",
              "Delta_Between_Validation_Test    object\n",
              "Memory                           object\n",
              "Processing_Unit                  object\n",
              "Physical_Size                    object\n",
              "Length                           object\n",
              "Type                             object\n",
              "Vote_Count                       object\n",
              "Source                           object\n",
              "Last_Modified_Time               object\n",
              "Number_Of_Experiments            object\n",
              "dtype: object"
            ]
          },
          "metadata": {
            "tags": []
          },
          "execution_count": 8
        }
      ]
    },
    {
      "cell_type": "code",
      "metadata": {
        "colab": {
          "base_uri": "https://localhost:8080/"
        },
        "id": "zA4miR778uAx",
        "outputId": "266bf4ab-72ce-47c4-b0c4-d177778850b9"
      },
      "source": [
        "df_transposed.describe\n",
        "df_transposed.head\n",
        "df_transposed.columns"
      ],
      "execution_count": null,
      "outputs": [
        {
          "output_type": "execute_result",
          "data": {
            "text/plain": [
              "Index(['Word_Embedding', 'Data_Cleaning_Steps', 'Training_Time',\n",
              "       'Train_Accuracy', 'Train_F1_Score', 'Validation_Accuracy',\n",
              "       'Validation_F1_Score', 'Test_Accuracy', 'Test_F1_Score',\n",
              "       'Delta_Between_Validation_Test', 'Memory', 'Processing_Unit',\n",
              "       'Physical_Size', 'Length', 'Type', 'Vote_Count', 'Source',\n",
              "       'Last_Modified_Time', 'Number_Of_Experiments'],\n",
              "      dtype='object')"
            ]
          },
          "metadata": {
            "tags": []
          },
          "execution_count": 9
        }
      ]
    },
    {
      "cell_type": "code",
      "metadata": {
        "id": "GmqXxAcTiU5t"
      },
      "source": [
        "df_transposed[\"Training_Time\"] = pd.to_numeric(df_transposed[\"Training_Time\"], errors='coerce');\n",
        "df_transposed[\"Train_Accuracy\"] = pd.to_numeric(df_transposed[\"Train_Accuracy\"], errors='coerce');\n",
        "df_transposed[\"Train_F1_Score\"] = pd.to_numeric(df_transposed[\"Train_F1_Score\"], errors='coerce');\n",
        "df_transposed[\"Validation_Accuracy\"] = pd.to_numeric(df_transposed[\"Validation_Accuracy\"], errors='coerce');\n",
        "df_transposed[\"Validation_F1_Score\"] = pd.to_numeric(df_transposed[\"Validation_F1_Score\"], errors='coerce');\n",
        "df_transposed[\"Test_Accuracy\"] = pd.to_numeric(df_transposed[\"Test_Accuracy\"], errors='coerce');\n",
        "df_transposed[\"Test_F1_Score\"] = pd.to_numeric(df_transposed[\"Test_F1_Score\"], errors='coerce');\n",
        "df_transposed[\"Physical_Size\"] = pd.to_numeric(df_transposed[\"Physical_Size\"], errors='coerce');\n",
        "df_transposed[\"Vote_Count\"] = pd.to_numeric(df_transposed[\"Vote_Count\"], errors='coerce');\n",
        "df_transposed[\"Number_Of_Experiments\"] = pd.to_numeric(df_transposed[\"Number_Of_Experiments\"], errors='coerce');"
      ],
      "execution_count": null,
      "outputs": []
    },
    {
      "cell_type": "code",
      "metadata": {
        "colab": {
          "base_uri": "https://localhost:8080/"
        },
        "id": "qT2SOM_T3PkR",
        "outputId": "eaad0e68-73b9-48be-b7b9-b2c733502c24"
      },
      "source": [
        "pd.to_numeric(df_transposed[\"Training_Time\"])"
      ],
      "execution_count": null,
      "outputs": [
        {
          "output_type": "execute_result",
          "data": {
            "text/plain": [
              "Ex1_Nb4         NaN\n",
              "Ex2_Nb42       72.0\n",
              "Ex3_Nb45      248.0\n",
              "Ex4_Nb46      146.0\n",
              "Ex5_Nb8         NaN\n",
              "Ex6_Nb12      275.0\n",
              "Ex7_Nb20     2470.0\n",
              "Ex8_Nb48      240.0\n",
              "Ex9_Nb49        NaN\n",
              "Ex10_Nb9      206.0\n",
              "Ex11_Nb10      55.0\n",
              "Ex12_Nb30      92.0\n",
              "Ex13_Nb32     138.0\n",
              "Ex14_Nb34       NaN\n",
              "Ex15_Nb41    3121.0\n",
              "Ex16_Nb13     141.0\n",
              "Ex17_Nb19    1731.0\n",
              "Ex18_Nb21    1475.0\n",
              "Ex19_Nb26     591.0\n",
              "Ex20_Nb29       NaN\n",
              "Name: Training_Time, dtype: float64"
            ]
          },
          "metadata": {
            "tags": []
          },
          "execution_count": 11
        }
      ]
    },
    {
      "cell_type": "code",
      "metadata": {
        "colab": {
          "base_uri": "https://localhost:8080/"
        },
        "id": "6Briwfa53PkR",
        "outputId": "fcb22bf3-db17-4999-91b9-b6dca333e4b4"
      },
      "source": [
        "res = df_transposed[\"Training_Time\"]\n",
        "res"
      ],
      "execution_count": null,
      "outputs": [
        {
          "output_type": "execute_result",
          "data": {
            "text/plain": [
              "Ex1_Nb4         NaN\n",
              "Ex2_Nb42       72.0\n",
              "Ex3_Nb45      248.0\n",
              "Ex4_Nb46      146.0\n",
              "Ex5_Nb8         NaN\n",
              "Ex6_Nb12      275.0\n",
              "Ex7_Nb20     2470.0\n",
              "Ex8_Nb48      240.0\n",
              "Ex9_Nb49        NaN\n",
              "Ex10_Nb9      206.0\n",
              "Ex11_Nb10      55.0\n",
              "Ex12_Nb30      92.0\n",
              "Ex13_Nb32     138.0\n",
              "Ex14_Nb34       NaN\n",
              "Ex15_Nb41    3121.0\n",
              "Ex16_Nb13     141.0\n",
              "Ex17_Nb19    1731.0\n",
              "Ex18_Nb21    1475.0\n",
              "Ex19_Nb26     591.0\n",
              "Ex20_Nb29       NaN\n",
              "Name: Training_Time, dtype: float64"
            ]
          },
          "metadata": {
            "tags": []
          },
          "execution_count": 12
        }
      ]
    },
    {
      "cell_type": "code",
      "metadata": {
        "colab": {
          "base_uri": "https://localhost:8080/"
        },
        "id": "YyzqzIq95j9T",
        "outputId": "53fa12dd-7a27-48c0-f004-4b841386e074"
      },
      "source": [
        "print(\"Median of Training Time\", res.median())\n",
        "print(\"Max of Training Time\", res.max())\n",
        "print(\"Min of Training Time\", res.min())"
      ],
      "execution_count": null,
      "outputs": [
        {
          "output_type": "stream",
          "text": [
            "Median of Training Time 240.0\n",
            "Max of Training Time 3121.0\n",
            "Min of Training Time 55.0\n"
          ],
          "name": "stdout"
        }
      ]
    },
    {
      "cell_type": "code",
      "metadata": {
        "colab": {
          "base_uri": "https://localhost:8080/"
        },
        "id": "VK5FF2kEDzBL",
        "outputId": "1be8c502-81eb-4841-b1aa-ed4fc50e5ec4"
      },
      "source": [
        "#MinMax Scaling\n",
        "import numpy as np\n",
        " \n",
        "x = np.arange(start=0, stop=df_transposed[\"Training_Time\"].size, step=1)\n",
        "print(x)\n",
        "\n",
        "for i in x:\n",
        "  y = df_transposed[\"Training_Time\"][i]\n",
        "  print(\"i is \", i)\n",
        "  print(\"y is \", y)\n",
        "  y_std = (y - res.min())/(res.max() - res.min())\n",
        "  y_scaled = y_std * (2 - (-2)) + (-2)  #latest scale is max = 2 and min (-2)\n",
        "  print(\"rank is \", y_scaled)"
      ],
      "execution_count": null,
      "outputs": [
        {
          "output_type": "stream",
          "text": [
            "[ 0  1  2  3  4  5  6  7  8  9 10 11 12 13 14 15 16 17 18 19]\n",
            "i is  0\n",
            "y is  nan\n",
            "rank is  nan\n",
            "i is  1\n",
            "y is  72.0\n",
            "rank is  -1.9778212654924983\n",
            "i is  2\n",
            "y is  248.0\n",
            "rank is  -1.7482061317677755\n",
            "i is  3\n",
            "y is  146.0\n",
            "rank is  -1.8812785388127855\n",
            "i is  4\n",
            "y is  nan\n",
            "rank is  nan\n",
            "i is  5\n",
            "y is  275.0\n",
            "rank is  -1.7129810828440966\n",
            "i is  6\n",
            "y is  2470.0\n",
            "rank is  1.1506849315068495\n",
            "i is  7\n",
            "y is  240.0\n",
            "rank is  -1.7586431833007174\n",
            "i is  8\n",
            "y is  nan\n",
            "rank is  nan\n",
            "i is  9\n",
            "y is  206.0\n",
            "rank is  -1.803000652315721\n",
            "i is  10\n",
            "y is  55.0\n",
            "rank is  -2.0\n",
            "i is  11\n",
            "y is  92.0\n",
            "rank is  -1.9517286366601434\n",
            "i is  12\n",
            "y is  138.0\n",
            "rank is  -1.8917155903457274\n",
            "i is  13\n",
            "y is  nan\n",
            "rank is  nan\n",
            "i is  14\n",
            "y is  3121.0\n",
            "rank is  2.0\n",
            "i is  15\n",
            "y is  141.0\n",
            "rank is  -1.887801696020874\n",
            "i is  16\n",
            "y is  1731.0\n",
            "rank is  0.18656229615133713\n",
            "i is  17\n",
            "y is  1475.0\n",
            "rank is  -0.14742335290280506\n",
            "i is  18\n",
            "y is  591.0\n",
            "rank is  -1.3007175472928898\n",
            "i is  19\n",
            "y is  nan\n",
            "rank is  nan\n"
          ],
          "name": "stdout"
        }
      ]
    },
    {
      "cell_type": "code",
      "metadata": {
        "id": "bCzzeLXMk4XQ"
      },
      "source": [
        "#X_std = (X - X.min(axis=0)) / (X.max(axis=0) - X.min(axis=0))\n",
        "#X_scaled = X_std * (max - min) + min"
      ],
      "execution_count": null,
      "outputs": []
    },
    {
      "cell_type": "code",
      "metadata": {
        "colab": {
          "base_uri": "https://localhost:8080/"
        },
        "id": "v3qw6EpzDNpe",
        "outputId": "695db484-414a-4c0e-dda2-8e618e8c0674"
      },
      "source": [
        "df_transposed[\"Train_Accuracy\"]"
      ],
      "execution_count": null,
      "outputs": [
        {
          "output_type": "execute_result",
          "data": {
            "text/plain": [
              "Ex1_Nb4         NaN\n",
              "Ex2_Nb42     0.8734\n",
              "Ex3_Nb45        NaN\n",
              "Ex4_Nb46     0.9506\n",
              "Ex5_Nb8         NaN\n",
              "Ex6_Nb12        NaN\n",
              "Ex7_Nb20     0.9760\n",
              "Ex8_Nb48        NaN\n",
              "Ex9_Nb49        NaN\n",
              "Ex10_Nb9        NaN\n",
              "Ex11_Nb10    0.9612\n",
              "Ex12_Nb30    0.9478\n",
              "Ex13_Nb32    0.9642\n",
              "Ex14_Nb34       NaN\n",
              "Ex15_Nb41    0.9829\n",
              "Ex16_Nb13       NaN\n",
              "Ex17_Nb19    0.9832\n",
              "Ex18_Nb21    0.9792\n",
              "Ex19_Nb26       NaN\n",
              "Ex20_Nb29       NaN\n",
              "Name: Train_Accuracy, dtype: float64"
            ]
          },
          "metadata": {
            "tags": []
          },
          "execution_count": 15
        }
      ]
    },
    {
      "cell_type": "code",
      "metadata": {
        "colab": {
          "base_uri": "https://localhost:8080/"
        },
        "id": "8POfWU65ExNj",
        "outputId": "1491406c-58a9-491b-a410-799ee3c64669"
      },
      "source": [
        "df_transposed[\"Train_Accuracy\"].mean()"
      ],
      "execution_count": null,
      "outputs": [
        {
          "output_type": "execute_result",
          "data": {
            "text/plain": [
              "0.957611111111111"
            ]
          },
          "metadata": {
            "tags": []
          },
          "execution_count": 16
        }
      ]
    },
    {
      "cell_type": "code",
      "metadata": {
        "colab": {
          "base_uri": "https://localhost:8080/"
        },
        "id": "6FbVcus9FRZt",
        "outputId": "fa574b50-25bd-4377-f8f8-29c814c651da"
      },
      "source": [
        "df_transposed[\"Train_F1_Score\"]"
      ],
      "execution_count": null,
      "outputs": [
        {
          "output_type": "execute_result",
          "data": {
            "text/plain": [
              "Ex1_Nb4      0.6569\n",
              "Ex2_Nb42        NaN\n",
              "Ex3_Nb45        NaN\n",
              "Ex4_Nb46        NaN\n",
              "Ex5_Nb8         NaN\n",
              "Ex6_Nb12        NaN\n",
              "Ex7_Nb20        NaN\n",
              "Ex8_Nb48        NaN\n",
              "Ex9_Nb49        NaN\n",
              "Ex10_Nb9        NaN\n",
              "Ex11_Nb10       NaN\n",
              "Ex12_Nb30       NaN\n",
              "Ex13_Nb32       NaN\n",
              "Ex14_Nb34       NaN\n",
              "Ex15_Nb41       NaN\n",
              "Ex16_Nb13       NaN\n",
              "Ex17_Nb19       NaN\n",
              "Ex18_Nb21       NaN\n",
              "Ex19_Nb26       NaN\n",
              "Ex20_Nb29       NaN\n",
              "Name: Train_F1_Score, dtype: float64"
            ]
          },
          "metadata": {
            "tags": []
          },
          "execution_count": 17
        }
      ]
    },
    {
      "cell_type": "code",
      "metadata": {
        "colab": {
          "base_uri": "https://localhost:8080/"
        },
        "id": "J3IgW5bQFaC7",
        "outputId": "0da54b6c-b1ee-4b14-c3fe-fd8f18680fb9"
      },
      "source": [
        "df_transposed[\"Train_F1_Score\"].mean()"
      ],
      "execution_count": null,
      "outputs": [
        {
          "output_type": "execute_result",
          "data": {
            "text/plain": [
              "0.6569"
            ]
          },
          "metadata": {
            "tags": []
          },
          "execution_count": 18
        }
      ]
    },
    {
      "cell_type": "code",
      "metadata": {
        "colab": {
          "base_uri": "https://localhost:8080/"
        },
        "id": "seqaL9LuRrZp",
        "outputId": "57d392e9-01bf-4c68-87b0-45b57e2e12bc"
      },
      "source": [
        "df_transposed[\"Validation_Accuracy\"]"
      ],
      "execution_count": null,
      "outputs": [
        {
          "output_type": "execute_result",
          "data": {
            "text/plain": [
              "Ex1_Nb4         NaN\n",
              "Ex2_Nb42     0.8618\n",
              "Ex3_Nb45        NaN\n",
              "Ex4_Nb46     0.9528\n",
              "Ex5_Nb8         NaN\n",
              "Ex6_Nb12        NaN\n",
              "Ex7_Nb20     0.9768\n",
              "Ex8_Nb48        NaN\n",
              "Ex9_Nb49        NaN\n",
              "Ex10_Nb9        NaN\n",
              "Ex11_Nb10    0.9597\n",
              "Ex12_Nb30    0.9460\n",
              "Ex13_Nb32    0.9672\n",
              "Ex14_Nb34       NaN\n",
              "Ex15_Nb41    0.9825\n",
              "Ex16_Nb13       NaN\n",
              "Ex17_Nb19       NaN\n",
              "Ex18_Nb21    0.9821\n",
              "Ex19_Nb26       NaN\n",
              "Ex20_Nb29       NaN\n",
              "Name: Validation_Accuracy, dtype: float64"
            ]
          },
          "metadata": {
            "tags": []
          },
          "execution_count": 19
        }
      ]
    },
    {
      "cell_type": "code",
      "metadata": {
        "colab": {
          "base_uri": "https://localhost:8080/"
        },
        "id": "tKyJvQHtR9Zn",
        "outputId": "8a2ef83f-9299-4213-f7dd-22d95363b42f"
      },
      "source": [
        "df_transposed[\"Validation_Accuracy\"].mean()"
      ],
      "execution_count": null,
      "outputs": [
        {
          "output_type": "execute_result",
          "data": {
            "text/plain": [
              "0.9536125"
            ]
          },
          "metadata": {
            "tags": []
          },
          "execution_count": 20
        }
      ]
    },
    {
      "cell_type": "code",
      "metadata": {
        "colab": {
          "base_uri": "https://localhost:8080/"
        },
        "id": "VQFiWaL2TiGe",
        "outputId": "01ccccc3-0e67-4951-edd8-23788ffdbcf3"
      },
      "source": [
        "df_transposed[\"Validation_F1_Score\"]"
      ],
      "execution_count": null,
      "outputs": [
        {
          "output_type": "execute_result",
          "data": {
            "text/plain": [
              "Ex1_Nb4         NaN\n",
              "Ex2_Nb42        NaN\n",
              "Ex3_Nb45        NaN\n",
              "Ex4_Nb46        NaN\n",
              "Ex5_Nb8      0.6745\n",
              "Ex6_Nb12        NaN\n",
              "Ex7_Nb20        NaN\n",
              "Ex8_Nb48        NaN\n",
              "Ex9_Nb49     0.6771\n",
              "Ex10_Nb9        NaN\n",
              "Ex11_Nb10       NaN\n",
              "Ex12_Nb30       NaN\n",
              "Ex13_Nb32       NaN\n",
              "Ex14_Nb34       NaN\n",
              "Ex15_Nb41       NaN\n",
              "Ex16_Nb13       NaN\n",
              "Ex17_Nb19       NaN\n",
              "Ex18_Nb21       NaN\n",
              "Ex19_Nb26       NaN\n",
              "Ex20_Nb29       NaN\n",
              "Name: Validation_F1_Score, dtype: float64"
            ]
          },
          "metadata": {
            "tags": []
          },
          "execution_count": 21
        }
      ]
    },
    {
      "cell_type": "code",
      "metadata": {
        "colab": {
          "base_uri": "https://localhost:8080/"
        },
        "id": "AvOSPdha_Adc",
        "outputId": "103f0115-8bdd-4a70-ad71-11a31d7a9b10"
      },
      "source": [
        "df_transposed[\"Validation_F1_Score\"].mean()"
      ],
      "execution_count": null,
      "outputs": [
        {
          "output_type": "execute_result",
          "data": {
            "text/plain": [
              "0.6758"
            ]
          },
          "metadata": {
            "tags": []
          },
          "execution_count": 22
        }
      ]
    },
    {
      "cell_type": "code",
      "metadata": {
        "colab": {
          "base_uri": "https://localhost:8080/"
        },
        "id": "moS3RJYtTnvK",
        "outputId": "1eca4953-61a3-4ced-93c5-cc92a8ef0f68"
      },
      "source": [
        "df_transposed[\"Test_Accuracy\"]"
      ],
      "execution_count": null,
      "outputs": [
        {
          "output_type": "execute_result",
          "data": {
            "text/plain": [
              "Ex1_Nb4     NaN\n",
              "Ex2_Nb42    NaN\n",
              "Ex3_Nb45    NaN\n",
              "Ex4_Nb46    NaN\n",
              "Ex5_Nb8     NaN\n",
              "Ex6_Nb12    NaN\n",
              "Ex7_Nb20    NaN\n",
              "Ex8_Nb48    NaN\n",
              "Ex9_Nb49    NaN\n",
              "Ex10_Nb9    NaN\n",
              "Ex11_Nb10   NaN\n",
              "Ex12_Nb30   NaN\n",
              "Ex13_Nb32   NaN\n",
              "Ex14_Nb34   NaN\n",
              "Ex15_Nb41   NaN\n",
              "Ex16_Nb13   NaN\n",
              "Ex17_Nb19   NaN\n",
              "Ex18_Nb21   NaN\n",
              "Ex19_Nb26   NaN\n",
              "Ex20_Nb29   NaN\n",
              "Name: Test_Accuracy, dtype: float64"
            ]
          },
          "metadata": {
            "tags": []
          },
          "execution_count": 23
        }
      ]
    },
    {
      "cell_type": "code",
      "metadata": {
        "colab": {
          "base_uri": "https://localhost:8080/"
        },
        "id": "rgp4OPR1UMLI",
        "outputId": "6991155a-e013-46e4-f40a-bb76ebfd26f6"
      },
      "source": [
        "df_transposed[\"Test_F1_Score\"]"
      ],
      "execution_count": null,
      "outputs": [
        {
          "output_type": "execute_result",
          "data": {
            "text/plain": [
              "Ex1_Nb4         NaN\n",
              "Ex2_Nb42        NaN\n",
              "Ex3_Nb45        NaN\n",
              "Ex4_Nb46        NaN\n",
              "Ex5_Nb8      0.6539\n",
              "Ex6_Nb12        NaN\n",
              "Ex7_Nb20        NaN\n",
              "Ex8_Nb48        NaN\n",
              "Ex9_Nb49     0.6923\n",
              "Ex10_Nb9        NaN\n",
              "Ex11_Nb10       NaN\n",
              "Ex12_Nb30       NaN\n",
              "Ex13_Nb32       NaN\n",
              "Ex14_Nb34       NaN\n",
              "Ex15_Nb41       NaN\n",
              "Ex16_Nb13       NaN\n",
              "Ex17_Nb19       NaN\n",
              "Ex18_Nb21       NaN\n",
              "Ex19_Nb26       NaN\n",
              "Ex20_Nb29       NaN\n",
              "Name: Test_F1_Score, dtype: float64"
            ]
          },
          "metadata": {
            "tags": []
          },
          "execution_count": 24
        }
      ]
    },
    {
      "cell_type": "code",
      "metadata": {
        "colab": {
          "base_uri": "https://localhost:8080/"
        },
        "id": "cMXq5NF0UUqe",
        "outputId": "07fcb886-238b-476f-ea5d-9cf7b4bf46ea"
      },
      "source": [
        "df_transposed[\"Delta_Between_Validation_Test\"]"
      ],
      "execution_count": null,
      "outputs": [
        {
          "output_type": "execute_result",
          "data": {
            "text/plain": [
              "Ex1_Nb4      NaN\n",
              "Ex2_Nb42     NaN\n",
              "Ex3_Nb45     NaN\n",
              "Ex4_Nb46     NaN\n",
              "Ex5_Nb8      NaN\n",
              "Ex6_Nb12     NaN\n",
              "Ex7_Nb20     NaN\n",
              "Ex8_Nb48     NaN\n",
              "Ex9_Nb49     NaN\n",
              "Ex10_Nb9     NaN\n",
              "Ex11_Nb10    NaN\n",
              "Ex12_Nb30    NaN\n",
              "Ex13_Nb32    NaN\n",
              "Ex14_Nb34    NaN\n",
              "Ex15_Nb41    NaN\n",
              "Ex16_Nb13    NaN\n",
              "Ex17_Nb19    NaN\n",
              "Ex18_Nb21    NaN\n",
              "Ex19_Nb26    NaN\n",
              "Ex20_Nb29    NaN\n",
              "Name: Delta_Between_Validation_Test, dtype: object"
            ]
          },
          "metadata": {
            "tags": []
          },
          "execution_count": 25
        }
      ]
    },
    {
      "cell_type": "code",
      "metadata": {
        "colab": {
          "base_uri": "https://localhost:8080/"
        },
        "id": "T-KqLk3cUchk",
        "outputId": "f4ec43ed-f3e0-4b78-c070-781d3c7dda04"
      },
      "source": [
        "df_transposed[\"Memory\"]"
      ],
      "execution_count": null,
      "outputs": [
        {
          "output_type": "execute_result",
          "data": {
            "text/plain": [
              "Ex1_Nb4      NaN\n",
              "Ex2_Nb42     NaN\n",
              "Ex3_Nb45     NaN\n",
              "Ex4_Nb46     NaN\n",
              "Ex5_Nb8      NaN\n",
              "Ex6_Nb12     NaN\n",
              "Ex7_Nb20     NaN\n",
              "Ex8_Nb48     NaN\n",
              "Ex9_Nb49     NaN\n",
              "Ex10_Nb9     NaN\n",
              "Ex11_Nb10    NaN\n",
              "Ex12_Nb30    NaN\n",
              "Ex13_Nb32    NaN\n",
              "Ex14_Nb34    NaN\n",
              "Ex15_Nb41    NaN\n",
              "Ex16_Nb13    NaN\n",
              "Ex17_Nb19    NaN\n",
              "Ex18_Nb21    NaN\n",
              "Ex19_Nb26    NaN\n",
              "Ex20_Nb29    NaN\n",
              "Name: Memory, dtype: object"
            ]
          },
          "metadata": {
            "tags": []
          },
          "execution_count": 26
        }
      ]
    },
    {
      "cell_type": "code",
      "metadata": {
        "colab": {
          "base_uri": "https://localhost:8080/"
        },
        "id": "t2RM1YC0VKMf",
        "outputId": "b3028839-f70e-442a-dcd2-2a61bc9e41e1"
      },
      "source": [
        "df_transposed[\"Physical_Size\"] #Physical size of data set in hard disk"
      ],
      "execution_count": null,
      "outputs": [
        {
          "output_type": "execute_result",
          "data": {
            "text/plain": [
              "Ex1_Nb4       6.11\n",
              "Ex2_Nb42      4.45\n",
              "Ex3_Nb45      6.11\n",
              "Ex4_Nb46      6.11\n",
              "Ex5_Nb8       6.11\n",
              "Ex6_Nb12      6.11\n",
              "Ex7_Nb20      3.96\n",
              "Ex8_Nb48      6.11\n",
              "Ex9_Nb49      6.11\n",
              "Ex10_Nb9      6.11\n",
              "Ex11_Nb10     6.11\n",
              "Ex12_Nb30     3.34\n",
              "Ex13_Nb32     6.42\n",
              "Ex14_Nb34     8.35\n",
              "Ex15_Nb41     9.76\n",
              "Ex16_Nb13     6.11\n",
              "Ex17_Nb19     0.05\n",
              "Ex18_Nb21     0.21\n",
              "Ex19_Nb26    11.68\n",
              "Ex20_Nb29    11.68\n",
              "Name: Physical_Size, dtype: float64"
            ]
          },
          "metadata": {
            "tags": []
          },
          "execution_count": 27
        }
      ]
    },
    {
      "cell_type": "code",
      "metadata": {
        "colab": {
          "base_uri": "https://localhost:8080/"
        },
        "id": "0O9xrKELVXc3",
        "outputId": "c7df5acd-a601-4741-b72b-bedb3b5b047b"
      },
      "source": [
        "df_transposed[\"Physical_Size\"].mean()"
      ],
      "execution_count": null,
      "outputs": [
        {
          "output_type": "execute_result",
          "data": {
            "text/plain": [
              "6.05"
            ]
          },
          "metadata": {
            "tags": []
          },
          "execution_count": 29
        }
      ]
    },
    {
      "cell_type": "code",
      "metadata": {
        "colab": {
          "base_uri": "https://localhost:8080/",
          "height": 164
        },
        "id": "zhiC-viFWtke",
        "outputId": "d3d8d4d0-839f-4801-b217-d79086d608d2"
      },
      "source": [
        "df_transposed[\"Vote_Count\"]"
      ],
      "execution_count": null,
      "outputs": [
        {
          "output_type": "error",
          "ename": "NameError",
          "evalue": "ignored",
          "traceback": [
            "\u001b[0;31m---------------------------------------------------------------------------\u001b[0m",
            "\u001b[0;31mNameError\u001b[0m                                 Traceback (most recent call last)",
            "\u001b[0;32m<ipython-input-1-1fea264e1014>\u001b[0m in \u001b[0;36m<module>\u001b[0;34m()\u001b[0m\n\u001b[0;32m----> 1\u001b[0;31m \u001b[0mdf_transposed\u001b[0m\u001b[0;34m[\u001b[0m\u001b[0;34m\"Vote_Count\"\u001b[0m\u001b[0;34m]\u001b[0m\u001b[0;34m\u001b[0m\u001b[0;34m\u001b[0m\u001b[0m\n\u001b[0m",
            "\u001b[0;31mNameError\u001b[0m: name 'df_transposed' is not defined"
          ]
        }
      ]
    },
    {
      "cell_type": "code",
      "metadata": {
        "colab": {
          "base_uri": "https://localhost:8080/"
        },
        "id": "o_Hu6pQEW0SW",
        "outputId": "fc396bb2-a825-4cc5-f25e-bfa1b2c9d249"
      },
      "source": [
        "df_transposed[\"Vote_Count\"].mean()"
      ],
      "execution_count": null,
      "outputs": [
        {
          "output_type": "execute_result",
          "data": {
            "text/plain": [
              "322.2"
            ]
          },
          "metadata": {
            "tags": []
          },
          "execution_count": 53
        }
      ]
    },
    {
      "cell_type": "code",
      "metadata": {
        "colab": {
          "base_uri": "https://localhost:8080/"
        },
        "id": "t6FzNPYXYHjd",
        "outputId": "245fec73-ee77-43ce-c506-2d8fd35afcdc"
      },
      "source": [
        "df_transposed[\"Last_Modified_Time\"].value_counts() #Based on value counts, mean is 2.3 years ago"
      ],
      "execution_count": null,
      "outputs": [
        {
          "output_type": "execute_result",
          "data": {
            "text/plain": [
              "2 years ago    15\n",
              "3 years ago     5\n",
              "Name: Last_Modified_Time, dtype: int64"
            ]
          },
          "metadata": {
            "tags": []
          },
          "execution_count": 54
        }
      ]
    },
    {
      "cell_type": "code",
      "metadata": {
        "colab": {
          "base_uri": "https://localhost:8080/"
        },
        "id": "jaPLVFF7ZWMV",
        "outputId": "d1a78a78-20f9-4fe7-d65e-d13604921930"
      },
      "source": [
        "df_transposed[\"Number_Of_Experiments\"] #This is for notebook level"
      ],
      "execution_count": null,
      "outputs": [
        {
          "output_type": "execute_result",
          "data": {
            "text/plain": [
              "Ex1_Nb4      5\n",
              "Ex2_Nb42     5\n",
              "Ex3_Nb45     1\n",
              "Ex4_Nb46     4\n",
              "Ex5_Nb8      1\n",
              "Ex6_Nb12     1\n",
              "Ex7_Nb20     3\n",
              "Ex8_Nb48     1\n",
              "Ex9_Nb49     1\n",
              "Ex10_Nb9     1\n",
              "Ex11_Nb10    1\n",
              "Ex12_Nb30    1\n",
              "Ex13_Nb32    1\n",
              "Ex14_Nb34    1\n",
              "Ex15_Nb41    1\n",
              "Ex16_Nb13    1\n",
              "Ex17_Nb19    1\n",
              "Ex18_Nb21    1\n",
              "Ex19_Nb26    1\n",
              "Ex20_Nb29    1\n",
              "Name: Number_Of_Experiments, dtype: int64"
            ]
          },
          "metadata": {
            "tags": []
          },
          "execution_count": 55
        }
      ]
    },
    {
      "cell_type": "code",
      "metadata": {
        "colab": {
          "base_uri": "https://localhost:8080/"
        },
        "id": "x9QNmjCtZizd",
        "outputId": "6d66315e-3301-47b6-9f4e-5b2aed53d53c"
      },
      "source": [
        "df_transposed[\"Number_Of_Experiments\"].mean()"
      ],
      "execution_count": null,
      "outputs": [
        {
          "output_type": "execute_result",
          "data": {
            "text/plain": [
              "1.65"
            ]
          },
          "metadata": {
            "tags": []
          },
          "execution_count": 56
        }
      ]
    },
    {
      "cell_type": "markdown",
      "metadata": {
        "id": "lRKyc_5Pfalx"
      },
      "source": [
        "# **NLP Experiments - Model Selection**"
      ]
    },
    {
      "cell_type": "code",
      "metadata": {
        "colab": {
          "base_uri": "https://localhost:8080/",
          "height": 479
        },
        "id": "pbt9uspIffex",
        "outputId": "30fc7dee-d2ac-40e5-a13c-6d7f6f4d5c93"
      },
      "source": [
        "df_nlp_model_selection = pd.read_csv('/content/gdrive/MyDrive/Colab Notebooks/NLP_Experiments_Model_Selection.csv', encoding='ISO-8859-1')\n",
        "df_nlp_model_selection.head()"
      ],
      "execution_count": null,
      "outputs": [
        {
          "output_type": "execute_result",
          "data": {
            "text/html": [
              "<div>\n",
              "<style scoped>\n",
              "    .dataframe tbody tr th:only-of-type {\n",
              "        vertical-align: middle;\n",
              "    }\n",
              "\n",
              "    .dataframe tbody tr th {\n",
              "        vertical-align: top;\n",
              "    }\n",
              "\n",
              "    .dataframe thead th {\n",
              "        text-align: right;\n",
              "    }\n",
              "</style>\n",
              "<table border=\"1\" class=\"dataframe\">\n",
              "  <thead>\n",
              "    <tr style=\"text-align: right;\">\n",
              "      <th></th>\n",
              "      <th>Property</th>\n",
              "      <th>Dimension</th>\n",
              "      <th>Experi_1</th>\n",
              "      <th>Experi_2</th>\n",
              "      <th>Experi_3</th>\n",
              "      <th>Experi_4</th>\n",
              "      <th>Experi_5</th>\n",
              "      <th>Experi_6</th>\n",
              "      <th>Experi_7</th>\n",
              "      <th>Experi_8</th>\n",
              "      <th>Experi_9</th>\n",
              "      <th>Experi_10</th>\n",
              "      <th>Experi_11</th>\n",
              "      <th>Experi_12</th>\n",
              "      <th>Experi_13</th>\n",
              "      <th>Experi_14</th>\n",
              "      <th>Experi_15</th>\n",
              "      <th>Experi_16</th>\n",
              "      <th>Experi_17</th>\n",
              "      <th>Experi_18</th>\n",
              "      <th>Experi_19</th>\n",
              "      <th>Experi_20</th>\n",
              "    </tr>\n",
              "  </thead>\n",
              "  <tbody>\n",
              "    <tr>\n",
              "      <th>0</th>\n",
              "      <td>Construction</td>\n",
              "      <td>Choice of Metrics - Binary Cross Entropy</td>\n",
              "      <td>1</td>\n",
              "      <td>1</td>\n",
              "      <td>1</td>\n",
              "      <td>1</td>\n",
              "      <td>1</td>\n",
              "      <td>0</td>\n",
              "      <td>1</td>\n",
              "      <td>1</td>\n",
              "      <td>1</td>\n",
              "      <td>1</td>\n",
              "      <td>1</td>\n",
              "      <td>NaN</td>\n",
              "      <td>NaN</td>\n",
              "      <td>NaN</td>\n",
              "      <td>NaN</td>\n",
              "      <td>0</td>\n",
              "      <td>1</td>\n",
              "      <td>1</td>\n",
              "      <td>0</td>\n",
              "      <td>0</td>\n",
              "    </tr>\n",
              "    <tr>\n",
              "      <th>1</th>\n",
              "      <td>Construction</td>\n",
              "      <td>Choice of Metrics - Accuracy</td>\n",
              "      <td>1</td>\n",
              "      <td>1</td>\n",
              "      <td>1</td>\n",
              "      <td>1</td>\n",
              "      <td>0</td>\n",
              "      <td>0</td>\n",
              "      <td>1</td>\n",
              "      <td>1</td>\n",
              "      <td>1</td>\n",
              "      <td>0</td>\n",
              "      <td>1</td>\n",
              "      <td>NaN</td>\n",
              "      <td>NaN</td>\n",
              "      <td>NaN</td>\n",
              "      <td>NaN</td>\n",
              "      <td>0</td>\n",
              "      <td>1</td>\n",
              "      <td>1</td>\n",
              "      <td>0</td>\n",
              "      <td>0</td>\n",
              "    </tr>\n",
              "    <tr>\n",
              "      <th>2</th>\n",
              "      <td>Construction</td>\n",
              "      <td>Choice of Metrics - F1 Score</td>\n",
              "      <td>1</td>\n",
              "      <td>1</td>\n",
              "      <td>1</td>\n",
              "      <td>1</td>\n",
              "      <td>1</td>\n",
              "      <td>1</td>\n",
              "      <td>0</td>\n",
              "      <td>0</td>\n",
              "      <td>0</td>\n",
              "      <td>1</td>\n",
              "      <td>0</td>\n",
              "      <td>NaN</td>\n",
              "      <td>NaN</td>\n",
              "      <td>NaN</td>\n",
              "      <td>NaN</td>\n",
              "      <td>0</td>\n",
              "      <td>0</td>\n",
              "      <td>0</td>\n",
              "      <td>0</td>\n",
              "      <td>NaN</td>\n",
              "    </tr>\n",
              "    <tr>\n",
              "      <th>3</th>\n",
              "      <td>Construction</td>\n",
              "      <td>Model Validation Strategy - KFold</td>\n",
              "      <td>0</td>\n",
              "      <td>0</td>\n",
              "      <td>0</td>\n",
              "      <td>1</td>\n",
              "      <td>0</td>\n",
              "      <td>0</td>\n",
              "      <td>0</td>\n",
              "      <td>0</td>\n",
              "      <td>0</td>\n",
              "      <td>0</td>\n",
              "      <td>0</td>\n",
              "      <td>NaN</td>\n",
              "      <td>NaN</td>\n",
              "      <td>NaN</td>\n",
              "      <td>NaN</td>\n",
              "      <td>0</td>\n",
              "      <td>0</td>\n",
              "      <td>0</td>\n",
              "      <td>0</td>\n",
              "      <td>0</td>\n",
              "    </tr>\n",
              "    <tr>\n",
              "      <th>4</th>\n",
              "      <td>Construction</td>\n",
              "      <td>Model Validation Strategy - Stratified KFold</td>\n",
              "      <td>0</td>\n",
              "      <td>0</td>\n",
              "      <td>0</td>\n",
              "      <td>0</td>\n",
              "      <td>1</td>\n",
              "      <td>1</td>\n",
              "      <td>0</td>\n",
              "      <td>0</td>\n",
              "      <td>0</td>\n",
              "      <td>1</td>\n",
              "      <td>0</td>\n",
              "      <td>NaN</td>\n",
              "      <td>NaN</td>\n",
              "      <td>NaN</td>\n",
              "      <td>NaN</td>\n",
              "      <td>1</td>\n",
              "      <td>0</td>\n",
              "      <td>0</td>\n",
              "      <td>0</td>\n",
              "      <td>0</td>\n",
              "    </tr>\n",
              "  </tbody>\n",
              "</table>\n",
              "</div>"
            ],
            "text/plain": [
              "       Property  ... Experi_20\n",
              "0  Construction  ...         0\n",
              "1  Construction  ...         0\n",
              "2  Construction  ...       NaN\n",
              "3  Construction  ...         0\n",
              "4  Construction  ...         0\n",
              "\n",
              "[5 rows x 22 columns]"
            ]
          },
          "metadata": {
            "tags": []
          },
          "execution_count": 150
        }
      ]
    },
    {
      "cell_type": "code",
      "metadata": {
        "colab": {
          "base_uri": "https://localhost:8080/"
        },
        "id": "jdmcsHshf2JV",
        "outputId": "35d7eb38-f0db-46ff-9f02-6525e8efca2e"
      },
      "source": [
        "#Calculating sparseness of experiment data\n",
        "df_nlp_model_selection.isnull().sum()/len(df)*100"
      ],
      "execution_count": null,
      "outputs": [
        {
          "output_type": "execute_result",
          "data": {
            "text/plain": [
              "Property      0.000000\n",
              "Dimension     0.000000\n",
              "Experi_1     31.578947\n",
              "Experi_2     36.842105\n",
              "Experi_3     36.842105\n",
              "Experi_4     36.842105\n",
              "Experi_5     36.842105\n",
              "Experi_6     42.105263\n",
              "Experi_7     36.842105\n",
              "Experi_8     36.842105\n",
              "Experi_9     36.842105\n",
              "Experi_10    42.105263\n",
              "Experi_11    31.578947\n",
              "Experi_12    57.894737\n",
              "Experi_13    57.894737\n",
              "Experi_14    78.947368\n",
              "Experi_15    63.157895\n",
              "Experi_16    42.105263\n",
              "Experi_17    42.105263\n",
              "Experi_18    42.105263\n",
              "Experi_19    42.105263\n",
              "Experi_20    57.894737\n",
              "dtype: float64"
            ]
          },
          "metadata": {
            "tags": []
          },
          "execution_count": 152
        }
      ]
    },
    {
      "cell_type": "code",
      "metadata": {
        "id": "79HeQfVVf-dD"
      },
      "source": [
        ""
      ],
      "execution_count": null,
      "outputs": []
    }
  ]
}